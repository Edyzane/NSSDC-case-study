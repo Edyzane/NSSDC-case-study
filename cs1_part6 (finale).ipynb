{
 "cells": [
  {
   "cell_type": "markdown",
   "id": "patent-marketplace",
   "metadata": {},
   "source": [
    "# train new model with selected features and revert log transformation"
   ]
  },
  {
   "cell_type": "code",
   "execution_count": 1,
   "id": "environmental-photograph",
   "metadata": {},
   "outputs": [],
   "source": [
    "#importing libraries\n",
    "from sklearn.datasets import load_boston\n",
    "import pandas as pd\n",
    "import numpy as np\n",
    "import matplotlib\n",
    "import matplotlib.pyplot as plt\n",
    "import seaborn as sns\n",
    "\n",
    "%matplotlib inline\n",
    "from sklearn.model_selection import train_test_split\n",
    "from sklearn.linear_model import LinearRegression\n",
    "from sklearn.feature_selection import RFE\n",
    "from sklearn.linear_model import RidgeCV, LassoCV, Ridge, Lasso\n",
    "from sklearn.metrics import mean_squared_error, mean_absolute_error,r2_score\n",
    "import scipy as sp\n",
    "from joblib import dump\n",
    "from sklearn.linear_model import ElasticNet\n",
    "from sklearn.model_selection import GridSearchCV\n",
    "from sklearn.preprocessing import StandardScaler\n",
    "from sklearn.metrics import r2_score"
   ]
  },
  {
   "cell_type": "code",
   "execution_count": 2,
   "id": "certain-healthcare",
   "metadata": {},
   "outputs": [],
   "source": [
    "df = pd.read_csv(\"cs1_part3_res.csv\")"
   ]
  },
  {
   "cell_type": "code",
   "execution_count": 3,
   "id": "together-residence",
   "metadata": {},
   "outputs": [],
   "source": [
    "#include saleprice here\n",
    "df = df[['lot_area', 'year_built', 'year_remod/add', 'mas_vnr_area',\n",
    "       'bsmtfin_sf_1', 'total_bsmt_sf', '2nd_flr_sf', 'gr_liv_area',\n",
    "       'garage_yr_blt', 'garage_area', 'wood_deck_sf', 'open_porch_sf',\n",
    "       'screen_porch','saleprice']]"
   ]
  },
  {
   "cell_type": "markdown",
   "id": "handy-capture",
   "metadata": {},
   "source": [
    "# result of testing with deployment\n",
    "\n",
    "index,actual,predicted,difference\n",
    "\n",
    "2906, 70999.98292913866, 113441.06, 42442\n",
    "\n",
    "2907, 150899.95900937598, 213214.95, 62315\n",
    "\n",
    "2908, 188000.08254244438, 224813.55, 36813\n",
    "\n",
    "2909, 159999.94492823596, 161209.56, 1210\n",
    "\n",
    "2910, 130999.96911757377, 162663.79, 31664\n",
    "\n",
    "2911, 142499.9577897737, 151870.90, 9371\n",
    "\n",
    "2912, 130999.96911757377, 132991.46, 1992\n",
    "\n",
    "2913, 132000.0293969709, 116182.95, -15818\n",
    "\n",
    "2914, 170000.0682778486, 177016.31, 7016\n",
    "\n",
    "2915, 188000.08254244438, 232543.53, 44543"
   ]
  },
  {
   "cell_type": "code",
   "execution_count": 4,
   "id": "super-robertson",
   "metadata": {},
   "outputs": [
    {
     "data": {
      "text/html": [
       "<div>\n",
       "<style scoped>\n",
       "    .dataframe tbody tr th:only-of-type {\n",
       "        vertical-align: middle;\n",
       "    }\n",
       "\n",
       "    .dataframe tbody tr th {\n",
       "        vertical-align: top;\n",
       "    }\n",
       "\n",
       "    .dataframe thead th {\n",
       "        text-align: right;\n",
       "    }\n",
       "</style>\n",
       "<table border=\"1\" class=\"dataframe\">\n",
       "  <thead>\n",
       "    <tr style=\"text-align: right;\">\n",
       "      <th></th>\n",
       "      <th>lot_area</th>\n",
       "      <th>year_built</th>\n",
       "      <th>year_remod/add</th>\n",
       "      <th>mas_vnr_area</th>\n",
       "      <th>bsmtfin_sf_1</th>\n",
       "      <th>total_bsmt_sf</th>\n",
       "      <th>2nd_flr_sf</th>\n",
       "      <th>gr_liv_area</th>\n",
       "      <th>garage_yr_blt</th>\n",
       "      <th>garage_area</th>\n",
       "      <th>wood_deck_sf</th>\n",
       "      <th>open_porch_sf</th>\n",
       "      <th>screen_porch</th>\n",
       "      <th>saleprice</th>\n",
       "    </tr>\n",
       "  </thead>\n",
       "  <tbody>\n",
       "    <tr>\n",
       "      <th>2906</th>\n",
       "      <td>1894</td>\n",
       "      <td>1970</td>\n",
       "      <td>1970</td>\n",
       "      <td>0.0</td>\n",
       "      <td>252.0</td>\n",
       "      <td>546.0</td>\n",
       "      <td>546</td>\n",
       "      <td>1092</td>\n",
       "      <td>1970.0</td>\n",
       "      <td>286.0</td>\n",
       "      <td>0</td>\n",
       "      <td>24</td>\n",
       "      <td>0</td>\n",
       "      <td>11.170449</td>\n",
       "    </tr>\n",
       "    <tr>\n",
       "      <th>2907</th>\n",
       "      <td>12640</td>\n",
       "      <td>1976</td>\n",
       "      <td>1976</td>\n",
       "      <td>0.0</td>\n",
       "      <td>936.0</td>\n",
       "      <td>1728.0</td>\n",
       "      <td>0</td>\n",
       "      <td>1728</td>\n",
       "      <td>1976.0</td>\n",
       "      <td>574.0</td>\n",
       "      <td>40</td>\n",
       "      <td>0</td>\n",
       "      <td>0</td>\n",
       "      <td>11.924379</td>\n",
       "    </tr>\n",
       "    <tr>\n",
       "      <th>2908</th>\n",
       "      <td>9297</td>\n",
       "      <td>1976</td>\n",
       "      <td>1976</td>\n",
       "      <td>0.0</td>\n",
       "      <td>1606.0</td>\n",
       "      <td>1728.0</td>\n",
       "      <td>0</td>\n",
       "      <td>1728</td>\n",
       "      <td>1976.0</td>\n",
       "      <td>560.0</td>\n",
       "      <td>0</td>\n",
       "      <td>0</td>\n",
       "      <td>0</td>\n",
       "      <td>12.144203</td>\n",
       "    </tr>\n",
       "    <tr>\n",
       "      <th>2909</th>\n",
       "      <td>17400</td>\n",
       "      <td>1977</td>\n",
       "      <td>1977</td>\n",
       "      <td>0.0</td>\n",
       "      <td>936.0</td>\n",
       "      <td>1126.0</td>\n",
       "      <td>0</td>\n",
       "      <td>1126</td>\n",
       "      <td>1977.0</td>\n",
       "      <td>484.0</td>\n",
       "      <td>295</td>\n",
       "      <td>41</td>\n",
       "      <td>0</td>\n",
       "      <td>11.982935</td>\n",
       "    </tr>\n",
       "    <tr>\n",
       "      <th>2910</th>\n",
       "      <td>20000</td>\n",
       "      <td>1960</td>\n",
       "      <td>1996</td>\n",
       "      <td>0.0</td>\n",
       "      <td>1224.0</td>\n",
       "      <td>1224.0</td>\n",
       "      <td>0</td>\n",
       "      <td>1224</td>\n",
       "      <td>1960.0</td>\n",
       "      <td>576.0</td>\n",
       "      <td>474</td>\n",
       "      <td>0</td>\n",
       "      <td>0</td>\n",
       "      <td>11.782960</td>\n",
       "    </tr>\n",
       "    <tr>\n",
       "      <th>2911</th>\n",
       "      <td>7937</td>\n",
       "      <td>1984</td>\n",
       "      <td>1984</td>\n",
       "      <td>0.0</td>\n",
       "      <td>819.0</td>\n",
       "      <td>1003.0</td>\n",
       "      <td>0</td>\n",
       "      <td>1003</td>\n",
       "      <td>1984.0</td>\n",
       "      <td>588.0</td>\n",
       "      <td>120</td>\n",
       "      <td>0</td>\n",
       "      <td>0</td>\n",
       "      <td>11.867104</td>\n",
       "    </tr>\n",
       "    <tr>\n",
       "      <th>2912</th>\n",
       "      <td>8885</td>\n",
       "      <td>1983</td>\n",
       "      <td>1983</td>\n",
       "      <td>0.0</td>\n",
       "      <td>301.0</td>\n",
       "      <td>864.0</td>\n",
       "      <td>0</td>\n",
       "      <td>902</td>\n",
       "      <td>1983.0</td>\n",
       "      <td>484.0</td>\n",
       "      <td>164</td>\n",
       "      <td>0</td>\n",
       "      <td>0</td>\n",
       "      <td>11.782960</td>\n",
       "    </tr>\n",
       "    <tr>\n",
       "      <th>2913</th>\n",
       "      <td>10441</td>\n",
       "      <td>1992</td>\n",
       "      <td>1992</td>\n",
       "      <td>0.0</td>\n",
       "      <td>337.0</td>\n",
       "      <td>912.0</td>\n",
       "      <td>0</td>\n",
       "      <td>970</td>\n",
       "      <td>0.0</td>\n",
       "      <td>0.0</td>\n",
       "      <td>80</td>\n",
       "      <td>32</td>\n",
       "      <td>0</td>\n",
       "      <td>11.790565</td>\n",
       "    </tr>\n",
       "    <tr>\n",
       "      <th>2914</th>\n",
       "      <td>10010</td>\n",
       "      <td>1974</td>\n",
       "      <td>1975</td>\n",
       "      <td>0.0</td>\n",
       "      <td>1071.0</td>\n",
       "      <td>1389.0</td>\n",
       "      <td>0</td>\n",
       "      <td>1389</td>\n",
       "      <td>1975.0</td>\n",
       "      <td>418.0</td>\n",
       "      <td>240</td>\n",
       "      <td>38</td>\n",
       "      <td>0</td>\n",
       "      <td>12.043560</td>\n",
       "    </tr>\n",
       "    <tr>\n",
       "      <th>2915</th>\n",
       "      <td>9627</td>\n",
       "      <td>1993</td>\n",
       "      <td>1994</td>\n",
       "      <td>94.0</td>\n",
       "      <td>758.0</td>\n",
       "      <td>996.0</td>\n",
       "      <td>1004</td>\n",
       "      <td>2000</td>\n",
       "      <td>1993.0</td>\n",
       "      <td>650.0</td>\n",
       "      <td>190</td>\n",
       "      <td>48</td>\n",
       "      <td>0</td>\n",
       "      <td>12.144203</td>\n",
       "    </tr>\n",
       "  </tbody>\n",
       "</table>\n",
       "</div>"
      ],
      "text/plain": [
       "      lot_area  year_built  year_remod/add  mas_vnr_area  bsmtfin_sf_1  \\\n",
       "2906      1894        1970            1970           0.0         252.0   \n",
       "2907     12640        1976            1976           0.0         936.0   \n",
       "2908      9297        1976            1976           0.0        1606.0   \n",
       "2909     17400        1977            1977           0.0         936.0   \n",
       "2910     20000        1960            1996           0.0        1224.0   \n",
       "2911      7937        1984            1984           0.0         819.0   \n",
       "2912      8885        1983            1983           0.0         301.0   \n",
       "2913     10441        1992            1992           0.0         337.0   \n",
       "2914     10010        1974            1975           0.0        1071.0   \n",
       "2915      9627        1993            1994          94.0         758.0   \n",
       "\n",
       "      total_bsmt_sf  2nd_flr_sf  gr_liv_area  garage_yr_blt  garage_area  \\\n",
       "2906          546.0         546         1092         1970.0        286.0   \n",
       "2907         1728.0           0         1728         1976.0        574.0   \n",
       "2908         1728.0           0         1728         1976.0        560.0   \n",
       "2909         1126.0           0         1126         1977.0        484.0   \n",
       "2910         1224.0           0         1224         1960.0        576.0   \n",
       "2911         1003.0           0         1003         1984.0        588.0   \n",
       "2912          864.0           0          902         1983.0        484.0   \n",
       "2913          912.0           0          970            0.0          0.0   \n",
       "2914         1389.0           0         1389         1975.0        418.0   \n",
       "2915          996.0        1004         2000         1993.0        650.0   \n",
       "\n",
       "      wood_deck_sf  open_porch_sf  screen_porch  saleprice  \n",
       "2906             0             24             0  11.170449  \n",
       "2907            40              0             0  11.924379  \n",
       "2908             0              0             0  12.144203  \n",
       "2909           295             41             0  11.982935  \n",
       "2910           474              0             0  11.782960  \n",
       "2911           120              0             0  11.867104  \n",
       "2912           164              0             0  11.782960  \n",
       "2913            80             32             0  11.790565  \n",
       "2914           240             38             0  12.043560  \n",
       "2915           190             48             0  12.144203  "
      ]
     },
     "execution_count": 4,
     "metadata": {},
     "output_type": "execute_result"
    }
   ],
   "source": [
    "df.tail(10)"
   ]
  },
  {
   "cell_type": "code",
   "execution_count": 5,
   "id": "sixth-sculpture",
   "metadata": {},
   "outputs": [
    {
     "name": "stdout",
     "output_type": "stream",
     "text": [
      "150899.95900937598\n"
     ]
    }
   ],
   "source": [
    "#testing purpose\n",
    "x = np.expm1(11.924379)\n",
    "print(x)"
   ]
  },
  {
   "cell_type": "code",
   "execution_count": 6,
   "id": "acoustic-mandate",
   "metadata": {},
   "outputs": [],
   "source": [
    "#Create  and y \n",
    "X = df.drop('saleprice',axis=1)\n",
    "y = df['saleprice']"
   ]
  },
  {
   "cell_type": "code",
   "execution_count": 7,
   "id": "grand-claim",
   "metadata": {},
   "outputs": [],
   "source": [
    "##Log transformation of sale price for whole training set\n",
    "#decide to disable this and put it in the deployment instead\n",
    "#x = np.expm1(y)\n",
    "#df['saleprice'] = x"
   ]
  },
  {
   "cell_type": "code",
   "execution_count": 8,
   "id": "purple-summer",
   "metadata": {},
   "outputs": [],
   "source": [
    "from sklearn.model_selection import train_test_split\n",
    "X_train,X_test, y_train, y_test = train_test_split(X,y, test_size = 0.2)"
   ]
  },
  {
   "cell_type": "code",
   "execution_count": 9,
   "id": "sporting-evening",
   "metadata": {},
   "outputs": [],
   "source": [
    "from sklearn.preprocessing import StandardScaler\n",
    "scaler = StandardScaler()\n",
    "scaler.fit(X_train)\n",
    "X_train = scaler.transform(X_train)\n",
    "X_test = scaler.transform(X_test)"
   ]
  },
  {
   "cell_type": "code",
   "execution_count": 10,
   "id": "ancient-absence",
   "metadata": {},
   "outputs": [],
   "source": [
    "lasso_model = LassoCV()"
   ]
  },
  {
   "cell_type": "code",
   "execution_count": 11,
   "id": "patent-setup",
   "metadata": {},
   "outputs": [
    {
     "data": {
      "text/plain": [
       "LassoCV()"
      ]
     },
     "execution_count": 11,
     "metadata": {},
     "output_type": "execute_result"
    }
   ],
   "source": [
    "lasso_model.fit(X_train,y_train)"
   ]
  },
  {
   "cell_type": "code",
   "execution_count": 12,
   "id": "improving-being",
   "metadata": {},
   "outputs": [],
   "source": [
    "pred_test_lasso = lasso_model.predict(X_test)"
   ]
  },
  {
   "cell_type": "code",
   "execution_count": 13,
   "id": "mexican-democracy",
   "metadata": {},
   "outputs": [],
   "source": [
    "pred_test_lasso[pred_test_lasso<0] = 0"
   ]
  },
  {
   "cell_type": "code",
   "execution_count": 14,
   "id": "provincial-worker",
   "metadata": {},
   "outputs": [
    {
     "data": {
      "text/plain": [
       "array([12.87901804, 11.6239633 , 11.75237107, 11.57370565, 12.15356998,\n",
       "       11.7432605 , 12.01452347, 12.31735729, 12.69178285, 12.44832285,\n",
       "       12.11037211, 11.62766561, 12.50196781, 12.83810989, 11.5248769 ,\n",
       "       12.64799482, 12.62759459, 12.13422948, 11.88073458, 12.18549061,\n",
       "       11.65199072, 11.70454469, 11.78529465, 12.23328149, 12.04904152,\n",
       "       12.02642914, 12.31889493, 12.27753851, 11.73160491, 11.73376505,\n",
       "       12.89310798, 11.83924526, 11.66658199, 11.96134755, 12.86732084,\n",
       "       12.25033271, 11.71670761, 11.77975476, 11.88010128, 12.38647411,\n",
       "       12.55990824, 12.07085445, 11.7089348 , 12.03795292, 11.68237942,\n",
       "       11.84653664, 12.66932194, 11.6133441 , 11.58615472, 11.80166233,\n",
       "       11.62393905, 11.65768789, 12.61458784, 12.56667787, 11.55708872,\n",
       "       12.22999382, 12.44816749, 12.35314026, 12.10764018, 12.85863273,\n",
       "       12.02779509, 11.90851565, 12.98021435, 12.21347968, 12.12482991,\n",
       "       13.09294262, 12.13210625, 11.86162205, 12.22357081, 11.99150972,\n",
       "       12.10721698, 12.16113012, 11.73427609, 12.01080255, 12.63716671,\n",
       "       11.71050606, 12.38886845, 12.18130831, 12.22494399, 12.28557993,\n",
       "       11.71750424, 12.51377349, 11.7927986 , 11.78860693, 12.02797434,\n",
       "       11.78099708, 12.20959006, 12.33263231, 12.16107046, 11.80705898,\n",
       "       12.0334299 , 12.31973857, 11.53161878, 11.67173298, 12.32684854,\n",
       "       11.55899519, 11.63951116, 12.63732109, 12.27191235, 13.21305096,\n",
       "       12.37020738, 12.3146022 , 13.00229829, 12.49462439, 12.68897465,\n",
       "       11.75767945, 11.86255388, 11.78075157, 12.2814481 , 11.96150505,\n",
       "       12.35372267, 11.97969678, 12.40185202, 12.27956607, 11.69658451,\n",
       "       12.49733221, 11.69988645, 11.69196047, 12.27514527, 11.8242313 ,\n",
       "       11.72359358, 11.87481196, 11.5714535 , 12.11477216, 12.0942664 ,\n",
       "       11.59235628, 12.12612081, 12.58362236, 12.15418923, 11.63761549,\n",
       "       12.16165417, 11.71375634, 11.40008405, 11.84719045, 11.7539461 ,\n",
       "       11.7910786 , 11.66488332, 12.06117453, 11.49822338, 11.88704916,\n",
       "       12.04831474, 11.7551961 , 11.67194159, 11.87577544, 12.8648173 ,\n",
       "       11.47158851, 12.30902535, 12.16517301, 12.72456966, 12.0047547 ,\n",
       "       12.7254173 , 11.27501228, 11.80811372, 11.44454407, 11.92230645,\n",
       "       12.63768896, 11.81328307, 12.00504409, 11.89001524, 11.88630908,\n",
       "       11.3700304 , 11.187582  , 11.17405057, 11.28606744, 12.13403036,\n",
       "       12.08184111, 11.42073816, 12.22897851, 11.54360587, 12.06283993,\n",
       "       12.15366221, 12.26843728, 12.05684435, 12.8780152 , 12.0626146 ,\n",
       "       12.28151563, 12.09206514, 12.48221597, 12.40849564, 11.62654536,\n",
       "       12.66680334, 11.82987946, 12.2477428 , 11.80872628, 11.25795341,\n",
       "       12.05545374, 11.92718037, 11.69999234, 11.5657378 , 12.06800005,\n",
       "       12.18024778, 12.19694986, 12.15931693, 12.26669784, 12.17913221,\n",
       "       11.76243999, 12.23911717, 12.13673991, 12.14646428, 11.94531698,\n",
       "       11.7915408 , 11.87335415, 11.22614868, 11.69800995, 12.32591476,\n",
       "       12.16626527, 11.67773025, 11.67608453, 11.88981686, 11.65940394,\n",
       "       11.8546166 , 11.30135049, 12.0070003 , 11.8053903 , 12.11875195,\n",
       "       12.57586696, 12.02478849, 11.79519003, 11.71324757, 11.96134755,\n",
       "       11.90556886, 11.63270538, 12.01736686, 11.78183546, 12.62152154,\n",
       "       12.58169282, 11.74467766, 12.49901145, 12.00386274, 12.93077671,\n",
       "       12.06966065, 12.08713181, 12.33015402, 11.52490199, 11.56554556,\n",
       "       11.80925317, 12.40481181, 11.78393871, 11.25570282, 11.3979473 ,\n",
       "       12.31895278, 11.92866   , 11.65909846, 11.74793599, 12.09078174,\n",
       "       12.41443149, 12.17143566, 11.85677655, 11.25604885, 12.23147036,\n",
       "       11.6349616 , 11.1566749 , 11.73368928, 12.34168169, 11.92553837,\n",
       "       12.09590961, 12.38562659, 12.19184498, 12.21808419, 12.46718865,\n",
       "       12.56875708, 12.03936504, 12.163572  , 11.66013793, 11.48542786,\n",
       "       12.15745859, 11.87356824, 11.59137087, 11.57902607, 12.56119621,\n",
       "       12.03351425, 11.66193981, 12.67708746, 12.41236317, 12.56535252,\n",
       "       11.49192532, 11.99434052, 11.26206217, 11.66576245, 12.59624415,\n",
       "       11.80751632, 11.50280881, 12.68151647, 12.47650861, 11.93887613,\n",
       "       11.843352  , 11.73497128, 11.65860921, 11.64654536, 11.88566317,\n",
       "       12.13205522, 12.21717774, 12.22485457, 11.4721753 , 11.83609067,\n",
       "       12.53147671, 11.90579792, 11.81267846, 12.13642374, 11.48626657,\n",
       "       12.116095  , 11.92730815, 11.85464355, 11.54170411, 11.77301129,\n",
       "       12.40696889, 12.04872066, 12.10581838, 11.79592412, 12.1213649 ,\n",
       "       11.50573232, 12.11323344, 12.13753472, 12.92488588, 11.59552595,\n",
       "       12.01281442, 11.75689998, 11.64724247, 12.31758816, 11.61734417,\n",
       "       11.63636473, 12.18894733, 12.08351424, 12.21075614, 11.86200944,\n",
       "       12.02619039, 12.41007634, 11.76583369, 12.15980183, 12.07629351,\n",
       "       12.25481998, 11.54723618, 12.17807084, 11.73820811, 12.24853625,\n",
       "       12.07328638, 12.42347516, 12.15898705, 11.64264432, 12.00395741,\n",
       "       11.40216442, 11.87988294, 12.47907292, 11.24382713, 12.17339147,\n",
       "       11.77130978, 11.65362706, 12.3683358 , 12.09666813, 12.16017913,\n",
       "       11.32733222, 12.70099315, 11.6636955 , 12.1836678 , 12.40891891,\n",
       "       12.49639966, 11.73206639, 11.92201602, 12.12817319, 12.31441956,\n",
       "       12.14629642, 12.24904228, 12.12901205, 11.94496135, 12.44250509,\n",
       "       12.52543949, 12.12196447, 11.85506703, 11.87841899, 12.70844847,\n",
       "       12.10130746, 11.45169861, 12.04884708, 11.50925827, 11.61391682,\n",
       "       12.28575199, 12.08325776, 12.48553813, 12.00084682, 11.61749756,\n",
       "       11.90529811, 12.05877421, 11.33384633, 12.73858955, 11.77397361,\n",
       "       12.40062349, 12.43711675, 11.91600317, 11.56176609, 11.64305135,\n",
       "       11.65730783, 12.20055602, 11.73715307, 11.73874002, 12.28694999,\n",
       "       11.59152436, 11.93588126, 12.01254311, 11.84983976, 11.7580708 ,\n",
       "       11.94219511, 11.40663657, 11.7997425 , 11.94235323, 12.25912048,\n",
       "       11.60556658, 12.25495895, 11.58031371, 11.95820225, 12.06088408,\n",
       "       11.47378751, 11.81571   , 12.39643872, 12.16555081, 12.22571687,\n",
       "       12.07068193, 11.62967358, 12.71946148, 11.63874641, 11.75920297,\n",
       "       11.75337247, 12.0226896 , 11.51973342, 12.04461691, 12.64133039,\n",
       "       12.52677593, 11.95187525, 11.68631856, 12.46061768, 12.04969199,\n",
       "       12.24959093, 12.08932384, 11.75457058, 12.17705508, 12.71275678,\n",
       "       12.37796391, 11.88733117, 12.55457806, 11.80544537, 12.35537843,\n",
       "       12.17398129, 11.48678975, 11.75917442, 11.42948663, 11.61503578,\n",
       "       12.67794401, 11.99298667, 12.22205823, 11.89075957, 12.15631033,\n",
       "       12.22021688, 11.71312757, 11.93276293, 13.21117304, 12.10706846,\n",
       "       11.60298932, 12.09801324, 11.56064096, 12.33689038, 11.49912271,\n",
       "       11.35154367, 11.80495358, 12.40550189, 11.90823558, 11.990951  ,\n",
       "       11.98412841, 11.82968902, 12.10297806, 11.65446851, 12.88827378,\n",
       "       11.95714377, 11.6626845 , 11.80809124, 12.78279582, 12.53436669,\n",
       "       12.78008672, 11.7883524 , 11.94249632, 11.72450683, 12.3279978 ,\n",
       "       11.94362812, 12.27834814, 12.32528029, 11.67455465, 11.96946452,\n",
       "       12.07874504, 11.91345162, 12.12537985, 12.17559041, 11.63478412,\n",
       "       12.22489288, 11.59788373, 12.07901593, 11.92489206, 12.26320199,\n",
       "       12.26431214, 11.74348099, 12.15133807, 12.13718621, 11.56474004,\n",
       "       11.21695351, 12.50915158, 13.02215213, 12.18588621, 12.19609861,\n",
       "       12.40429635, 11.80967157, 12.20630632, 11.41203484, 12.16424961,\n",
       "       11.85614717, 13.31122954, 12.5594155 , 12.32005781, 11.80580948,\n",
       "       11.88073211, 11.88948985, 11.57568043, 11.78251322, 11.6242939 ,\n",
       "       11.9006506 , 11.80073134, 12.13800455, 12.5803498 , 12.16469083,\n",
       "       11.83765179, 11.79091426, 11.35942397, 12.08719086, 12.14802119,\n",
       "       11.6726055 , 12.2028494 , 12.38996257, 12.28976404, 12.16192067,\n",
       "       12.41279166, 12.89664599, 11.2028768 , 12.06069241, 12.67312746,\n",
       "       12.72802528, 11.87762676, 12.06537987, 12.12412681, 12.42772248,\n",
       "       11.88745405, 12.37090892, 11.34575558, 12.32587458, 11.88003278,\n",
       "       12.10624918, 12.36310275, 13.07673165, 11.7687165 , 11.7938564 ,\n",
       "       12.74523402, 11.90595734, 11.41006903, 11.71758147, 12.2709041 ,\n",
       "       12.71986338, 12.46705235, 12.45268713, 11.99475305, 12.03190585,\n",
       "       12.23725107, 12.44161659, 11.84058961, 12.25804269, 11.70469964,\n",
       "       11.57723549, 12.46807159, 12.08628884, 12.35718314, 11.98491442,\n",
       "       11.97772787, 11.94803072, 12.34697495, 11.81445135, 12.38922785,\n",
       "       11.49976452, 12.25315004, 12.94773713, 11.49902022])"
      ]
     },
     "execution_count": 14,
     "metadata": {},
     "output_type": "execute_result"
    }
   ],
   "source": [
    "pred_test_lasso"
   ]
  },
  {
   "cell_type": "code",
   "execution_count": 15,
   "id": "christian-cruise",
   "metadata": {},
   "outputs": [],
   "source": [
    "MAE_Lasso = mean_absolute_error(y_test,pred_test_lasso)\n",
    "MSE_Lasso = mean_squared_error(y_test,pred_test_lasso)\n",
    "RMSE_Lasso = np.sqrt(MSE_Lasso)"
   ]
  },
  {
   "cell_type": "code",
   "execution_count": 16,
   "id": "adjustable-green",
   "metadata": {},
   "outputs": [
    {
     "data": {
      "text/plain": [
       "0.1114299418575086"
      ]
     },
     "execution_count": 16,
     "metadata": {},
     "output_type": "execute_result"
    }
   ],
   "source": [
    "MAE_Lasso"
   ]
  },
  {
   "cell_type": "code",
   "execution_count": 17,
   "id": "negative-honolulu",
   "metadata": {},
   "outputs": [
    {
     "data": {
      "text/plain": [
       "0.023286446708179816"
      ]
     },
     "execution_count": 17,
     "metadata": {},
     "output_type": "execute_result"
    }
   ],
   "source": [
    "MSE_Lasso"
   ]
  },
  {
   "cell_type": "code",
   "execution_count": 18,
   "id": "light-bubble",
   "metadata": {},
   "outputs": [
    {
     "data": {
      "text/plain": [
       "0.1525989734833751"
      ]
     },
     "execution_count": 18,
     "metadata": {},
     "output_type": "execute_result"
    }
   ],
   "source": [
    "RMSE_Lasso"
   ]
  },
  {
   "cell_type": "code",
   "execution_count": 19,
   "id": "technical-secret",
   "metadata": {},
   "outputs": [],
   "source": [
    "def MAPE(y_test,pred_test_lasso):\n",
    "    mape = np.mean(np.abs((y_test - pred_test_lasso)/y_test))*100\n",
    "    return mape"
   ]
  },
  {
   "cell_type": "code",
   "execution_count": 20,
   "id": "exciting-egypt",
   "metadata": {},
   "outputs": [],
   "source": [
    "LR_MAPElassocv= MAPE(y_test,pred_test_lasso)"
   ]
  },
  {
   "cell_type": "code",
   "execution_count": 21,
   "id": "military-coordination",
   "metadata": {},
   "outputs": [
    {
     "name": "stdout",
     "output_type": "stream",
     "text": [
      "lassocv MAPE:  0.9378446762137522\n"
     ]
    }
   ],
   "source": [
    "print(\"lassocv MAPE: \",LR_MAPElassocv)"
   ]
  },
  {
   "cell_type": "code",
   "execution_count": 22,
   "id": "specified-vegetation",
   "metadata": {},
   "outputs": [
    {
     "data": {
      "text/plain": [
       "88.0"
      ]
     },
     "execution_count": 22,
     "metadata": {},
     "output_type": "execute_result"
    }
   ],
   "source": [
    "accuracy= round(r2_score(y_test, pred_test_lasso), 2)\n",
    "accuracy = accuracy * 100\n",
    "accuracy"
   ]
  },
  {
   "cell_type": "code",
   "execution_count": 23,
   "id": "desperate-height",
   "metadata": {},
   "outputs": [
    {
     "data": {
      "text/plain": [
       "<matplotlib.lines.Line2D at 0x237771c8b48>"
      ]
     },
     "execution_count": 23,
     "metadata": {},
     "output_type": "execute_result"
    },
    {
     "data": {
      "image/png": "[encoded data removed]",
      "text/plain": [
       "<Figure size 432x288 with 1 Axes>"
      ]
     },
     "metadata": {
      "needs_background": "light"
     },
     "output_type": "display_data"
    }
   ],
   "source": [
    "sns.scatterplot(x=y_test,y=pred_test_lasso)\n",
    "plt.axhline(y=0,color='magenta',linestyle='--')"
   ]
  },
  {
   "cell_type": "code",
   "execution_count": 24,
   "id": "adopted-tattoo",
   "metadata": {},
   "outputs": [
    {
     "data": {
      "image/png": "[encoded data removed]",
      "text/plain": [
       "<Figure size 1000x1200 with 1 Axes>"
      ]
     },
     "metadata": {
      "needs_background": "light"
     },
     "output_type": "display_data"
    }
   ],
   "source": [
    "fig,ax = plt.subplots(figsize=(10,12),dpi=100)\n",
    "\n",
    "_=sp.stats.probplot(pred_test_lasso,plot=ax)"
   ]
  },
  {
   "cell_type": "code",
   "execution_count": 25,
   "id": "controlled-notion",
   "metadata": {},
   "outputs": [
    {
     "data": {
      "text/plain": [
       "<seaborn.axisgrid.FacetGrid at 0x23777f55dc8>"
      ]
     },
     "execution_count": 25,
     "metadata": {},
     "output_type": "execute_result"
    },
    {
     "data": {
      "image/png": "[encoded data removed]",
      "text/plain": [
       "<Figure size 360x360 with 1 Axes>"
      ]
     },
     "metadata": {
      "needs_background": "light"
     },
     "output_type": "display_data"
    }
   ],
   "source": [
    "sns.displot(pred_test_lasso,bins=15,kde=True)"
   ]
  },
  {
   "cell_type": "code",
   "execution_count": 26,
   "id": "attempted-discipline",
   "metadata": {},
   "outputs": [
    {
     "data": {
      "text/plain": [
       "['cs1_Ames_Housing_scaler.pkl']"
      ]
     },
     "execution_count": 26,
     "metadata": {},
     "output_type": "execute_result"
    }
   ],
   "source": [
    "dump(scaler,\"cs1_Ames_Housing_scaler.pkl\")"
   ]
  },
  {
   "cell_type": "code",
   "execution_count": 27,
   "id": "successful-ballot",
   "metadata": {},
   "outputs": [
    {
     "data": {
      "text/plain": [
       "['cs1_Ames_Housing_model.h5']"
      ]
     },
     "execution_count": 27,
     "metadata": {},
     "output_type": "execute_result"
    }
   ],
   "source": [
    "dump(lasso_model,\"cs1_Ames_Housing_model.h5\")"
   ]
  },
  {
   "cell_type": "code",
   "execution_count": 28,
   "id": "partial-difficulty",
   "metadata": {},
   "outputs": [
    {
     "name": "stdout",
     "output_type": "stream",
     "text": [
      "<class 'pandas.core.frame.DataFrame'>\n",
      "RangeIndex: 2916 entries, 0 to 2915\n",
      "Data columns (total 14 columns):\n",
      " #   Column          Non-Null Count  Dtype  \n",
      "---  ------          --------------  -----  \n",
      " 0   lot_area        2916 non-null   int64  \n",
      " 1   year_built      2916 non-null   int64  \n",
      " 2   year_remod/add  2916 non-null   int64  \n",
      " 3   mas_vnr_area    2916 non-null   float64\n",
      " 4   bsmtfin_sf_1    2916 non-null   float64\n",
      " 5   total_bsmt_sf   2916 non-null   float64\n",
      " 6   2nd_flr_sf      2916 non-null   int64  \n",
      " 7   gr_liv_area     2916 non-null   int64  \n",
      " 8   garage_yr_blt   2916 non-null   float64\n",
      " 9   garage_area     2916 non-null   float64\n",
      " 10  wood_deck_sf    2916 non-null   int64  \n",
      " 11  open_porch_sf   2916 non-null   int64  \n",
      " 12  screen_porch    2916 non-null   int64  \n",
      " 13  saleprice       2916 non-null   float64\n",
      "dtypes: float64(6), int64(8)\n",
      "memory usage: 319.1 KB\n"
     ]
    }
   ],
   "source": [
    "df.info()"
   ]
  },
  {
   "cell_type": "code",
   "execution_count": null,
   "id": "specialized-mathematics",
   "metadata": {},
   "outputs": [],
   "source": []
  }
 ],
 "metadata": {
  "kernelspec": {
   "display_name": "Python 3",
   "language": "python",
   "name": "python3"
  },
  "language_info": {
   "codemirror_mode": {
    "name": "ipython",
    "version": 3
   },
   "file_extension": ".py",
   "mimetype": "text/x-python",
   "name": "python",
   "nbconvert_exporter": "python",
   "pygments_lexer": "ipython3",
   "version": "3.7.10"
  }
 },
 "nbformat": 4,
 "nbformat_minor": 5
}
