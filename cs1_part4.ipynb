{
 "cells": [
  {
   "cell_type": "markdown",
   "id": "civic-hygiene",
   "metadata": {},
   "source": [
    "# testing different models for accuracy"
   ]
  },
  {
   "cell_type": "code",
   "execution_count": 1,
   "id": "dress-honduras",
   "metadata": {},
   "outputs": [],
   "source": [
    "#importing libraries\n",
    "from sklearn.datasets import load_boston\n",
    "import pandas as pd\n",
    "import numpy as np\n",
    "import matplotlib\n",
    "import matplotlib.pyplot as plt\n",
    "import seaborn as sns\n",
    "\n",
    "%matplotlib inline\n",
    "from sklearn.model_selection import train_test_split\n",
    "from sklearn.linear_model import LinearRegression\n",
    "from sklearn.feature_selection import RFE\n",
    "from sklearn.linear_model import RidgeCV, LassoCV, Ridge, Lasso\n",
    "from sklearn.metrics import mean_squared_error, mean_absolute_error,r2_score\n",
    "import scipy as sp\n",
    "from joblib import dump\n",
    "from sklearn.linear_model import ElasticNet\n",
    "from sklearn.model_selection import GridSearchCV\n",
    "from sklearn.preprocessing import StandardScaler\n",
    "from sklearn.metrics import r2_score"
   ]
  },
  {
   "cell_type": "code",
   "execution_count": 2,
   "id": "timely-constant",
   "metadata": {},
   "outputs": [],
   "source": [
    "df = pd.read_csv(\"cs1_part3_res.csv\")"
   ]
  },
  {
   "cell_type": "code",
   "execution_count": 3,
   "id": "alleged-compact",
   "metadata": {
    "scrolled": true
   },
   "outputs": [
    {
     "name": "stdout",
     "output_type": "stream",
     "text": [
      "<class 'pandas.core.frame.DataFrame'>\n",
      "RangeIndex: 2916 entries, 0 to 2915\n",
      "Columns: 229 entries, ms_subclass to sale_condition_Partial\n",
      "dtypes: float64(38), int64(191)\n",
      "memory usage: 5.1 MB\n"
     ]
    }
   ],
   "source": [
    "df.info()"
   ]
  },
  {
   "cell_type": "markdown",
   "id": "contemporary-overall",
   "metadata": {},
   "source": [
    "# lasso"
   ]
  },
  {
   "cell_type": "code",
   "execution_count": 4,
   "id": "lined-whale",
   "metadata": {},
   "outputs": [],
   "source": [
    "#Create  and y \n",
    "X = df.drop('saleprice',axis=1)\n",
    "y = df['saleprice']\n",
    "\n",
    "from sklearn.model_selection import train_test_split\n",
    "X_train,X_test, y_train, y_test = train_test_split(X,y, test_size = 0.2)"
   ]
  },
  {
   "cell_type": "code",
   "execution_count": 5,
   "id": "colored-driving",
   "metadata": {},
   "outputs": [],
   "source": [
    "from sklearn.preprocessing import StandardScaler\n",
    "scaler = StandardScaler()\n",
    "scaler.fit(X_train)\n",
    "X_train = scaler.transform(X_train)\n",
    "X_test = scaler.transform(X_test)"
   ]
  },
  {
   "cell_type": "code",
   "execution_count": 6,
   "id": "noble-rotation",
   "metadata": {},
   "outputs": [],
   "source": [
    "lasso_model = Lasso()"
   ]
  },
  {
   "cell_type": "code",
   "execution_count": 7,
   "id": "renewable-sunset",
   "metadata": {},
   "outputs": [
    {
     "data": {
      "text/plain": [
       "Lasso()"
      ]
     },
     "execution_count": 7,
     "metadata": {},
     "output_type": "execute_result"
    }
   ],
   "source": [
    "lasso_model.fit(X_train,y_train)"
   ]
  },
  {
   "cell_type": "code",
   "execution_count": 8,
   "id": "beneficial-cleaning",
   "metadata": {},
   "outputs": [],
   "source": [
    "pred_test_lasso = lasso_model.predict(X_test)"
   ]
  },
  {
   "cell_type": "code",
   "execution_count": 9,
   "id": "intellectual-fishing",
   "metadata": {},
   "outputs": [
    {
     "data": {
      "text/plain": [
       "array([12.02222179, 12.02222179, 12.02222179, 12.02222179, 12.02222179,\n",
       "       12.02222179, 12.02222179, 12.02222179, 12.02222179, 12.02222179,\n",
       "       12.02222179, 12.02222179, 12.02222179, 12.02222179, 12.02222179,\n",
       "       12.02222179, 12.02222179, 12.02222179, 12.02222179, 12.02222179,\n",
       "       12.02222179, 12.02222179, 12.02222179, 12.02222179, 12.02222179,\n",
       "       12.02222179, 12.02222179, 12.02222179, 12.02222179, 12.02222179,\n",
       "       12.02222179, 12.02222179, 12.02222179, 12.02222179, 12.02222179,\n",
       "       12.02222179, 12.02222179, 12.02222179, 12.02222179, 12.02222179,\n",
       "       12.02222179, 12.02222179, 12.02222179, 12.02222179, 12.02222179,\n",
       "       12.02222179, 12.02222179, 12.02222179, 12.02222179, 12.02222179,\n",
       "       12.02222179, 12.02222179, 12.02222179, 12.02222179, 12.02222179,\n",
       "       12.02222179, 12.02222179, 12.02222179, 12.02222179, 12.02222179,\n",
       "       12.02222179, 12.02222179, 12.02222179, 12.02222179, 12.02222179,\n",
       "       12.02222179, 12.02222179, 12.02222179, 12.02222179, 12.02222179,\n",
       "       12.02222179, 12.02222179, 12.02222179, 12.02222179, 12.02222179,\n",
       "       12.02222179, 12.02222179, 12.02222179, 12.02222179, 12.02222179,\n",
       "       12.02222179, 12.02222179, 12.02222179, 12.02222179, 12.02222179,\n",
       "       12.02222179, 12.02222179, 12.02222179, 12.02222179, 12.02222179,\n",
       "       12.02222179, 12.02222179, 12.02222179, 12.02222179, 12.02222179,\n",
       "       12.02222179, 12.02222179, 12.02222179, 12.02222179, 12.02222179,\n",
       "       12.02222179, 12.02222179, 12.02222179, 12.02222179, 12.02222179,\n",
       "       12.02222179, 12.02222179, 12.02222179, 12.02222179, 12.02222179,\n",
       "       12.02222179, 12.02222179, 12.02222179, 12.02222179, 12.02222179,\n",
       "       12.02222179, 12.02222179, 12.02222179, 12.02222179, 12.02222179,\n",
       "       12.02222179, 12.02222179, 12.02222179, 12.02222179, 12.02222179,\n",
       "       12.02222179, 12.02222179, 12.02222179, 12.02222179, 12.02222179,\n",
       "       12.02222179, 12.02222179, 12.02222179, 12.02222179, 12.02222179,\n",
       "       12.02222179, 12.02222179, 12.02222179, 12.02222179, 12.02222179,\n",
       "       12.02222179, 12.02222179, 12.02222179, 12.02222179, 12.02222179,\n",
       "       12.02222179, 12.02222179, 12.02222179, 12.02222179, 12.02222179,\n",
       "       12.02222179, 12.02222179, 12.02222179, 12.02222179, 12.02222179,\n",
       "       12.02222179, 12.02222179, 12.02222179, 12.02222179, 12.02222179,\n",
       "       12.02222179, 12.02222179, 12.02222179, 12.02222179, 12.02222179,\n",
       "       12.02222179, 12.02222179, 12.02222179, 12.02222179, 12.02222179,\n",
       "       12.02222179, 12.02222179, 12.02222179, 12.02222179, 12.02222179,\n",
       "       12.02222179, 12.02222179, 12.02222179, 12.02222179, 12.02222179,\n",
       "       12.02222179, 12.02222179, 12.02222179, 12.02222179, 12.02222179,\n",
       "       12.02222179, 12.02222179, 12.02222179, 12.02222179, 12.02222179,\n",
       "       12.02222179, 12.02222179, 12.02222179, 12.02222179, 12.02222179,\n",
       "       12.02222179, 12.02222179, 12.02222179, 12.02222179, 12.02222179,\n",
       "       12.02222179, 12.02222179, 12.02222179, 12.02222179, 12.02222179,\n",
       "       12.02222179, 12.02222179, 12.02222179, 12.02222179, 12.02222179,\n",
       "       12.02222179, 12.02222179, 12.02222179, 12.02222179, 12.02222179,\n",
       "       12.02222179, 12.02222179, 12.02222179, 12.02222179, 12.02222179,\n",
       "       12.02222179, 12.02222179, 12.02222179, 12.02222179, 12.02222179,\n",
       "       12.02222179, 12.02222179, 12.02222179, 12.02222179, 12.02222179,\n",
       "       12.02222179, 12.02222179, 12.02222179, 12.02222179, 12.02222179,\n",
       "       12.02222179, 12.02222179, 12.02222179, 12.02222179, 12.02222179,\n",
       "       12.02222179, 12.02222179, 12.02222179, 12.02222179, 12.02222179,\n",
       "       12.02222179, 12.02222179, 12.02222179, 12.02222179, 12.02222179,\n",
       "       12.02222179, 12.02222179, 12.02222179, 12.02222179, 12.02222179,\n",
       "       12.02222179, 12.02222179, 12.02222179, 12.02222179, 12.02222179,\n",
       "       12.02222179, 12.02222179, 12.02222179, 12.02222179, 12.02222179,\n",
       "       12.02222179, 12.02222179, 12.02222179, 12.02222179, 12.02222179,\n",
       "       12.02222179, 12.02222179, 12.02222179, 12.02222179, 12.02222179,\n",
       "       12.02222179, 12.02222179, 12.02222179, 12.02222179, 12.02222179,\n",
       "       12.02222179, 12.02222179, 12.02222179, 12.02222179, 12.02222179,\n",
       "       12.02222179, 12.02222179, 12.02222179, 12.02222179, 12.02222179,\n",
       "       12.02222179, 12.02222179, 12.02222179, 12.02222179, 12.02222179,\n",
       "       12.02222179, 12.02222179, 12.02222179, 12.02222179, 12.02222179,\n",
       "       12.02222179, 12.02222179, 12.02222179, 12.02222179, 12.02222179,\n",
       "       12.02222179, 12.02222179, 12.02222179, 12.02222179, 12.02222179,\n",
       "       12.02222179, 12.02222179, 12.02222179, 12.02222179, 12.02222179,\n",
       "       12.02222179, 12.02222179, 12.02222179, 12.02222179, 12.02222179,\n",
       "       12.02222179, 12.02222179, 12.02222179, 12.02222179, 12.02222179,\n",
       "       12.02222179, 12.02222179, 12.02222179, 12.02222179, 12.02222179,\n",
       "       12.02222179, 12.02222179, 12.02222179, 12.02222179, 12.02222179,\n",
       "       12.02222179, 12.02222179, 12.02222179, 12.02222179, 12.02222179,\n",
       "       12.02222179, 12.02222179, 12.02222179, 12.02222179, 12.02222179,\n",
       "       12.02222179, 12.02222179, 12.02222179, 12.02222179, 12.02222179,\n",
       "       12.02222179, 12.02222179, 12.02222179, 12.02222179, 12.02222179,\n",
       "       12.02222179, 12.02222179, 12.02222179, 12.02222179, 12.02222179,\n",
       "       12.02222179, 12.02222179, 12.02222179, 12.02222179, 12.02222179,\n",
       "       12.02222179, 12.02222179, 12.02222179, 12.02222179, 12.02222179,\n",
       "       12.02222179, 12.02222179, 12.02222179, 12.02222179, 12.02222179,\n",
       "       12.02222179, 12.02222179, 12.02222179, 12.02222179, 12.02222179,\n",
       "       12.02222179, 12.02222179, 12.02222179, 12.02222179, 12.02222179,\n",
       "       12.02222179, 12.02222179, 12.02222179, 12.02222179, 12.02222179,\n",
       "       12.02222179, 12.02222179, 12.02222179, 12.02222179, 12.02222179,\n",
       "       12.02222179, 12.02222179, 12.02222179, 12.02222179, 12.02222179,\n",
       "       12.02222179, 12.02222179, 12.02222179, 12.02222179, 12.02222179,\n",
       "       12.02222179, 12.02222179, 12.02222179, 12.02222179, 12.02222179,\n",
       "       12.02222179, 12.02222179, 12.02222179, 12.02222179, 12.02222179,\n",
       "       12.02222179, 12.02222179, 12.02222179, 12.02222179, 12.02222179,\n",
       "       12.02222179, 12.02222179, 12.02222179, 12.02222179, 12.02222179,\n",
       "       12.02222179, 12.02222179, 12.02222179, 12.02222179, 12.02222179,\n",
       "       12.02222179, 12.02222179, 12.02222179, 12.02222179, 12.02222179,\n",
       "       12.02222179, 12.02222179, 12.02222179, 12.02222179, 12.02222179,\n",
       "       12.02222179, 12.02222179, 12.02222179, 12.02222179, 12.02222179,\n",
       "       12.02222179, 12.02222179, 12.02222179, 12.02222179, 12.02222179,\n",
       "       12.02222179, 12.02222179, 12.02222179, 12.02222179, 12.02222179,\n",
       "       12.02222179, 12.02222179, 12.02222179, 12.02222179, 12.02222179,\n",
       "       12.02222179, 12.02222179, 12.02222179, 12.02222179, 12.02222179,\n",
       "       12.02222179, 12.02222179, 12.02222179, 12.02222179, 12.02222179,\n",
       "       12.02222179, 12.02222179, 12.02222179, 12.02222179, 12.02222179,\n",
       "       12.02222179, 12.02222179, 12.02222179, 12.02222179, 12.02222179,\n",
       "       12.02222179, 12.02222179, 12.02222179, 12.02222179, 12.02222179,\n",
       "       12.02222179, 12.02222179, 12.02222179, 12.02222179, 12.02222179,\n",
       "       12.02222179, 12.02222179, 12.02222179, 12.02222179, 12.02222179,\n",
       "       12.02222179, 12.02222179, 12.02222179, 12.02222179, 12.02222179,\n",
       "       12.02222179, 12.02222179, 12.02222179, 12.02222179, 12.02222179,\n",
       "       12.02222179, 12.02222179, 12.02222179, 12.02222179, 12.02222179,\n",
       "       12.02222179, 12.02222179, 12.02222179, 12.02222179, 12.02222179,\n",
       "       12.02222179, 12.02222179, 12.02222179, 12.02222179, 12.02222179,\n",
       "       12.02222179, 12.02222179, 12.02222179, 12.02222179, 12.02222179,\n",
       "       12.02222179, 12.02222179, 12.02222179, 12.02222179, 12.02222179,\n",
       "       12.02222179, 12.02222179, 12.02222179, 12.02222179, 12.02222179,\n",
       "       12.02222179, 12.02222179, 12.02222179, 12.02222179, 12.02222179,\n",
       "       12.02222179, 12.02222179, 12.02222179, 12.02222179, 12.02222179,\n",
       "       12.02222179, 12.02222179, 12.02222179, 12.02222179, 12.02222179,\n",
       "       12.02222179, 12.02222179, 12.02222179, 12.02222179, 12.02222179,\n",
       "       12.02222179, 12.02222179, 12.02222179, 12.02222179, 12.02222179,\n",
       "       12.02222179, 12.02222179, 12.02222179, 12.02222179, 12.02222179,\n",
       "       12.02222179, 12.02222179, 12.02222179, 12.02222179, 12.02222179,\n",
       "       12.02222179, 12.02222179, 12.02222179, 12.02222179, 12.02222179,\n",
       "       12.02222179, 12.02222179, 12.02222179, 12.02222179, 12.02222179,\n",
       "       12.02222179, 12.02222179, 12.02222179, 12.02222179])"
      ]
     },
     "execution_count": 9,
     "metadata": {},
     "output_type": "execute_result"
    }
   ],
   "source": [
    "pred_test_lasso"
   ]
  },
  {
   "cell_type": "code",
   "execution_count": 10,
   "id": "republican-animation",
   "metadata": {},
   "outputs": [],
   "source": [
    "MAE_Lasso = mean_absolute_error(y_test,pred_test_lasso)\n",
    "MSE_Lasso = mean_squared_error(y_test,pred_test_lasso)\n",
    "RMSE_Lasso = np.sqrt(MSE_Lasso)"
   ]
  },
  {
   "cell_type": "code",
   "execution_count": 11,
   "id": "informed-century",
   "metadata": {},
   "outputs": [
    {
     "data": {
      "text/plain": [
       "0.3192907490512503"
      ]
     },
     "execution_count": 11,
     "metadata": {},
     "output_type": "execute_result"
    }
   ],
   "source": [
    "MAE_Lasso"
   ]
  },
  {
   "cell_type": "code",
   "execution_count": 12,
   "id": "brilliant-poland",
   "metadata": {},
   "outputs": [
    {
     "data": {
      "text/plain": [
       "0.1611623292495359"
      ]
     },
     "execution_count": 12,
     "metadata": {},
     "output_type": "execute_result"
    }
   ],
   "source": [
    "MSE_Lasso"
   ]
  },
  {
   "cell_type": "code",
   "execution_count": 13,
   "id": "varying-implement",
   "metadata": {},
   "outputs": [
    {
     "data": {
      "text/plain": [
       "0.4014502824130728"
      ]
     },
     "execution_count": 13,
     "metadata": {},
     "output_type": "execute_result"
    }
   ],
   "source": [
    "RMSE_Lasso"
   ]
  },
  {
   "cell_type": "code",
   "execution_count": 14,
   "id": "included-interstate",
   "metadata": {},
   "outputs": [],
   "source": [
    "def MAPE(y_test,pred_test_lasso):\n",
    "    mape = np.mean(np.abs((y_test - pred_test_lasso)/y_test))*100\n",
    "    return mape"
   ]
  },
  {
   "cell_type": "code",
   "execution_count": 15,
   "id": "continental-subject",
   "metadata": {},
   "outputs": [],
   "source": [
    "LR_MAPElasso= MAPE(y_test,pred_test_lasso)"
   ]
  },
  {
   "cell_type": "code",
   "execution_count": 16,
   "id": "planned-control",
   "metadata": {},
   "outputs": [
    {
     "name": "stdout",
     "output_type": "stream",
     "text": [
      "lassocv MAPE:  2.6684416799011013\n"
     ]
    }
   ],
   "source": [
    "print(\"lassocv MAPE: \",LR_MAPElasso)"
   ]
  },
  {
   "cell_type": "code",
   "execution_count": 17,
   "id": "starting-opera",
   "metadata": {},
   "outputs": [
    {
     "data": {
      "text/plain": [
       "-0.0"
      ]
     },
     "execution_count": 17,
     "metadata": {},
     "output_type": "execute_result"
    }
   ],
   "source": [
    "accuracy1= round(r2_score(y_test, pred_test_lasso), 2)\n",
    "accuracy1= accuracy1 * 100\n",
    "accuracy1"
   ]
  },
  {
   "cell_type": "markdown",
   "id": "asian-greek",
   "metadata": {},
   "source": [
    "# lasso cv"
   ]
  },
  {
   "cell_type": "code",
   "execution_count": 18,
   "id": "artistic-november",
   "metadata": {},
   "outputs": [],
   "source": [
    "#Create  and y \n",
    "X = df.drop('saleprice',axis=1)\n",
    "y = df['saleprice']\n",
    "\n",
    "from sklearn.model_selection import train_test_split\n",
    "X_train,X_test, y_train, y_test = train_test_split(X,y, test_size = 0.2)"
   ]
  },
  {
   "cell_type": "code",
   "execution_count": 19,
   "id": "special-language",
   "metadata": {},
   "outputs": [],
   "source": [
    "from sklearn.preprocessing import StandardScaler\n",
    "scaler = StandardScaler()\n",
    "scaler.fit(X_train)\n",
    "X_train = scaler.transform(X_train)\n",
    "X_test = scaler.transform(X_test)"
   ]
  },
  {
   "cell_type": "code",
   "execution_count": 20,
   "id": "choice-dominant",
   "metadata": {},
   "outputs": [],
   "source": [
    "lasso_model = LassoCV()"
   ]
  },
  {
   "cell_type": "code",
   "execution_count": 21,
   "id": "eligible-maintenance",
   "metadata": {},
   "outputs": [
    {
     "data": {
      "text/plain": [
       "LassoCV()"
      ]
     },
     "execution_count": 21,
     "metadata": {},
     "output_type": "execute_result"
    }
   ],
   "source": [
    "lasso_model.fit(X_train,y_train)"
   ]
  },
  {
   "cell_type": "code",
   "execution_count": 22,
   "id": "universal-cream",
   "metadata": {},
   "outputs": [],
   "source": [
    "pred_test_lasso = lasso_model.predict(X_test)"
   ]
  },
  {
   "cell_type": "code",
   "execution_count": 23,
   "id": "mighty-marsh",
   "metadata": {},
   "outputs": [
    {
     "data": {
      "text/plain": [
       "array([12.89268663, 12.10161632, 11.90327546, 11.69216677, 11.46732851,\n",
       "       12.04391217, 11.72456561, 12.57290926, 11.96662436, 11.86368322,\n",
       "       11.87422117, 11.74827389, 11.8974422 , 11.75981205, 12.91499035,\n",
       "       11.79941107, 13.22257744, 11.82136005, 12.31044993, 12.72483422,\n",
       "       12.10800742, 12.27204323, 12.6100946 , 12.2529303 , 11.93867711,\n",
       "       12.10509659, 12.15702254, 12.66741684, 11.70936895, 11.5768436 ,\n",
       "       12.01457095, 11.17877172, 11.68939231, 11.66547753, 12.01348359,\n",
       "       11.85087699, 12.10689075, 11.75264283, 12.49452436, 11.87161241,\n",
       "       11.97308479, 11.76335453, 12.68180358, 12.14904541, 12.64707091,\n",
       "       12.16506677, 11.80964424, 11.68609533, 11.62788254, 12.10700842,\n",
       "       11.83190931, 11.8047977 , 12.05934387, 10.97032793, 12.51969636,\n",
       "       11.701717  , 11.94123927, 12.59376817, 11.49373702, 12.07230859,\n",
       "       12.22080504, 11.68757571, 11.15951356, 12.17223235, 11.32472769,\n",
       "       12.27808357, 12.1814624 , 12.04937479, 11.61298397, 11.66992564,\n",
       "       12.23082794, 12.3320312 , 12.41744147, 11.79430153, 12.2378137 ,\n",
       "       12.53579967, 12.6532148 , 11.62598313, 11.38505229, 12.04535328,\n",
       "       12.60205638, 11.96564251, 11.61128327, 11.65094409, 11.97984896,\n",
       "       12.83216633, 11.29974251, 12.61931655, 12.68741944, 11.57114746,\n",
       "       12.52863548, 11.90287541, 11.96978253, 12.53628716, 11.52770079,\n",
       "       12.00006835, 11.73205852, 12.02549981, 12.10445459, 12.39338104,\n",
       "       11.78270673, 11.5454047 , 12.19883768, 12.31948651, 11.88239475,\n",
       "       12.2488574 , 12.80455303, 11.99243292, 12.31606865, 11.80542658,\n",
       "       11.69582598, 12.19693504, 11.7480265 , 11.8491271 , 11.80652192,\n",
       "       11.87322331, 11.82141313, 12.44333629, 12.08750308, 11.72733926,\n",
       "       11.9436232 , 11.8302589 , 12.44981421, 12.24052001, 11.75530985,\n",
       "       11.76204192, 11.43683442, 11.8956125 , 11.44101101, 12.16099747,\n",
       "       12.22637233, 11.3740995 , 12.36791039, 12.03292377, 11.88447088,\n",
       "       12.12352357, 12.45890343, 12.67506429, 11.88824113, 12.3443107 ,\n",
       "       12.15277949, 11.24926603, 11.94926693, 11.82446009, 11.67654901,\n",
       "       11.76719395, 11.46248348, 12.66608558, 12.0650596 , 11.91704727,\n",
       "       12.50461122, 12.27763548, 11.94488355, 11.9249095 , 12.20776023,\n",
       "       12.16272795, 11.51400465, 12.24281033, 12.65688764, 12.59560514,\n",
       "       11.89643159, 12.1584115 , 12.1397148 , 11.48175851, 11.5492377 ,\n",
       "       11.78144052, 11.73491207, 12.44722832, 11.92313629, 12.1000623 ,\n",
       "       12.07810815, 11.5506996 , 11.96378104, 12.39103775, 11.41315227,\n",
       "       12.3138161 , 11.92510377, 11.67751733, 11.14254144, 11.95013104,\n",
       "       11.49719402, 11.82405578, 12.36901432, 11.85091617, 12.39100653,\n",
       "       11.76280895, 12.14478952, 11.48735587, 12.05719771, 12.57011803,\n",
       "       12.60369004, 12.43280193, 12.73237548, 11.65109821, 11.76587755,\n",
       "       11.8271975 , 12.16835832, 11.77534027, 12.09818308, 11.81203969,\n",
       "       11.89264806, 12.3384129 , 12.20691174, 12.28125691, 12.12407182,\n",
       "       11.93391208, 11.81333262, 11.84389691, 12.12689527, 11.62735267,\n",
       "       12.27789526, 12.44967342, 12.41038949, 11.78229836, 12.13690211,\n",
       "       12.27446696, 11.52584058, 11.89686395, 11.78688067, 11.56735361,\n",
       "       12.4879255 , 11.75379978, 12.35104294, 12.04646166, 11.90924879,\n",
       "       11.85946862, 11.75733918, 12.59666703, 11.82320634, 11.47928658,\n",
       "       12.06398616, 12.181811  , 12.29061029, 12.70515004, 12.23845266,\n",
       "       12.44292245, 11.88469847, 11.86348155, 11.98894307, 11.55655839,\n",
       "       12.50468436, 12.62001488, 11.97091098, 12.17132378, 11.95359011,\n",
       "       11.4320529 , 11.56025496, 11.73224051, 12.27484742, 12.69776828,\n",
       "       12.1058957 , 12.9040458 , 12.05523422, 11.80329634, 11.62861104,\n",
       "       11.49840895, 12.66087964, 12.71469748, 12.25331013, 11.95549996,\n",
       "       11.65796832, 12.42292685, 12.36674112, 12.85592441, 11.81219248,\n",
       "       11.63751216, 11.92595884, 11.93957323, 12.03553467, 11.82328593,\n",
       "       11.96286739, 12.40796267, 11.77228286, 12.10690468, 12.02923405,\n",
       "       12.09879713, 11.80173645, 12.48514284, 12.39576555, 13.18029018,\n",
       "       12.24138117, 11.24765892, 13.01205901, 12.19952719, 12.11837518,\n",
       "       12.0390536 , 12.17188513, 12.13576961, 12.07479287, 11.75101314,\n",
       "       11.73589222, 11.55515878, 12.23167443, 11.82956282, 12.2881886 ,\n",
       "       12.14698272, 12.6176726 , 12.68620664, 12.03632611, 12.31244051,\n",
       "       12.96886066, 11.46555965, 11.93409863, 11.68954588, 11.57936576,\n",
       "       12.36678922, 11.65890121, 12.6867633 , 11.40940072, 12.0829178 ,\n",
       "       12.49375187, 12.3839762 , 12.42805413, 11.38361044, 12.62756989,\n",
       "       12.08733323, 11.30887493, 11.45355711, 11.88645757, 11.8823175 ,\n",
       "       11.33188813, 11.96240068, 11.65799861, 11.99373009, 11.71045941,\n",
       "       12.42341797, 12.61928542, 12.37087886, 11.50268673, 11.73574435,\n",
       "       11.93528712, 11.83345535, 11.77811935, 11.8354519 , 12.0569847 ,\n",
       "       12.21357949, 12.18653235, 12.27772044, 12.01620123, 11.83838506,\n",
       "       11.88982139, 12.80793106, 11.70980212, 11.67311182, 12.77300294,\n",
       "       11.51991806, 12.06874694, 12.54975145, 12.31256038, 11.72188842,\n",
       "       11.74659284, 11.40281682, 11.82014699, 12.13772883, 11.95694811,\n",
       "       11.65727299, 12.55311479, 12.36841473, 12.07125854, 11.70741981,\n",
       "       11.97457194, 12.4480034 , 11.57751936, 12.8849195 , 12.33092905,\n",
       "       11.1887055 , 12.66038047, 11.61314494, 11.19274317, 12.18564637,\n",
       "       12.57874814, 11.44108161, 12.58763189, 11.75206872, 11.63488112,\n",
       "       11.37448324, 13.09869448, 11.60183194, 11.77128604, 12.66182518,\n",
       "       12.36774546, 12.21256895, 11.28443838, 12.83611128, 11.75562752,\n",
       "       11.51593084, 11.7634374 , 11.66318307, 11.85577949, 12.99890565,\n",
       "       12.37849723, 12.24306662, 11.8104246 , 11.85353729, 11.85731455,\n",
       "       11.80393732, 13.07776937, 12.66590178, 12.15015109, 12.2238518 ,\n",
       "       12.83996677, 12.22724757, 12.83148119, 12.41335998, 11.9391758 ,\n",
       "       12.70739654, 12.17591523, 12.32781639, 11.92580212, 11.50778474,\n",
       "       12.32319864, 13.00705882, 12.1856886 , 12.03027268, 11.78443675,\n",
       "       12.58161632, 11.69590307, 11.49848583, 11.90694002, 11.88507565,\n",
       "       12.32607081, 11.62814985, 11.81446533, 11.83735323, 11.84025668,\n",
       "       11.69507928, 11.88032441, 12.24775598, 12.32571265, 11.97616774,\n",
       "       12.19021318, 12.21540488, 12.19476974, 11.8927719 , 12.60145193,\n",
       "       11.40708106, 11.79987671, 12.11867506, 12.48469   , 12.34512097,\n",
       "       11.78051117, 11.90011182, 12.18378172, 11.93433144, 12.08710001,\n",
       "       12.54741657, 12.10158568, 11.81105382, 12.37342113, 11.67051493,\n",
       "       11.830654  , 11.67933247, 12.43503978, 12.56764681, 12.45465499,\n",
       "       12.47089779, 11.21318844, 12.64689043, 11.75843422, 12.12165738,\n",
       "       12.08902646, 12.00007141, 12.67268359, 11.6839525 , 11.12222054,\n",
       "       11.8746513 , 12.04658787, 12.76956227, 11.8687909 , 11.99051208,\n",
       "       12.36391931, 11.87535731, 12.00072998, 12.64539203, 12.30367119,\n",
       "       11.81742576, 11.44314152, 12.19034615, 11.11378515, 12.08327486,\n",
       "       11.24582802, 12.03053511, 11.92722985, 12.28204919, 11.85880288,\n",
       "       12.23461143, 12.25562077, 11.93809923, 11.60551435, 11.38472418,\n",
       "       12.2369271 , 12.24955083, 11.69734894, 11.48026153, 12.31660664,\n",
       "       11.37750073, 11.61728473, 11.95347659, 12.09497949, 12.14331859,\n",
       "       11.47989999, 11.79144573, 12.620455  , 11.94535013, 12.09872279,\n",
       "       12.75432654, 12.27720022, 13.04696891, 12.50803271, 12.20503592,\n",
       "       12.31466143, 11.49538681, 12.04805627, 12.38976667, 11.66892341,\n",
       "       11.57601709, 11.92246767, 11.81614003, 12.0628676 , 12.16573168,\n",
       "       11.80717807, 11.96981982, 12.32296802, 12.33364169, 11.77596821,\n",
       "       11.86279796, 12.14319493, 11.45057842, 12.33127462, 11.63118409,\n",
       "       11.83361029, 12.05322194, 12.64606484, 12.63969573, 11.93888294,\n",
       "       11.91762568, 12.32898183, 11.58543804, 11.67610988, 12.4683249 ,\n",
       "       11.58446687, 11.63775869, 12.00601071, 12.34432823, 11.94685172,\n",
       "       12.15589284, 11.85954951, 11.02310315, 11.62565877, 12.04859201,\n",
       "       12.14794879, 11.91159439, 12.34240748, 11.78317564, 11.94726418,\n",
       "       12.17567515, 12.20604241, 12.18461642, 11.86605838, 11.83680739,\n",
       "       11.94565497, 11.59356039, 11.71483686, 11.82675243, 12.37514074,\n",
       "       11.68693429, 12.06322762, 12.18375232, 11.98383423, 11.77262345,\n",
       "       12.6928739 , 12.38811854, 12.14670912, 10.94511952, 12.13046158,\n",
       "       12.29102557, 12.40601225, 11.75032754, 12.39406718, 11.89508086,\n",
       "       12.04764947, 12.04300177, 11.88890694, 12.09273324])"
      ]
     },
     "execution_count": 23,
     "metadata": {},
     "output_type": "execute_result"
    }
   ],
   "source": [
    "pred_test_lasso"
   ]
  },
  {
   "cell_type": "code",
   "execution_count": 24,
   "id": "desperate-elder",
   "metadata": {},
   "outputs": [],
   "source": [
    "MAE_Lasso = mean_absolute_error(y_test,pred_test_lasso)\n",
    "MSE_Lasso = mean_squared_error(y_test,pred_test_lasso)\n",
    "RMSE_Lasso = np.sqrt(MSE_Lasso)"
   ]
  },
  {
   "cell_type": "code",
   "execution_count": 25,
   "id": "effective-calgary",
   "metadata": {},
   "outputs": [
    {
     "data": {
      "text/plain": [
       "0.07743678065890326"
      ]
     },
     "execution_count": 25,
     "metadata": {},
     "output_type": "execute_result"
    }
   ],
   "source": [
    "MAE_Lasso"
   ]
  },
  {
   "cell_type": "code",
   "execution_count": 26,
   "id": "moved-format",
   "metadata": {},
   "outputs": [
    {
     "data": {
      "text/plain": [
       "0.011858468848776192"
      ]
     },
     "execution_count": 26,
     "metadata": {},
     "output_type": "execute_result"
    }
   ],
   "source": [
    "MSE_Lasso"
   ]
  },
  {
   "cell_type": "code",
   "execution_count": 27,
   "id": "qualified-killer",
   "metadata": {},
   "outputs": [
    {
     "data": {
      "text/plain": [
       "0.10889659704865066"
      ]
     },
     "execution_count": 27,
     "metadata": {},
     "output_type": "execute_result"
    }
   ],
   "source": [
    "RMSE_Lasso"
   ]
  },
  {
   "cell_type": "code",
   "execution_count": 28,
   "id": "periodic-vatican",
   "metadata": {},
   "outputs": [],
   "source": [
    "def MAPE(y_test,pred_test_lasso):\n",
    "    mape = np.mean(np.abs((y_test - pred_test_lasso)/y_test))*100\n",
    "    return mape"
   ]
  },
  {
   "cell_type": "code",
   "execution_count": 29,
   "id": "personalized-confidentiality",
   "metadata": {},
   "outputs": [],
   "source": [
    "LR_MAPElassocv= MAPE(y_test,pred_test_lasso)"
   ]
  },
  {
   "cell_type": "code",
   "execution_count": 30,
   "id": "unlikely-cloud",
   "metadata": {},
   "outputs": [
    {
     "name": "stdout",
     "output_type": "stream",
     "text": [
      "lassocv MAPE:  0.6487279177309184\n"
     ]
    }
   ],
   "source": [
    "print(\"lassocv MAPE: \",LR_MAPElassocv)"
   ]
  },
  {
   "cell_type": "code",
   "execution_count": 31,
   "id": "harmful-volunteer",
   "metadata": {},
   "outputs": [
    {
     "name": "stdout",
     "output_type": "stream",
     "text": [
      "Best alpha using built-in LassoCV: 0.003068\n",
      "Best score using built-in LassoCV: -2212950.803110\n"
     ]
    }
   ],
   "source": [
    "print(\"Best alpha using built-in LassoCV: %f\" % lasso_model.alpha_)\n",
    "print(\"Best score using built-in LassoCV: %f\" %lasso_model.score(X,y))\n",
    "coef = pd.Series(lasso_model.coef_, index = X.columns)"
   ]
  },
  {
   "cell_type": "code",
   "execution_count": 32,
   "id": "reduced-logging",
   "metadata": {},
   "outputs": [
    {
     "data": {
      "text/plain": [
       "<matplotlib.lines.Line2D at 0x18d41359308>"
      ]
     },
     "execution_count": 32,
     "metadata": {},
     "output_type": "execute_result"
    },
    {
     "data": {
      "image/png": "[encoded data removed]",
      "text/plain": [
       "<Figure size 432x288 with 1 Axes>"
      ]
     },
     "metadata": {
      "needs_background": "light"
     },
     "output_type": "display_data"
    }
   ],
   "source": [
    "sns.scatterplot(x=y_test,y=pred_test_lasso)\n",
    "plt.axhline(y=0,color='magenta',linestyle='--')"
   ]
  },
  {
   "cell_type": "code",
   "execution_count": 33,
   "id": "sharing-outreach",
   "metadata": {},
   "outputs": [
    {
     "data": {
      "image/png": "[encoded data removed]",
      "text/plain": [
       "<Figure size 1000x1200 with 1 Axes>"
      ]
     },
     "metadata": {
      "needs_background": "light"
     },
     "output_type": "display_data"
    }
   ],
   "source": [
    "fig,ax = plt.subplots(figsize=(10,12),dpi=100)\n",
    "\n",
    "_=sp.stats.probplot(pred_test_lasso,plot=ax)"
   ]
  },
  {
   "cell_type": "code",
   "execution_count": 34,
   "id": "armed-positive",
   "metadata": {},
   "outputs": [
    {
     "data": {
      "text/plain": [
       "0.9060463622432311"
      ]
     },
     "execution_count": 34,
     "metadata": {},
     "output_type": "execute_result"
    }
   ],
   "source": [
    "100*RMSE_Lasso/df['saleprice'].mean()"
   ]
  },
  {
   "cell_type": "code",
   "execution_count": 35,
   "id": "stuck-tolerance",
   "metadata": {},
   "outputs": [
    {
     "data": {
      "text/plain": [
       "93.0"
      ]
     },
     "execution_count": 35,
     "metadata": {},
     "output_type": "execute_result"
    }
   ],
   "source": [
    "accuracy2= round(r2_score(y_test, pred_test_lasso), 2)\n",
    "accuracy2= accuracy2 * 100\n",
    "accuracy2"
   ]
  },
  {
   "cell_type": "markdown",
   "id": "downtown-temple",
   "metadata": {},
   "source": [
    "# linear regression"
   ]
  },
  {
   "cell_type": "code",
   "execution_count": 36,
   "id": "wireless-update",
   "metadata": {},
   "outputs": [],
   "source": [
    "#Create  and y \n",
    "X = df.drop('saleprice',axis=1)\n",
    "y = df['saleprice']\n",
    "\n",
    "from sklearn.model_selection import train_test_split\n",
    "X_train,X_test, y_train, y_test = train_test_split(X,y, test_size = 0.2)"
   ]
  },
  {
   "cell_type": "code",
   "execution_count": 37,
   "id": "greek-teach",
   "metadata": {},
   "outputs": [],
   "source": [
    "from sklearn.preprocessing import StandardScaler\n",
    "scaler = StandardScaler()\n",
    "scaler.fit(X_train)\n",
    "X_train = scaler.transform(X_train)\n",
    "X_test = scaler.transform(X_test)"
   ]
  },
  {
   "cell_type": "code",
   "execution_count": 38,
   "id": "cooked-theorem",
   "metadata": {},
   "outputs": [],
   "source": [
    "linear_model = LinearRegression()"
   ]
  },
  {
   "cell_type": "code",
   "execution_count": 39,
   "id": "brutal-threat",
   "metadata": {},
   "outputs": [
    {
     "data": {
      "text/plain": [
       "LinearRegression()"
      ]
     },
     "execution_count": 39,
     "metadata": {},
     "output_type": "execute_result"
    }
   ],
   "source": [
    "linear_model.fit(X_train,y_train)"
   ]
  },
  {
   "cell_type": "code",
   "execution_count": 40,
   "id": "olympic-raising",
   "metadata": {},
   "outputs": [],
   "source": [
    "pred_linear_model = linear_model.predict(X_test)"
   ]
  },
  {
   "cell_type": "code",
   "execution_count": 41,
   "id": "corporate-default",
   "metadata": {},
   "outputs": [
    {
     "data": {
      "text/plain": [
       "array([ 1.17287194e+01,  1.21697556e+01,  1.23767811e+01,  1.24492507e+01,\n",
       "        1.19899804e+01,  1.16594178e+01,  1.23666741e+01,  1.23852116e+01,\n",
       "        1.21781079e+01,  1.19170760e+01,  1.17210137e+01,  1.24272133e+01,\n",
       "        1.18186070e+01,  1.17911602e+01,  1.25487604e+01,  1.18668438e+01,\n",
       "        1.31659466e+01,  1.20877625e+01,  1.20513741e+01,  1.23175255e+01,\n",
       "        1.18436524e+01,  1.18505761e+01, -2.85914246e+11,  1.19427639e+01,\n",
       "        1.18260514e+01,  1.17117478e+01,  1.18401143e+01,  1.27464798e+01,\n",
       "        1.16875798e+01,  1.18806206e+01,  1.14474465e+01,  1.17393757e+01,\n",
       "        1.24617516e+01,  1.18124668e+01,  1.22929265e+01,  1.18600956e+01,\n",
       "        1.18726386e+01,  1.16936623e+01,  1.20338608e+01,  1.18598343e+01,\n",
       "        1.27280671e+01,  1.19198452e+01,  1.19810158e+01,  1.20484311e+01,\n",
       "        1.23213765e+01,  1.18806550e+01,  1.15257565e+01,  1.16372849e+01,\n",
       "        1.12464081e+01,  1.20940110e+01,  1.21584240e+01,  1.22276227e+01,\n",
       "        1.22951180e+01,  1.24571129e+01,  1.15620724e+01,  1.15802018e+01,\n",
       "        1.25540705e+01,  1.24309041e+01,  1.22163407e+01,  1.17778088e+01,\n",
       "        1.16258162e+01,  1.11022545e+01,  1.23139836e+01,  1.14782254e+01,\n",
       "        1.17484595e+01,  1.19219967e+01,  1.23384218e+01,  1.18783585e+01,\n",
       "        1.21283699e+01,  1.14560391e+01,  1.14832217e+01,  1.16871430e+01,\n",
       "        1.26016885e+01,  1.19442727e+01,  1.21338016e+01,  1.26020624e+01,\n",
       "        1.17097079e+01,  1.20669266e+01,  1.25192524e+01,  1.20503251e+01,\n",
       "        1.24016987e+01,  1.22554680e+01,  1.19088589e+01,  1.19721734e+01,\n",
       "        1.20723225e+01,  1.16224133e+01,  1.20800320e+01,  1.19979264e+01,\n",
       "        1.21703450e+01,  1.25787159e+01,  1.21299168e+01,  1.18812138e+01,\n",
       "        1.20043465e+01,  1.24462430e+01,  1.19838673e+01,  1.21519352e+01,\n",
       "        1.23163840e+01,  1.21739435e+01,  1.18763672e+01,  1.18980137e+01,\n",
       "        1.23813969e+01,  1.21369571e+01,  1.22033783e+01,  1.17424351e+01,\n",
       "        1.17929760e+01,  1.18380658e+01,  1.19655072e+01,  1.19993931e+01,\n",
       "        1.13844067e+01,  1.26787790e+01,  1.24076001e+01,  1.19799839e+01,\n",
       "        1.19753796e+01,  1.23048448e+01,  1.19314629e+01,  1.14289853e+01,\n",
       "        1.19120766e+01,  1.20110852e+01,  1.25011479e+01,  1.21385508e+01,\n",
       "        1.13968407e+01,  1.29882844e+01,  1.22776505e+01,  1.14936196e+01,\n",
       "        1.31052561e+01,  1.17100407e+01,  1.18699604e+01,  1.23326737e+01,\n",
       "        1.19306904e+01,  1.22601429e+01,  1.15860766e+01,  1.23308115e+01,\n",
       "        1.19661576e+01,  1.19082409e+01,  1.24158131e+01,  1.18270279e+01,\n",
       "        1.25161969e+01,  1.17158581e+01,  1.24456116e+01,  1.19261719e+01,\n",
       "        1.15097198e+01,  1.23714406e+01,  1.21653859e+01,  1.18361756e+01,\n",
       "        1.17025467e+01,  1.16192950e+01,  1.20658127e+01,  1.24639317e+01,\n",
       "        1.22906052e+01,  1.26326838e+01,  1.15222548e+01,  1.22340526e+01,\n",
       "        1.21540658e+01,  1.15347458e+01,  1.15232798e+01,  1.20999371e+01,\n",
       "        1.16460530e+01,  1.17989882e+01,  1.18997363e+01,  1.16178512e+01,\n",
       "        1.20579373e+01,  1.09041125e+01,  1.19835507e+01,  1.17653901e+01,\n",
       "        1.21095215e+01,  1.18486474e+01,  1.20780484e+01,  1.27841044e+01,\n",
       "        1.28996369e+01,  1.12683960e+01,  1.19445511e+01,  1.21697442e+01,\n",
       "        1.10144001e+01,  1.19978672e+01,  1.11357323e+01,  1.18243596e+01,\n",
       "        1.24826313e+01,  1.18245028e+01,  1.17797183e+01,  1.21299397e+01,\n",
       "        1.16316086e+01,  1.21065442e+01,  1.22584472e+01,  1.14124409e+01,\n",
       "        1.17925717e+01,  1.21504857e+01,  1.21442868e+01,  1.20374447e+01,\n",
       "        1.21757294e+01,  1.16853310e+01,  1.20858342e+01,  1.14900128e+01,\n",
       "        1.21415186e+01,  1.16672951e+01,  1.13940159e+01,  1.21214215e+01,\n",
       "        1.16013524e+01,  1.15261952e+01,  1.17579924e+01,  1.17077140e+01,\n",
       "        1.17125288e+01,  1.18241889e+01,  1.27901627e+01,  1.23440892e+01,\n",
       "        1.14528214e+01,  1.18600804e+01,  1.16437928e+01,  1.12489201e+01,\n",
       "        1.18795468e+01,  1.27746312e+01,  1.25200362e+01,  1.17270142e+01,\n",
       "        1.21509663e+01,  1.25910677e+01,  1.19671628e+01,  1.19132229e+01,\n",
       "        1.17695862e+01,  1.26928374e+01,  1.20306508e+01,  1.17432629e+01,\n",
       "        1.22720347e+01,  1.19200837e+01,  1.17536904e+01,  1.18218552e+01,\n",
       "        1.20553013e+01,  1.26657223e+01,  1.23028981e+01,  1.21924321e+01,\n",
       "        1.19705779e+01,  1.23435379e+01,  1.21160975e+01,  1.16880337e+01,\n",
       "        1.26149270e+01,  1.21387784e+01,  1.10749890e+01,  1.16635472e+01,\n",
       "        1.15476264e+01,  1.17565533e+01,  1.15717486e+01,  1.17617489e+01,\n",
       "        1.20438839e+01,  1.23858909e+01,  1.25807815e+01,  1.24767415e+01,\n",
       "        1.13684155e+01,  1.17355477e+01,  1.21120411e+01,  1.21343647e+01,\n",
       "        1.19741303e+01,  1.34573990e+11,  1.23264576e+01,  1.20969368e+01,\n",
       "        1.17686497e+01, -1.04329005e+11,  1.19243695e+01,  1.20820919e+01,\n",
       "        1.16577069e+01,  1.17363850e+01,  1.19870128e+01,  1.16704270e+01,\n",
       "        1.16055409e+01,  1.23966252e+01,  1.20387303e+01,  1.19271475e+01,\n",
       "        1.25506932e+01,  1.14394092e+01,  1.19115979e+01,  1.21787068e+01,\n",
       "        1.21991974e+01,  1.20148694e+01,  1.18706662e+01,  1.20042607e+01,\n",
       "        1.19890105e+01,  1.21965996e+01,  1.16781308e+01,  1.16212958e+01,\n",
       "        1.20112607e+01,  1.18297869e+01,  1.17609993e+01,  1.20116288e+01,\n",
       "        1.15272566e+01,  1.19429394e+01,  1.18958961e+01,  1.18808705e+01,\n",
       "        1.20338780e+01,  1.24958512e+01,  1.30650244e+01,  1.21619202e+01,\n",
       "        1.26040583e+01,  1.16140422e+01, -2.51344657e+11,  1.23378636e+01,\n",
       "        1.17589928e+01,  1.20781600e+01,  1.24441105e+01,  1.13994652e+01,\n",
       "        1.15080163e+01,  1.25252714e+01,  1.19113418e+01,  1.19083401e+01,\n",
       "        1.17637288e+01,  1.12764718e+01,  1.23328587e+01,  1.15227906e+01,\n",
       "        1.26477372e+01,  1.17089039e+01,  1.23571253e+01,  1.21301362e+01,\n",
       "        1.21461350e+01,  1.13509671e+01,  1.20069329e+01,  1.14922062e+01,\n",
       "        1.16118504e+01,  1.15731007e+01,  1.15113322e+01,  1.20656086e+01,\n",
       "        1.22268177e+01,  1.20572030e+01,  1.16375157e+01,  1.20591942e+01,\n",
       "        1.20795418e+01,  1.19145695e+01,  1.14250733e+01,  1.24463688e+01,\n",
       "        1.18784329e+01,  1.22202317e+01,  1.20460049e+01,  1.21962366e+01,\n",
       "        1.26211583e+01,  1.22831966e+01,  1.29135851e+01,  1.15729960e+01,\n",
       "        1.23227808e+01,  1.18066870e+01, -4.76813219e+11,  1.22229802e+01,\n",
       "        1.26329075e+01,  1.18299881e+01,  1.20453984e+01, -2.51344657e+11,\n",
       "        1.16466156e+01,  1.13922783e+01,  1.26433045e+01,  1.19022757e+01,\n",
       "        1.20892006e+01,  1.23141947e+01,  1.15956646e+01,  1.18687130e+01,\n",
       "        1.19529721e+01,  1.22756396e+01,  1.28368451e+01,  1.22962525e+01,\n",
       "        1.21574360e+01,  1.09475724e+01,  1.25302267e+01,  1.26393162e+01,\n",
       "        1.22485844e+01,  1.20087058e+01,  1.21359669e+01,  1.18387810e+01,\n",
       "        1.21522379e+01,  1.16587063e+01,  1.16986481e+01,  1.17161786e+01,\n",
       "        1.18179966e+01,  1.08517109e+01,  1.17501945e+01,  1.21542635e+01,\n",
       "        1.21935002e+01,  1.17094437e+01,  1.21243029e+01,  1.24024884e+01,\n",
       "        1.19724919e+01,  1.14806460e+01,  1.18714253e+01,  1.25852784e+01,\n",
       "        1.21343266e+01,  1.22076260e+01,  1.20377614e+01,  1.27005854e+01,\n",
       "        1.18363875e+01,  1.18809563e+01,  1.21806637e+01,  1.27708012e+01,\n",
       "        1.18601147e+01,  1.25935437e+01,  1.18078135e+01,  1.23021027e+01,\n",
       "        1.20650898e+01,  1.22298886e+01,  1.20347363e+01,  1.30815115e+01,\n",
       "        1.18659913e+01,  1.31246373e+01,  1.27360302e+01,  1.20364129e+01,\n",
       "        1.18680340e+01,  1.15911499e+01,  1.21065136e+01,  1.23131978e+01,\n",
       "        1.18227765e+01,  1.29182831e+01,  1.24452702e+01,  1.17233693e+01,\n",
       "        1.18642880e+01,  1.17627560e+01,  1.24077488e+01,  1.13771857e+01,\n",
       "        1.22612878e+01,  1.15014054e+01,  1.18163547e+01,  1.24535409e+01,\n",
       "        1.19135586e+01,  1.16966874e+01,  1.15552441e+01,  1.18887736e+01,\n",
       "        1.20294816e+01,  1.15330788e+01,  1.27396555e+01, -9.74196274e+10,\n",
       "        1.23752756e+01,  1.18959309e+01,  1.21586720e+01,  1.20883481e+01,\n",
       "        1.19832245e+01,  1.21792370e+01,  1.21458622e+01,  1.18369471e+01,\n",
       "        1.19700285e+01,  1.13685585e+01,  1.16196877e+01,  1.19747445e+01,\n",
       "        1.17536258e+01,  1.19575058e+01,  1.26800419e+01, -1.04329005e+11,\n",
       "        1.22231989e+01,  1.18294465e+01,  1.20351597e+01,  1.14880921e+01,\n",
       "        1.15356690e+01,  1.17335583e+01,  1.18017196e+01,  1.12934226e+01,\n",
       "        1.26415568e+01,  1.21250702e+01,  1.13126351e+01,  1.26818291e+01,\n",
       "        1.19920880e+01,  1.18101593e+01,  1.20317856e+01,  1.17892491e+01,\n",
       "        1.21154801e+01,  1.15748536e+01,  1.19209687e+01,  1.15482232e+01,\n",
       "        1.23422085e+01,  1.25393368e+01,  1.26878106e+01,  1.18708645e+01,\n",
       "        1.22676635e+01,  1.18555995e+01,  1.16617066e+01,  1.22335335e+01,\n",
       "        1.22663914e+01,  1.26107455e+01,  1.14730336e+01,  1.18113667e+01,\n",
       "        1.22368504e+01,  1.14136883e+01,  1.14471909e+01,  1.19795300e+01,\n",
       "        1.24117924e+01,  1.17573849e+01,  1.22212540e+01,  1.22849671e+01,\n",
       "        1.23620688e+01,  1.25579125e+01,  1.14150177e+01,  1.19652716e+01,\n",
       "        1.21233460e+01,  1.21492993e+01,  1.19259030e+01,  1.16170432e+01,\n",
       "        1.18367993e+01,  1.17804963e+01,  1.26545063e+01,  1.24307610e+01,\n",
       "        1.20182301e+01,  1.16004693e+01,  1.23787457e+01,  1.22163578e+01,\n",
       "        1.15378338e+01,  1.20463368e+01,  1.27628565e+01,  1.22936869e+01,\n",
       "        1.19568345e+01,  1.22167279e+01,  1.20628315e+01,  1.30973482e+01,\n",
       "        1.27003528e+01,  1.18333470e+01,  1.26272389e+01,  1.20788056e+01,\n",
       "        1.20435187e+01,  1.22233540e+01,  1.18429677e+01,  1.20227982e+01,\n",
       "        1.19818655e+01,  1.24573933e+01,  1.19441983e+01,  1.17847706e+01,\n",
       "        1.16265563e+01,  1.19391955e+01,  1.24241826e+01,  1.22682611e+01,\n",
       "        1.26246449e+01,  1.19342915e+01,  1.17922780e+01,  1.24517760e+01,\n",
       "        1.22617070e+01,  1.16611439e+01,  1.27207428e+01,  1.27732668e+01,\n",
       "        1.33153893e+01,  1.10672187e+01,  1.23895680e+01,  1.17829758e+01,\n",
       "        1.17827240e+01,  1.19040162e+01,  1.17577259e+01,  1.24841265e+01,\n",
       "        1.25464894e+01,  1.19682099e+01,  1.17141112e+01,  1.22042042e+01,\n",
       "        1.16599728e+01,  1.20705500e+01,  1.11171547e+01,  1.24673726e+01,\n",
       "       -2.51344657e+11,  1.21705471e+01,  1.16842400e+01,  1.22769352e+01,\n",
       "        1.28589112e+01,  1.26222239e+01,  1.13205449e+01,  1.20145890e+01,\n",
       "        1.22294747e+01,  1.26013504e+01,  1.25655533e+01,  1.18935410e+01,\n",
       "        1.22512217e+01,  1.25913121e+01,  1.21924759e+01,  1.17880284e+01,\n",
       "        1.17894370e+01,  1.19335972e+01,  1.23432347e+01,  1.20133015e+01,\n",
       "        1.22307316e+01,  1.27167012e+01,  1.21594178e+01,  1.19015361e+01,\n",
       "        1.20726277e+01,  1.20992314e+01,  1.21309048e+01,  1.18345810e+01,\n",
       "        1.17812954e+01,  1.18653838e+01,  1.18298069e+01,  1.19994124e+01,\n",
       "        1.15483359e+01,  1.18835865e+01,  1.16021229e+01,  1.23059842e+01,\n",
       "        1.23186299e+01,  1.24603281e+01,  1.21033684e+01,  1.22012364e+01,\n",
       "        1.17570130e+01,  1.24323740e+01,  1.22681290e+01,  1.18863007e+01])"
      ]
     },
     "execution_count": 41,
     "metadata": {},
     "output_type": "execute_result"
    }
   ],
   "source": [
    "pred_linear_model"
   ]
  },
  {
   "cell_type": "code",
   "execution_count": 42,
   "id": "liberal-governor",
   "metadata": {},
   "outputs": [],
   "source": [
    "MAE_Lr = mean_absolute_error(y_test,pred_linear_model)\n",
    "MSE_Lr = mean_squared_error(y_test,pred_linear_model)\n",
    "RMSE_Lr = np.sqrt(MSE_Lr)"
   ]
  },
  {
   "cell_type": "code",
   "execution_count": 43,
   "id": "friendly-dating",
   "metadata": {},
   "outputs": [
    {
     "data": {
      "text/plain": [
       "3351734694.4829817"
      ]
     },
     "execution_count": 43,
     "metadata": {},
     "output_type": "execute_result"
    }
   ],
   "source": [
    "MAE_Lr"
   ]
  },
  {
   "cell_type": "code",
   "execution_count": 44,
   "id": "controlled-stuff",
   "metadata": {},
   "outputs": [
    {
     "data": {
      "text/plain": [
       "9.383391028824634e+20"
      ]
     },
     "execution_count": 44,
     "metadata": {},
     "output_type": "execute_result"
    }
   ],
   "source": [
    "MSE_Lr"
   ]
  },
  {
   "cell_type": "code",
   "execution_count": 45,
   "id": "rental-restriction",
   "metadata": {},
   "outputs": [
    {
     "data": {
      "text/plain": [
       "30632321212.772358"
      ]
     },
     "execution_count": 45,
     "metadata": {},
     "output_type": "execute_result"
    }
   ],
   "source": [
    "RMSE_Lr"
   ]
  },
  {
   "cell_type": "code",
   "execution_count": 46,
   "id": "printable-superintendent",
   "metadata": {},
   "outputs": [],
   "source": [
    "def MAPE(y_test,pred_linear_model):\n",
    "    mape = np.mean(np.abs((y_test - pred_linear_model)/y_test))*100\n",
    "    return mape"
   ]
  },
  {
   "cell_type": "code",
   "execution_count": 47,
   "id": "uniform-applicant",
   "metadata": {},
   "outputs": [],
   "source": [
    "LR_MAPE= MAPE(y_test,pred_linear_model)"
   ]
  },
  {
   "cell_type": "code",
   "execution_count": 48,
   "id": "alpha-guidance",
   "metadata": {},
   "outputs": [
    {
     "name": "stdout",
     "output_type": "stream",
     "text": [
      "MAPE:  28497768113.488354\n"
     ]
    }
   ],
   "source": [
    "print(\"MAPE: \",LR_MAPE)"
   ]
  },
  {
   "cell_type": "code",
   "execution_count": 49,
   "id": "cleared-mathematics",
   "metadata": {},
   "outputs": [
    {
     "name": "stdout",
     "output_type": "stream",
     "text": [
      "Best score using built-in LassoCV: -2245767508194594062977728512.000000\n"
     ]
    }
   ],
   "source": [
    "#print(\"Best alpha using built-in LassoCV: %f\" % linear_model.alpha_)\n",
    "print(\"Best score using built-in LassoCV: %f\" %linear_model.score(X,y))\n",
    "coef = pd.Series(linear_model.coef_, index = X.columns)"
   ]
  },
  {
   "cell_type": "code",
   "execution_count": 50,
   "id": "general-parallel",
   "metadata": {},
   "outputs": [
    {
     "data": {
      "text/plain": [
       "<matplotlib.lines.Line2D at 0x18d4140a488>"
      ]
     },
     "execution_count": 50,
     "metadata": {},
     "output_type": "execute_result"
    },
    {
     "data": {
      "image/png": "[encoded data removed]",
      "text/plain": [
       "<Figure size 432x288 with 1 Axes>"
      ]
     },
     "metadata": {
      "needs_background": "light"
     },
     "output_type": "display_data"
    }
   ],
   "source": [
    "sns.scatterplot(x=y_test,y=pred_linear_model)\n",
    "plt.axhline(y=0,color='magenta',linestyle='--')"
   ]
  },
  {
   "cell_type": "code",
   "execution_count": 51,
   "id": "designed-sword",
   "metadata": {},
   "outputs": [
    {
     "data": {
      "image/png": "[encoded data removed]",
      "text/plain": [
       "<Figure size 1000x1200 with 1 Axes>"
      ]
     },
     "metadata": {
      "needs_background": "light"
     },
     "output_type": "display_data"
    }
   ],
   "source": [
    "fig,ax = plt.subplots(figsize=(10,12),dpi=100)\n",
    "\n",
    "_=sp.stats.probplot(pred_linear_model,plot=ax)"
   ]
  },
  {
   "cell_type": "code",
   "execution_count": 52,
   "id": "public-western",
   "metadata": {},
   "outputs": [
    {
     "data": {
      "text/plain": [
       "-5.405452287554689e+23"
      ]
     },
     "execution_count": 52,
     "metadata": {},
     "output_type": "execute_result"
    }
   ],
   "source": [
    "accuracy3= round(r2_score(y_test, pred_linear_model), 2)\n",
    "accuracy3= accuracy3 * 100\n",
    "accuracy3"
   ]
  },
  {
   "cell_type": "markdown",
   "id": "surrounded-frontier",
   "metadata": {},
   "source": [
    "# Grid search with elastic cv"
   ]
  },
  {
   "cell_type": "code",
   "execution_count": 53,
   "id": "relevant-pressure",
   "metadata": {},
   "outputs": [],
   "source": [
    "#Create  and y \n",
    "X = df.drop('saleprice',axis=1)\n",
    "y = df['saleprice']\n",
    "\n",
    "from sklearn.model_selection import train_test_split\n",
    "X_train,X_test, y_train, y_test = train_test_split(X,y, test_size = 0.3)\n",
    "\n",
    "from sklearn.preprocessing import StandardScaler\n",
    "scaler = StandardScaler()\n",
    "scaler.fit(X_train)\n",
    "X_train = scaler.transform(X_train)\n",
    "X_test = scaler.transform(X_test)"
   ]
  },
  {
   "cell_type": "code",
   "execution_count": 54,
   "id": "unexpected-hostel",
   "metadata": {},
   "outputs": [],
   "source": [
    "#base_elastic_model = ElasticNet(max_iter=250000)\n",
    "base_elastic_model = ElasticNet()"
   ]
  },
  {
   "cell_type": "code",
   "execution_count": 55,
   "id": "built-proceeding",
   "metadata": {},
   "outputs": [],
   "source": [
    "param_grid = {'alpha':[0.1,1,10,50,100],'l1_ratio':[0.1,0.5,0.7,0.9,1]}"
   ]
  },
  {
   "cell_type": "code",
   "execution_count": 56,
   "id": "committed-piece",
   "metadata": {},
   "outputs": [],
   "source": [
    "#grid_model = GridSearchCV(estimator=base_elastic_model,param_grid=param_grid,scoring='neg_mean_squared_error',cv=10,verbose=2)\n",
    "grid_model = GridSearchCV(estimator=base_elastic_model,param_grid=param_grid,scoring='neg_mean_squared_error',cv=10,verbose=2)"
   ]
  },
  {
   "cell_type": "code",
   "execution_count": 57,
   "id": "published-baker",
   "metadata": {},
   "outputs": [
    {
     "name": "stdout",
     "output_type": "stream",
     "text": [
      "Fitting 10 folds for each of 25 candidates, totalling 250 fits\n",
      "[CV] alpha=0.1, l1_ratio=0.1 .........................................\n",
      "[CV] .......................... alpha=0.1, l1_ratio=0.1, total=   0.0s\n",
      "[CV] alpha=0.1, l1_ratio=0.1 .........................................\n",
      "[CV] .......................... alpha=0.1, l1_ratio=0.1, total=   0.0s\n",
      "[CV] alpha=0.1, l1_ratio=0.1 .........................................\n",
      "[CV] .......................... alpha=0.1, l1_ratio=0.1, total=   0.0s\n",
      "[CV] alpha=0.1, l1_ratio=0.1 .........................................\n",
      "[CV] .......................... alpha=0.1, l1_ratio=0.1, total=   0.0s\n",
      "[CV] alpha=0.1, l1_ratio=0.1 .........................................\n",
      "[CV] .......................... alpha=0.1, l1_ratio=0.1, total=   0.0s\n",
      "[CV] alpha=0.1, l1_ratio=0.1 .........................................\n",
      "[CV] .......................... alpha=0.1, l1_ratio=0.1, total=   0.0s\n",
      "[CV] alpha=0.1, l1_ratio=0.1 .........................................\n",
      "[CV] .......................... alpha=0.1, l1_ratio=0.1, total=   0.0s\n",
      "[CV] alpha=0.1, l1_ratio=0.1 ........................................."
     ]
    },
    {
     "name": "stderr",
     "output_type": "stream",
     "text": [
      "[Parallel(n_jobs=1)]: Using backend SequentialBackend with 1 concurrent workers.\n",
      "[Parallel(n_jobs=1)]: Done   1 out of   1 | elapsed:    0.0s remaining:    0.0s\n"
     ]
    },
    {
     "name": "stdout",
     "output_type": "stream",
     "text": [
      "\n",
      "[CV] .......................... alpha=0.1, l1_ratio=0.1, total=   0.0s\n",
      "[CV] alpha=0.1, l1_ratio=0.1 .........................................\n",
      "[CV] .......................... alpha=0.1, l1_ratio=0.1, total=   0.0s\n",
      "[CV] alpha=0.1, l1_ratio=0.1 .........................................\n",
      "[CV] .......................... alpha=0.1, l1_ratio=0.1, total=   0.0s\n",
      "[CV] alpha=0.1, l1_ratio=0.5 .........................................\n",
      "[CV] .......................... alpha=0.1, l1_ratio=0.5, total=   0.0s\n",
      "[CV] alpha=0.1, l1_ratio=0.5 .........................................\n",
      "[CV] .......................... alpha=0.1, l1_ratio=0.5, total=   0.0s\n",
      "[CV] alpha=0.1, l1_ratio=0.5 .........................................\n",
      "[CV] .......................... alpha=0.1, l1_ratio=0.5, total=   0.0s\n",
      "[CV] alpha=0.1, l1_ratio=0.5 .........................................\n",
      "[CV] .......................... alpha=0.1, l1_ratio=0.5, total=   0.0s\n",
      "[CV] alpha=0.1, l1_ratio=0.5 .........................................\n",
      "[CV] .......................... alpha=0.1, l1_ratio=0.5, total=   0.0s\n",
      "[CV] alpha=0.1, l1_ratio=0.5 .........................................\n",
      "[CV] .......................... alpha=0.1, l1_ratio=0.5, total=   0.0s\n",
      "[CV] alpha=0.1, l1_ratio=0.5 .........................................\n",
      "[CV] .......................... alpha=0.1, l1_ratio=0.5, total=   0.0s\n",
      "[CV] alpha=0.1, l1_ratio=0.5 .........................................\n",
      "[CV] .......................... alpha=0.1, l1_ratio=0.5, total=   0.0s\n",
      "[CV] alpha=0.1, l1_ratio=0.5 .........................................\n",
      "[CV] .......................... alpha=0.1, l1_ratio=0.5, total=   0.0s\n",
      "[CV] alpha=0.1, l1_ratio=0.5 .........................................\n",
      "[CV] .......................... alpha=0.1, l1_ratio=0.5, total=   0.0s\n",
      "[CV] alpha=0.1, l1_ratio=0.7 .........................................\n",
      "[CV] .......................... alpha=0.1, l1_ratio=0.7, total=   0.0s\n",
      "[CV] alpha=0.1, l1_ratio=0.7 .........................................\n",
      "[CV] .......................... alpha=0.1, l1_ratio=0.7, total=   0.0s\n",
      "[CV] alpha=0.1, l1_ratio=0.7 .........................................\n",
      "[CV] .......................... alpha=0.1, l1_ratio=0.7, total=   0.0s\n",
      "[CV] alpha=0.1, l1_ratio=0.7 .........................................\n",
      "[CV] .......................... alpha=0.1, l1_ratio=0.7, total=   0.0s\n",
      "[CV] alpha=0.1, l1_ratio=0.7 .........................................\n",
      "[CV] .......................... alpha=0.1, l1_ratio=0.7, total=   0.0s\n",
      "[CV] alpha=0.1, l1_ratio=0.7 .........................................\n",
      "[CV] .......................... alpha=0.1, l1_ratio=0.7, total=   0.0s\n",
      "[CV] alpha=0.1, l1_ratio=0.7 .........................................\n",
      "[CV] .......................... alpha=0.1, l1_ratio=0.7, total=   0.0s\n",
      "[CV] alpha=0.1, l1_ratio=0.7 .........................................\n",
      "[CV] .......................... alpha=0.1, l1_ratio=0.7, total=   0.0s\n",
      "[CV] alpha=0.1, l1_ratio=0.7 .........................................\n",
      "[CV] .......................... alpha=0.1, l1_ratio=0.7, total=   0.0s\n",
      "[CV] alpha=0.1, l1_ratio=0.7 .........................................\n",
      "[CV] .......................... alpha=0.1, l1_ratio=0.7, total=   0.0s\n",
      "[CV] alpha=0.1, l1_ratio=0.9 .........................................\n",
      "[CV] .......................... alpha=0.1, l1_ratio=0.9, total=   0.0s\n",
      "[CV] alpha=0.1, l1_ratio=0.9 .........................................\n",
      "[CV] .......................... alpha=0.1, l1_ratio=0.9, total=   0.0s\n",
      "[CV] alpha=0.1, l1_ratio=0.9 .........................................\n",
      "[CV] .......................... alpha=0.1, l1_ratio=0.9, total=   0.0s\n",
      "[CV] alpha=0.1, l1_ratio=0.9 .........................................\n",
      "[CV] .......................... alpha=0.1, l1_ratio=0.9, total=   0.0s\n",
      "[CV] alpha=0.1, l1_ratio=0.9 .........................................\n",
      "[CV] .......................... alpha=0.1, l1_ratio=0.9, total=   0.0s\n",
      "[CV] alpha=0.1, l1_ratio=0.9 .........................................\n",
      "[CV] .......................... alpha=0.1, l1_ratio=0.9, total=   0.0s\n",
      "[CV] alpha=0.1, l1_ratio=0.9 .........................................\n",
      "[CV] .......................... alpha=0.1, l1_ratio=0.9, total=   0.0s\n",
      "[CV] alpha=0.1, l1_ratio=0.9 .........................................\n",
      "[CV] .......................... alpha=0.1, l1_ratio=0.9, total=   0.0s\n",
      "[CV] alpha=0.1, l1_ratio=0.9 .........................................\n",
      "[CV] .......................... alpha=0.1, l1_ratio=0.9, total=   0.0s\n",
      "[CV] alpha=0.1, l1_ratio=0.9 .........................................\n",
      "[CV] .......................... alpha=0.1, l1_ratio=0.9, total=   0.0s\n",
      "[CV] alpha=0.1, l1_ratio=1 ...........................................\n",
      "[CV] ............................ alpha=0.1, l1_ratio=1, total=   0.0s\n",
      "[CV] alpha=0.1, l1_ratio=1 ...........................................\n",
      "[CV] ............................ alpha=0.1, l1_ratio=1, total=   0.0s\n",
      "[CV] alpha=0.1, l1_ratio=1 ...........................................\n",
      "[CV] ............................ alpha=0.1, l1_ratio=1, total=   0.0s\n",
      "[CV] alpha=0.1, l1_ratio=1 ...........................................\n",
      "[CV] ............................ alpha=0.1, l1_ratio=1, total=   0.0s\n",
      "[CV] alpha=0.1, l1_ratio=1 ...........................................\n",
      "[CV] ............................ alpha=0.1, l1_ratio=1, total=   0.0s\n",
      "[CV] alpha=0.1, l1_ratio=1 ...........................................\n",
      "[CV] ............................ alpha=0.1, l1_ratio=1, total=   0.0s\n",
      "[CV] alpha=0.1, l1_ratio=1 ...........................................\n",
      "[CV] ............................ alpha=0.1, l1_ratio=1, total=   0.0s\n",
      "[CV] alpha=0.1, l1_ratio=1 ...........................................\n",
      "[CV] ............................ alpha=0.1, l1_ratio=1, total=   0.0s\n",
      "[CV] alpha=0.1, l1_ratio=1 ...........................................\n",
      "[CV] ............................ alpha=0.1, l1_ratio=1, total=   0.0s\n",
      "[CV] alpha=0.1, l1_ratio=1 ...........................................\n",
      "[CV] ............................ alpha=0.1, l1_ratio=1, total=   0.0s\n",
      "[CV] alpha=1, l1_ratio=0.1 ...........................................\n",
      "[CV] ............................ alpha=1, l1_ratio=0.1, total=   0.0s\n",
      "[CV] alpha=1, l1_ratio=0.1 ...........................................\n",
      "[CV] ............................ alpha=1, l1_ratio=0.1, total=   0.0s\n",
      "[CV] alpha=1, l1_ratio=0.1 ...........................................\n",
      "[CV] ............................ alpha=1, l1_ratio=0.1, total=   0.0s\n",
      "[CV] alpha=1, l1_ratio=0.1 ...........................................\n",
      "[CV] ............................ alpha=1, l1_ratio=0.1, total=   0.0s\n",
      "[CV] alpha=1, l1_ratio=0.1 ...........................................\n",
      "[CV] ............................ alpha=1, l1_ratio=0.1, total=   0.0s\n",
      "[CV] alpha=1, l1_ratio=0.1 ...........................................\n",
      "[CV] ............................ alpha=1, l1_ratio=0.1, total=   0.0s\n",
      "[CV] alpha=1, l1_ratio=0.1 ...........................................\n",
      "[CV] ............................ alpha=1, l1_ratio=0.1, total=   0.0s\n",
      "[CV] alpha=1, l1_ratio=0.1 ...........................................\n",
      "[CV] ............................ alpha=1, l1_ratio=0.1, total=   0.0s\n",
      "[CV] alpha=1, l1_ratio=0.1 ...........................................\n",
      "[CV] ............................ alpha=1, l1_ratio=0.1, total=   0.0s\n",
      "[CV] alpha=1, l1_ratio=0.1 ...........................................\n",
      "[CV] ............................ alpha=1, l1_ratio=0.1, total=   0.0s\n",
      "[CV] alpha=1, l1_ratio=0.5 ...........................................\n",
      "[CV] ............................ alpha=1, l1_ratio=0.5, total=   0.0s\n",
      "[CV] alpha=1, l1_ratio=0.5 ...........................................\n",
      "[CV] ............................ alpha=1, l1_ratio=0.5, total=   0.0s\n",
      "[CV] alpha=1, l1_ratio=0.5 ...........................................\n",
      "[CV] ............................ alpha=1, l1_ratio=0.5, total=   0.0s\n",
      "[CV] alpha=1, l1_ratio=0.5 ...........................................\n",
      "[CV] ............................ alpha=1, l1_ratio=0.5, total=   0.0s\n",
      "[CV] alpha=1, l1_ratio=0.5 ...........................................\n",
      "[CV] ............................ alpha=1, l1_ratio=0.5, total=   0.0s\n",
      "[CV] alpha=1, l1_ratio=0.5 ...........................................\n",
      "[CV] ............................ alpha=1, l1_ratio=0.5, total=   0.0s\n",
      "[CV] alpha=1, l1_ratio=0.5 ...........................................\n",
      "[CV] ............................ alpha=1, l1_ratio=0.5, total=   0.0s\n",
      "[CV] alpha=1, l1_ratio=0.5 ...........................................\n"
     ]
    },
    {
     "name": "stdout",
     "output_type": "stream",
     "text": [
      "[CV] ............................ alpha=1, l1_ratio=0.5, total=   0.0s\n",
      "[CV] alpha=1, l1_ratio=0.5 ...........................................\n",
      "[CV] ............................ alpha=1, l1_ratio=0.5, total=   0.0s\n",
      "[CV] alpha=1, l1_ratio=0.5 ...........................................\n",
      "[CV] ............................ alpha=1, l1_ratio=0.5, total=   0.0s\n",
      "[CV] alpha=1, l1_ratio=0.7 ...........................................\n",
      "[CV] ............................ alpha=1, l1_ratio=0.7, total=   0.0s\n",
      "[CV] alpha=1, l1_ratio=0.7 ...........................................\n",
      "[CV] ............................ alpha=1, l1_ratio=0.7, total=   0.0s\n",
      "[CV] alpha=1, l1_ratio=0.7 ...........................................\n",
      "[CV] ............................ alpha=1, l1_ratio=0.7, total=   0.0s\n",
      "[CV] alpha=1, l1_ratio=0.7 ...........................................\n",
      "[CV] ............................ alpha=1, l1_ratio=0.7, total=   0.0s\n",
      "[CV] alpha=1, l1_ratio=0.7 ...........................................\n",
      "[CV] ............................ alpha=1, l1_ratio=0.7, total=   0.0s\n",
      "[CV] alpha=1, l1_ratio=0.7 ...........................................\n",
      "[CV] ............................ alpha=1, l1_ratio=0.7, total=   0.0s\n",
      "[CV] alpha=1, l1_ratio=0.7 ...........................................\n",
      "[CV] ............................ alpha=1, l1_ratio=0.7, total=   0.0s\n",
      "[CV] alpha=1, l1_ratio=0.7 ...........................................\n",
      "[CV] ............................ alpha=1, l1_ratio=0.7, total=   0.0s\n",
      "[CV] alpha=1, l1_ratio=0.7 ...........................................\n",
      "[CV] ............................ alpha=1, l1_ratio=0.7, total=   0.0s\n",
      "[CV] alpha=1, l1_ratio=0.7 ...........................................\n",
      "[CV] ............................ alpha=1, l1_ratio=0.7, total=   0.0s\n",
      "[CV] alpha=1, l1_ratio=0.9 ...........................................\n",
      "[CV] ............................ alpha=1, l1_ratio=0.9, total=   0.0s\n",
      "[CV] alpha=1, l1_ratio=0.9 ...........................................\n",
      "[CV] ............................ alpha=1, l1_ratio=0.9, total=   0.0s\n",
      "[CV] alpha=1, l1_ratio=0.9 ...........................................\n",
      "[CV] ............................ alpha=1, l1_ratio=0.9, total=   0.0s\n",
      "[CV] alpha=1, l1_ratio=0.9 ...........................................\n",
      "[CV] ............................ alpha=1, l1_ratio=0.9, total=   0.0s\n",
      "[CV] alpha=1, l1_ratio=0.9 ...........................................\n",
      "[CV] ............................ alpha=1, l1_ratio=0.9, total=   0.0s\n",
      "[CV] alpha=1, l1_ratio=0.9 ...........................................\n",
      "[CV] ............................ alpha=1, l1_ratio=0.9, total=   0.0s\n",
      "[CV] alpha=1, l1_ratio=0.9 ...........................................\n",
      "[CV] ............................ alpha=1, l1_ratio=0.9, total=   0.0s\n",
      "[CV] alpha=1, l1_ratio=0.9 ...........................................\n",
      "[CV] ............................ alpha=1, l1_ratio=0.9, total=   0.0s\n",
      "[CV] alpha=1, l1_ratio=0.9 ...........................................\n",
      "[CV] ............................ alpha=1, l1_ratio=0.9, total=   0.0s\n",
      "[CV] alpha=1, l1_ratio=0.9 ...........................................\n",
      "[CV] ............................ alpha=1, l1_ratio=0.9, total=   0.0s\n",
      "[CV] alpha=1, l1_ratio=1 .............................................\n",
      "[CV] .............................. alpha=1, l1_ratio=1, total=   0.0s\n",
      "[CV] alpha=1, l1_ratio=1 .............................................\n",
      "[CV] .............................. alpha=1, l1_ratio=1, total=   0.0s\n",
      "[CV] alpha=1, l1_ratio=1 .............................................\n",
      "[CV] .............................. alpha=1, l1_ratio=1, total=   0.0s\n",
      "[CV] alpha=1, l1_ratio=1 .............................................\n",
      "[CV] .............................. alpha=1, l1_ratio=1, total=   0.0s\n",
      "[CV] alpha=1, l1_ratio=1 .............................................\n",
      "[CV] .............................. alpha=1, l1_ratio=1, total=   0.0s\n",
      "[CV] alpha=1, l1_ratio=1 .............................................\n",
      "[CV] .............................. alpha=1, l1_ratio=1, total=   0.0s\n",
      "[CV] alpha=1, l1_ratio=1 .............................................\n",
      "[CV] .............................. alpha=1, l1_ratio=1, total=   0.0s\n",
      "[CV] alpha=1, l1_ratio=1 .............................................\n",
      "[CV] .............................. alpha=1, l1_ratio=1, total=   0.0s\n",
      "[CV] alpha=1, l1_ratio=1 .............................................\n",
      "[CV] .............................. alpha=1, l1_ratio=1, total=   0.0s\n",
      "[CV] alpha=1, l1_ratio=1 .............................................\n",
      "[CV] .............................. alpha=1, l1_ratio=1, total=   0.0s\n",
      "[CV] alpha=10, l1_ratio=0.1 ..........................................\n",
      "[CV] ........................... alpha=10, l1_ratio=0.1, total=   0.0s\n",
      "[CV] alpha=10, l1_ratio=0.1 ..........................................\n",
      "[CV] ........................... alpha=10, l1_ratio=0.1, total=   0.0s\n",
      "[CV] alpha=10, l1_ratio=0.1 ..........................................\n",
      "[CV] ........................... alpha=10, l1_ratio=0.1, total=   0.0s\n",
      "[CV] alpha=10, l1_ratio=0.1 ..........................................\n",
      "[CV] ........................... alpha=10, l1_ratio=0.1, total=   0.0s\n",
      "[CV] alpha=10, l1_ratio=0.1 ..........................................\n",
      "[CV] ........................... alpha=10, l1_ratio=0.1, total=   0.0s\n",
      "[CV] alpha=10, l1_ratio=0.1 ..........................................\n",
      "[CV] ........................... alpha=10, l1_ratio=0.1, total=   0.0s\n",
      "[CV] alpha=10, l1_ratio=0.1 ..........................................\n",
      "[CV] ........................... alpha=10, l1_ratio=0.1, total=   0.0s\n",
      "[CV] alpha=10, l1_ratio=0.1 ..........................................\n",
      "[CV] ........................... alpha=10, l1_ratio=0.1, total=   0.0s\n",
      "[CV] alpha=10, l1_ratio=0.1 ..........................................\n",
      "[CV] ........................... alpha=10, l1_ratio=0.1, total=   0.0s\n",
      "[CV] alpha=10, l1_ratio=0.1 ..........................................\n",
      "[CV] ........................... alpha=10, l1_ratio=0.1, total=   0.0s\n",
      "[CV] alpha=10, l1_ratio=0.5 ..........................................\n",
      "[CV] ........................... alpha=10, l1_ratio=0.5, total=   0.0s\n",
      "[CV] alpha=10, l1_ratio=0.5 ..........................................\n",
      "[CV] ........................... alpha=10, l1_ratio=0.5, total=   0.0s\n",
      "[CV] alpha=10, l1_ratio=0.5 ..........................................\n",
      "[CV] ........................... alpha=10, l1_ratio=0.5, total=   0.0s\n",
      "[CV] alpha=10, l1_ratio=0.5 ..........................................\n",
      "[CV] ........................... alpha=10, l1_ratio=0.5, total=   0.0s\n",
      "[CV] alpha=10, l1_ratio=0.5 ..........................................\n",
      "[CV] ........................... alpha=10, l1_ratio=0.5, total=   0.0s\n",
      "[CV] alpha=10, l1_ratio=0.5 ..........................................\n",
      "[CV] ........................... alpha=10, l1_ratio=0.5, total=   0.0s\n",
      "[CV] alpha=10, l1_ratio=0.5 ..........................................\n",
      "[CV] ........................... alpha=10, l1_ratio=0.5, total=   0.0s\n",
      "[CV] alpha=10, l1_ratio=0.5 ..........................................\n",
      "[CV] ........................... alpha=10, l1_ratio=0.5, total=   0.0s\n",
      "[CV] alpha=10, l1_ratio=0.5 ..........................................\n",
      "[CV] ........................... alpha=10, l1_ratio=0.5, total=   0.0s\n",
      "[CV] alpha=10, l1_ratio=0.5 ..........................................\n",
      "[CV] ........................... alpha=10, l1_ratio=0.5, total=   0.0s\n",
      "[CV] alpha=10, l1_ratio=0.7 ..........................................\n",
      "[CV] ........................... alpha=10, l1_ratio=0.7, total=   0.0s\n",
      "[CV] alpha=10, l1_ratio=0.7 ..........................................\n",
      "[CV] ........................... alpha=10, l1_ratio=0.7, total=   0.0s\n",
      "[CV] alpha=10, l1_ratio=0.7 ..........................................\n",
      "[CV] ........................... alpha=10, l1_ratio=0.7, total=   0.0s\n",
      "[CV] alpha=10, l1_ratio=0.7 ..........................................\n",
      "[CV] ........................... alpha=10, l1_ratio=0.7, total=   0.0s\n",
      "[CV] alpha=10, l1_ratio=0.7 ..........................................\n",
      "[CV] ........................... alpha=10, l1_ratio=0.7, total=   0.0s\n"
     ]
    },
    {
     "name": "stdout",
     "output_type": "stream",
     "text": [
      "[CV] alpha=10, l1_ratio=0.7 ..........................................\n",
      "[CV] ........................... alpha=10, l1_ratio=0.7, total=   0.0s\n",
      "[CV] alpha=10, l1_ratio=0.7 ..........................................\n",
      "[CV] ........................... alpha=10, l1_ratio=0.7, total=   0.0s\n",
      "[CV] alpha=10, l1_ratio=0.7 ..........................................\n",
      "[CV] ........................... alpha=10, l1_ratio=0.7, total=   0.0s\n",
      "[CV] alpha=10, l1_ratio=0.7 ..........................................\n",
      "[CV] ........................... alpha=10, l1_ratio=0.7, total=   0.0s\n",
      "[CV] alpha=10, l1_ratio=0.7 ..........................................\n",
      "[CV] ........................... alpha=10, l1_ratio=0.7, total=   0.0s\n",
      "[CV] alpha=10, l1_ratio=0.9 ..........................................\n",
      "[CV] ........................... alpha=10, l1_ratio=0.9, total=   0.0s\n",
      "[CV] alpha=10, l1_ratio=0.9 ..........................................\n",
      "[CV] ........................... alpha=10, l1_ratio=0.9, total=   0.0s\n",
      "[CV] alpha=10, l1_ratio=0.9 ..........................................\n",
      "[CV] ........................... alpha=10, l1_ratio=0.9, total=   0.0s\n",
      "[CV] alpha=10, l1_ratio=0.9 ..........................................\n",
      "[CV] ........................... alpha=10, l1_ratio=0.9, total=   0.0s\n",
      "[CV] alpha=10, l1_ratio=0.9 ..........................................\n",
      "[CV] ........................... alpha=10, l1_ratio=0.9, total=   0.0s\n",
      "[CV] alpha=10, l1_ratio=0.9 ..........................................\n",
      "[CV] ........................... alpha=10, l1_ratio=0.9, total=   0.0s\n",
      "[CV] alpha=10, l1_ratio=0.9 ..........................................\n",
      "[CV] ........................... alpha=10, l1_ratio=0.9, total=   0.0s\n",
      "[CV] alpha=10, l1_ratio=0.9 ..........................................\n",
      "[CV] ........................... alpha=10, l1_ratio=0.9, total=   0.0s\n",
      "[CV] alpha=10, l1_ratio=0.9 ..........................................\n",
      "[CV] ........................... alpha=10, l1_ratio=0.9, total=   0.0s\n",
      "[CV] alpha=10, l1_ratio=0.9 ..........................................\n",
      "[CV] ........................... alpha=10, l1_ratio=0.9, total=   0.0s\n",
      "[CV] alpha=10, l1_ratio=1 ............................................\n",
      "[CV] ............................. alpha=10, l1_ratio=1, total=   0.0s\n",
      "[CV] alpha=10, l1_ratio=1 ............................................\n",
      "[CV] ............................. alpha=10, l1_ratio=1, total=   0.0s\n",
      "[CV] alpha=10, l1_ratio=1 ............................................\n",
      "[CV] ............................. alpha=10, l1_ratio=1, total=   0.0s\n",
      "[CV] alpha=10, l1_ratio=1 ............................................\n",
      "[CV] ............................. alpha=10, l1_ratio=1, total=   0.0s\n",
      "[CV] alpha=10, l1_ratio=1 ............................................\n",
      "[CV] ............................. alpha=10, l1_ratio=1, total=   0.0s\n",
      "[CV] alpha=10, l1_ratio=1 ............................................\n",
      "[CV] ............................. alpha=10, l1_ratio=1, total=   0.0s\n",
      "[CV] alpha=10, l1_ratio=1 ............................................\n",
      "[CV] ............................. alpha=10, l1_ratio=1, total=   0.0s\n",
      "[CV] alpha=10, l1_ratio=1 ............................................\n",
      "[CV] ............................. alpha=10, l1_ratio=1, total=   0.0s\n",
      "[CV] alpha=10, l1_ratio=1 ............................................\n",
      "[CV] ............................. alpha=10, l1_ratio=1, total=   0.0s\n",
      "[CV] alpha=10, l1_ratio=1 ............................................\n",
      "[CV] ............................. alpha=10, l1_ratio=1, total=   0.0s\n",
      "[CV] alpha=50, l1_ratio=0.1 ..........................................\n",
      "[CV] ........................... alpha=50, l1_ratio=0.1, total=   0.0s\n",
      "[CV] alpha=50, l1_ratio=0.1 ..........................................\n",
      "[CV] ........................... alpha=50, l1_ratio=0.1, total=   0.0s\n",
      "[CV] alpha=50, l1_ratio=0.1 ..........................................\n",
      "[CV] ........................... alpha=50, l1_ratio=0.1, total=   0.0s\n",
      "[CV] alpha=50, l1_ratio=0.1 ..........................................\n",
      "[CV] ........................... alpha=50, l1_ratio=0.1, total=   0.0s\n",
      "[CV] alpha=50, l1_ratio=0.1 ..........................................\n",
      "[CV] ........................... alpha=50, l1_ratio=0.1, total=   0.0s\n",
      "[CV] alpha=50, l1_ratio=0.1 ..........................................\n",
      "[CV] ........................... alpha=50, l1_ratio=0.1, total=   0.0s\n",
      "[CV] alpha=50, l1_ratio=0.1 ..........................................\n",
      "[CV] ........................... alpha=50, l1_ratio=0.1, total=   0.0s\n",
      "[CV] alpha=50, l1_ratio=0.1 ..........................................\n",
      "[CV] ........................... alpha=50, l1_ratio=0.1, total=   0.0s\n",
      "[CV] alpha=50, l1_ratio=0.1 ..........................................\n",
      "[CV] ........................... alpha=50, l1_ratio=0.1, total=   0.0s\n",
      "[CV] alpha=50, l1_ratio=0.1 ..........................................\n",
      "[CV] ........................... alpha=50, l1_ratio=0.1, total=   0.0s\n",
      "[CV] alpha=50, l1_ratio=0.5 ..........................................\n",
      "[CV] ........................... alpha=50, l1_ratio=0.5, total=   0.0s\n",
      "[CV] alpha=50, l1_ratio=0.5 ..........................................\n",
      "[CV] ........................... alpha=50, l1_ratio=0.5, total=   0.0s\n",
      "[CV] alpha=50, l1_ratio=0.5 ..........................................\n",
      "[CV] ........................... alpha=50, l1_ratio=0.5, total=   0.0s\n",
      "[CV] alpha=50, l1_ratio=0.5 ..........................................\n",
      "[CV] ........................... alpha=50, l1_ratio=0.5, total=   0.0s\n",
      "[CV] alpha=50, l1_ratio=0.5 ..........................................\n",
      "[CV] ........................... alpha=50, l1_ratio=0.5, total=   0.0s\n",
      "[CV] alpha=50, l1_ratio=0.5 ..........................................\n",
      "[CV] ........................... alpha=50, l1_ratio=0.5, total=   0.0s\n",
      "[CV] alpha=50, l1_ratio=0.5 ..........................................\n",
      "[CV] ........................... alpha=50, l1_ratio=0.5, total=   0.0s\n",
      "[CV] alpha=50, l1_ratio=0.5 ..........................................\n",
      "[CV] ........................... alpha=50, l1_ratio=0.5, total=   0.0s\n",
      "[CV] alpha=50, l1_ratio=0.5 ..........................................\n",
      "[CV] ........................... alpha=50, l1_ratio=0.5, total=   0.0s\n",
      "[CV] alpha=50, l1_ratio=0.5 ..........................................\n",
      "[CV] ........................... alpha=50, l1_ratio=0.5, total=   0.0s\n",
      "[CV] alpha=50, l1_ratio=0.7 ..........................................\n",
      "[CV] ........................... alpha=50, l1_ratio=0.7, total=   0.0s\n",
      "[CV] alpha=50, l1_ratio=0.7 ..........................................\n",
      "[CV] ........................... alpha=50, l1_ratio=0.7, total=   0.0s\n",
      "[CV] alpha=50, l1_ratio=0.7 ..........................................\n",
      "[CV] ........................... alpha=50, l1_ratio=0.7, total=   0.0s\n",
      "[CV] alpha=50, l1_ratio=0.7 ..........................................\n",
      "[CV] ........................... alpha=50, l1_ratio=0.7, total=   0.0s\n",
      "[CV] alpha=50, l1_ratio=0.7 ..........................................\n",
      "[CV] ........................... alpha=50, l1_ratio=0.7, total=   0.0s\n",
      "[CV] alpha=50, l1_ratio=0.7 ..........................................\n",
      "[CV] ........................... alpha=50, l1_ratio=0.7, total=   0.0s\n",
      "[CV] alpha=50, l1_ratio=0.7 ..........................................\n",
      "[CV] ........................... alpha=50, l1_ratio=0.7, total=   0.0s\n",
      "[CV] alpha=50, l1_ratio=0.7 ..........................................\n",
      "[CV] ........................... alpha=50, l1_ratio=0.7, total=   0.0s\n",
      "[CV] alpha=50, l1_ratio=0.7 ..........................................\n",
      "[CV] ........................... alpha=50, l1_ratio=0.7, total=   0.0s\n",
      "[CV] alpha=50, l1_ratio=0.7 ..........................................\n",
      "[CV] ........................... alpha=50, l1_ratio=0.7, total=   0.0s\n",
      "[CV] alpha=50, l1_ratio=0.9 ..........................................\n",
      "[CV] ........................... alpha=50, l1_ratio=0.9, total=   0.0s\n",
      "[CV] alpha=50, l1_ratio=0.9 ..........................................\n",
      "[CV] ........................... alpha=50, l1_ratio=0.9, total=   0.0s\n",
      "[CV] alpha=50, l1_ratio=0.9 ..........................................\n",
      "[CV] ........................... alpha=50, l1_ratio=0.9, total=   0.0s\n",
      "[CV] alpha=50, l1_ratio=0.9 ..........................................\n",
      "[CV] ........................... alpha=50, l1_ratio=0.9, total=   0.0s\n",
      "[CV] alpha=50, l1_ratio=0.9 ..........................................\n",
      "[CV] ........................... alpha=50, l1_ratio=0.9, total=   0.0s\n",
      "[CV] alpha=50, l1_ratio=0.9 ..........................................\n",
      "[CV] ........................... alpha=50, l1_ratio=0.9, total=   0.0s\n",
      "[CV] alpha=50, l1_ratio=0.9 ..........................................\n",
      "[CV] ........................... alpha=50, l1_ratio=0.9, total=   0.0s\n",
      "[CV] alpha=50, l1_ratio=0.9 ..........................................\n",
      "[CV] ........................... alpha=50, l1_ratio=0.9, total=   0.0s\n",
      "[CV] alpha=50, l1_ratio=0.9 ..........................................\n",
      "[CV] ........................... alpha=50, l1_ratio=0.9, total=   0.0s\n",
      "[CV] alpha=50, l1_ratio=0.9 ..........................................\n"
     ]
    },
    {
     "name": "stdout",
     "output_type": "stream",
     "text": [
      "[CV] ........................... alpha=50, l1_ratio=0.9, total=   0.0s\n",
      "[CV] alpha=50, l1_ratio=1 ............................................\n",
      "[CV] ............................. alpha=50, l1_ratio=1, total=   0.0s\n",
      "[CV] alpha=50, l1_ratio=1 ............................................\n",
      "[CV] ............................. alpha=50, l1_ratio=1, total=   0.0s\n",
      "[CV] alpha=50, l1_ratio=1 ............................................\n",
      "[CV] ............................. alpha=50, l1_ratio=1, total=   0.0s\n",
      "[CV] alpha=50, l1_ratio=1 ............................................\n",
      "[CV] ............................. alpha=50, l1_ratio=1, total=   0.0s\n",
      "[CV] alpha=50, l1_ratio=1 ............................................\n",
      "[CV] ............................. alpha=50, l1_ratio=1, total=   0.0s\n",
      "[CV] alpha=50, l1_ratio=1 ............................................\n",
      "[CV] ............................. alpha=50, l1_ratio=1, total=   0.0s\n",
      "[CV] alpha=50, l1_ratio=1 ............................................\n",
      "[CV] ............................. alpha=50, l1_ratio=1, total=   0.0s\n",
      "[CV] alpha=50, l1_ratio=1 ............................................\n",
      "[CV] ............................. alpha=50, l1_ratio=1, total=   0.0s\n",
      "[CV] alpha=50, l1_ratio=1 ............................................\n",
      "[CV] ............................. alpha=50, l1_ratio=1, total=   0.0s\n",
      "[CV] alpha=50, l1_ratio=1 ............................................\n",
      "[CV] ............................. alpha=50, l1_ratio=1, total=   0.0s\n",
      "[CV] alpha=100, l1_ratio=0.1 .........................................\n",
      "[CV] .......................... alpha=100, l1_ratio=0.1, total=   0.0s\n",
      "[CV] alpha=100, l1_ratio=0.1 .........................................\n",
      "[CV] .......................... alpha=100, l1_ratio=0.1, total=   0.0s\n",
      "[CV] alpha=100, l1_ratio=0.1 .........................................\n",
      "[CV] .......................... alpha=100, l1_ratio=0.1, total=   0.0s\n",
      "[CV] alpha=100, l1_ratio=0.1 .........................................\n",
      "[CV] .......................... alpha=100, l1_ratio=0.1, total=   0.0s\n",
      "[CV] alpha=100, l1_ratio=0.1 .........................................\n",
      "[CV] .......................... alpha=100, l1_ratio=0.1, total=   0.0s\n",
      "[CV] alpha=100, l1_ratio=0.1 .........................................\n",
      "[CV] .......................... alpha=100, l1_ratio=0.1, total=   0.0s\n",
      "[CV] alpha=100, l1_ratio=0.1 .........................................\n",
      "[CV] .......................... alpha=100, l1_ratio=0.1, total=   0.0s\n",
      "[CV] alpha=100, l1_ratio=0.1 .........................................\n",
      "[CV] .......................... alpha=100, l1_ratio=0.1, total=   0.0s\n",
      "[CV] alpha=100, l1_ratio=0.1 .........................................\n",
      "[CV] .......................... alpha=100, l1_ratio=0.1, total=   0.0s\n",
      "[CV] alpha=100, l1_ratio=0.1 .........................................\n",
      "[CV] .......................... alpha=100, l1_ratio=0.1, total=   0.0s\n",
      "[CV] alpha=100, l1_ratio=0.5 .........................................\n",
      "[CV] .......................... alpha=100, l1_ratio=0.5, total=   0.0s\n",
      "[CV] alpha=100, l1_ratio=0.5 .........................................\n",
      "[CV] .......................... alpha=100, l1_ratio=0.5, total=   0.0s\n",
      "[CV] alpha=100, l1_ratio=0.5 .........................................\n",
      "[CV] .......................... alpha=100, l1_ratio=0.5, total=   0.0s\n",
      "[CV] alpha=100, l1_ratio=0.5 .........................................\n",
      "[CV] .......................... alpha=100, l1_ratio=0.5, total=   0.0s\n",
      "[CV] alpha=100, l1_ratio=0.5 .........................................\n",
      "[CV] .......................... alpha=100, l1_ratio=0.5, total=   0.0s\n",
      "[CV] alpha=100, l1_ratio=0.5 .........................................\n",
      "[CV] .......................... alpha=100, l1_ratio=0.5, total=   0.0s\n",
      "[CV] alpha=100, l1_ratio=0.5 .........................................\n",
      "[CV] .......................... alpha=100, l1_ratio=0.5, total=   0.0s\n",
      "[CV] alpha=100, l1_ratio=0.5 .........................................\n",
      "[CV] .......................... alpha=100, l1_ratio=0.5, total=   0.0s\n",
      "[CV] alpha=100, l1_ratio=0.5 .........................................\n",
      "[CV] .......................... alpha=100, l1_ratio=0.5, total=   0.0s\n",
      "[CV] alpha=100, l1_ratio=0.5 .........................................\n",
      "[CV] .......................... alpha=100, l1_ratio=0.5, total=   0.0s\n",
      "[CV] alpha=100, l1_ratio=0.7 .........................................\n",
      "[CV] .......................... alpha=100, l1_ratio=0.7, total=   0.0s\n",
      "[CV] alpha=100, l1_ratio=0.7 .........................................\n",
      "[CV] .......................... alpha=100, l1_ratio=0.7, total=   0.0s\n",
      "[CV] alpha=100, l1_ratio=0.7 .........................................\n",
      "[CV] .......................... alpha=100, l1_ratio=0.7, total=   0.0s\n",
      "[CV] alpha=100, l1_ratio=0.7 .........................................\n",
      "[CV] .......................... alpha=100, l1_ratio=0.7, total=   0.0s\n",
      "[CV] alpha=100, l1_ratio=0.7 .........................................\n",
      "[CV] .......................... alpha=100, l1_ratio=0.7, total=   0.0s\n",
      "[CV] alpha=100, l1_ratio=0.7 .........................................\n",
      "[CV] .......................... alpha=100, l1_ratio=0.7, total=   0.0s\n",
      "[CV] alpha=100, l1_ratio=0.7 .........................................\n",
      "[CV] .......................... alpha=100, l1_ratio=0.7, total=   0.0s\n",
      "[CV] alpha=100, l1_ratio=0.7 .........................................\n",
      "[CV] .......................... alpha=100, l1_ratio=0.7, total=   0.0s\n",
      "[CV] alpha=100, l1_ratio=0.7 .........................................\n",
      "[CV] .......................... alpha=100, l1_ratio=0.7, total=   0.0s\n",
      "[CV] alpha=100, l1_ratio=0.7 .........................................\n",
      "[CV] .......................... alpha=100, l1_ratio=0.7, total=   0.0s\n",
      "[CV] alpha=100, l1_ratio=0.9 .........................................\n",
      "[CV] .......................... alpha=100, l1_ratio=0.9, total=   0.0s\n",
      "[CV] alpha=100, l1_ratio=0.9 .........................................\n",
      "[CV] .......................... alpha=100, l1_ratio=0.9, total=   0.0s\n",
      "[CV] alpha=100, l1_ratio=0.9 .........................................\n",
      "[CV] .......................... alpha=100, l1_ratio=0.9, total=   0.0s\n",
      "[CV] alpha=100, l1_ratio=0.9 .........................................\n",
      "[CV] .......................... alpha=100, l1_ratio=0.9, total=   0.0s\n",
      "[CV] alpha=100, l1_ratio=0.9 .........................................\n",
      "[CV] .......................... alpha=100, l1_ratio=0.9, total=   0.0s\n",
      "[CV] alpha=100, l1_ratio=0.9 .........................................\n",
      "[CV] .......................... alpha=100, l1_ratio=0.9, total=   0.0s\n",
      "[CV] alpha=100, l1_ratio=0.9 .........................................\n",
      "[CV] .......................... alpha=100, l1_ratio=0.9, total=   0.0s\n",
      "[CV] alpha=100, l1_ratio=0.9 .........................................\n",
      "[CV] .......................... alpha=100, l1_ratio=0.9, total=   0.0s\n",
      "[CV] alpha=100, l1_ratio=0.9 .........................................\n",
      "[CV] .......................... alpha=100, l1_ratio=0.9, total=   0.0s\n",
      "[CV] alpha=100, l1_ratio=0.9 .........................................\n",
      "[CV] .......................... alpha=100, l1_ratio=0.9, total=   0.0s\n",
      "[CV] alpha=100, l1_ratio=1 ...........................................\n",
      "[CV] ............................ alpha=100, l1_ratio=1, total=   0.0s\n",
      "[CV] alpha=100, l1_ratio=1 ...........................................\n",
      "[CV] ............................ alpha=100, l1_ratio=1, total=   0.0s\n",
      "[CV] alpha=100, l1_ratio=1 ...........................................\n",
      "[CV] ............................ alpha=100, l1_ratio=1, total=   0.0s\n",
      "[CV] alpha=100, l1_ratio=1 ...........................................\n",
      "[CV] ............................ alpha=100, l1_ratio=1, total=   0.0s\n",
      "[CV] alpha=100, l1_ratio=1 ...........................................\n",
      "[CV] ............................ alpha=100, l1_ratio=1, total=   0.0s\n",
      "[CV] alpha=100, l1_ratio=1 ...........................................\n",
      "[CV] ............................ alpha=100, l1_ratio=1, total=   0.0s\n",
      "[CV] alpha=100, l1_ratio=1 ...........................................\n",
      "[CV] ............................ alpha=100, l1_ratio=1, total=   0.0s\n",
      "[CV] alpha=100, l1_ratio=1 ...........................................\n",
      "[CV] ............................ alpha=100, l1_ratio=1, total=   0.0s\n",
      "[CV] alpha=100, l1_ratio=1 ...........................................\n",
      "[CV] ............................ alpha=100, l1_ratio=1, total=   0.0s\n",
      "[CV] alpha=100, l1_ratio=1 ...........................................\n",
      "[CV] ............................ alpha=100, l1_ratio=1, total=   0.0s\n"
     ]
    },
    {
     "name": "stderr",
     "output_type": "stream",
     "text": [
      "[Parallel(n_jobs=1)]: Done 250 out of 250 | elapsed:    4.0s finished\n"
     ]
    },
    {
     "data": {
      "text/plain": [
       "GridSearchCV(cv=10, estimator=ElasticNet(),\n",
       "             param_grid={'alpha': [0.1, 1, 10, 50, 100],\n",
       "                         'l1_ratio': [0.1, 0.5, 0.7, 0.9, 1]},\n",
       "             scoring='neg_mean_squared_error', verbose=2)"
      ]
     },
     "execution_count": 57,
     "metadata": {},
     "output_type": "execute_result"
    }
   ],
   "source": [
    "grid_model.fit(X_train,y_train)"
   ]
  },
  {
   "cell_type": "code",
   "execution_count": 58,
   "id": "interim-norman",
   "metadata": {},
   "outputs": [
    {
     "data": {
      "text/plain": [
       "{'alpha': 0.1, 'l1_ratio': 0.1}"
      ]
     },
     "execution_count": 58,
     "metadata": {},
     "output_type": "execute_result"
    }
   ],
   "source": [
    "grid_model.best_params_"
   ]
  },
  {
   "cell_type": "code",
   "execution_count": 59,
   "id": "operating-inside",
   "metadata": {},
   "outputs": [
    {
     "data": {
      "text/plain": [
       "ElasticNet(alpha=0.1, l1_ratio=0.1)"
      ]
     },
     "execution_count": 59,
     "metadata": {},
     "output_type": "execute_result"
    }
   ],
   "source": [
    "grid_model.best_estimator_"
   ]
  },
  {
   "cell_type": "code",
   "execution_count": 60,
   "id": "generic-genesis",
   "metadata": {},
   "outputs": [],
   "source": [
    "y_pred = grid_model.predict(X_test)"
   ]
  },
  {
   "cell_type": "code",
   "execution_count": 61,
   "id": "fitting-thing",
   "metadata": {},
   "outputs": [
    {
     "data": {
      "text/plain": [
       "0.015242313929601027"
      ]
     },
     "execution_count": 61,
     "metadata": {},
     "output_type": "execute_result"
    }
   ],
   "source": [
    "mean_squared_error(y_test,y_pred)"
   ]
  },
  {
   "cell_type": "code",
   "execution_count": 62,
   "id": "korean-cambodia",
   "metadata": {},
   "outputs": [
    {
     "data": {
      "text/plain": [
       "0.12345976644073577"
      ]
     },
     "execution_count": 62,
     "metadata": {},
     "output_type": "execute_result"
    }
   ],
   "source": [
    "RMSE = np.sqrt(mean_squared_error(y_test,y_pred))\n",
    "RMSE"
   ]
  },
  {
   "cell_type": "code",
   "execution_count": 63,
   "id": "hazardous-integrity",
   "metadata": {},
   "outputs": [],
   "source": [
    "test_prob = y_test - y_pred"
   ]
  },
  {
   "cell_type": "code",
   "execution_count": 64,
   "id": "quick-sixth",
   "metadata": {},
   "outputs": [
    {
     "data": {
      "text/plain": [
       "<matplotlib.lines.Line2D at 0x18d44498808>"
      ]
     },
     "execution_count": 64,
     "metadata": {},
     "output_type": "execute_result"
    },
    {
     "data": {
      "image/png": "[encoded data removed]",
      "text/plain": [
       "<Figure size 432x288 with 1 Axes>"
      ]
     },
     "metadata": {
      "needs_background": "light"
     },
     "output_type": "display_data"
    }
   ],
   "source": [
    "sns.scatterplot(x=y_test,y=test_prob)\n",
    "plt.axhline(y=0,color='magenta',linestyle='--')"
   ]
  },
  {
   "cell_type": "code",
   "execution_count": 65,
   "id": "blond-immune",
   "metadata": {},
   "outputs": [
    {
     "data": {
      "image/png": "[encoded data removed]",
      "text/plain": [
       "<Figure size 1000x1200 with 1 Axes>"
      ]
     },
     "metadata": {
      "needs_background": "light"
     },
     "output_type": "display_data"
    }
   ],
   "source": [
    "fig,ax = plt.subplots(figsize=(10,12),dpi=100)\n",
    "\n",
    "_=sp.stats.probplot(test_prob,plot=ax)"
   ]
  },
  {
   "cell_type": "code",
   "execution_count": 66,
   "id": "natural-minutes",
   "metadata": {},
   "outputs": [],
   "source": [
    "def MAPE(y_test,y_pred):\n",
    "    mape = np.mean(np.abs((y_test - y_pred)/y_test))*100\n",
    "    return mape"
   ]
  },
  {
   "cell_type": "code",
   "execution_count": 67,
   "id": "atlantic-blowing",
   "metadata": {},
   "outputs": [],
   "source": [
    "LR_MAPEgrid= MAPE(y_test,y_pred)"
   ]
  },
  {
   "cell_type": "code",
   "execution_count": 68,
   "id": "treated-anaheim",
   "metadata": {},
   "outputs": [
    {
     "name": "stdout",
     "output_type": "stream",
     "text": [
      "MAPE:  0.7074879503548946\n"
     ]
    }
   ],
   "source": [
    "print(\"MAPE: \",LR_MAPEgrid)"
   ]
  },
  {
   "cell_type": "code",
   "execution_count": 69,
   "id": "express-lying",
   "metadata": {},
   "outputs": [
    {
     "data": {
      "text/plain": [
       "91.0"
      ]
     },
     "execution_count": 69,
     "metadata": {},
     "output_type": "execute_result"
    }
   ],
   "source": [
    "accuracy4= round(r2_score(y_test, y_pred), 2)\n",
    "accuracy4= accuracy4 * 100\n",
    "accuracy4"
   ]
  },
  {
   "cell_type": "markdown",
   "id": "silver-invalid",
   "metadata": {},
   "source": [
    "# Ridge model"
   ]
  },
  {
   "cell_type": "code",
   "execution_count": 70,
   "id": "promotional-cleveland",
   "metadata": {},
   "outputs": [],
   "source": [
    "#Create  and y \n",
    "X = df.drop('saleprice',axis=1)\n",
    "y = df['saleprice']\n",
    "\n",
    "from sklearn.model_selection import train_test_split\n",
    "X_train,X_test, y_train, y_test = train_test_split(X,y, test_size = 0.3)\n",
    "\n",
    "from sklearn.preprocessing import StandardScaler\n",
    "scaler = StandardScaler()\n",
    "scaler.fit(X_train)\n",
    "X_train = scaler.transform(X_train)\n",
    "X_test = scaler.transform(X_test)"
   ]
  },
  {
   "cell_type": "code",
   "execution_count": 71,
   "id": "identical-effects",
   "metadata": {},
   "outputs": [],
   "source": [
    "ridge_model = Ridge(alpha=10)"
   ]
  },
  {
   "cell_type": "code",
   "execution_count": 72,
   "id": "conventional-compact",
   "metadata": {},
   "outputs": [
    {
     "data": {
      "text/plain": [
       "Ridge(alpha=10)"
      ]
     },
     "execution_count": 72,
     "metadata": {},
     "output_type": "execute_result"
    }
   ],
   "source": [
    "ridge_model.fit(X_train,y_train)"
   ]
  },
  {
   "cell_type": "code",
   "execution_count": 73,
   "id": "czech-works",
   "metadata": {},
   "outputs": [],
   "source": [
    "pred_test_ridge = ridge_model.predict(X_test)"
   ]
  },
  {
   "cell_type": "code",
   "execution_count": 74,
   "id": "boxed-confirmation",
   "metadata": {},
   "outputs": [
    {
     "data": {
      "text/plain": [
       "array([11.97279465, 11.3500659 , 11.6451732 , 11.81201111, 12.41861922,\n",
       "       12.38324205, 11.81745945, 11.88359368, 12.16830346, 12.16700584,\n",
       "       12.08950124, 12.36377242, 12.491732  , 11.85119006, 11.67473984,\n",
       "       11.68066659, 11.35833325, 12.07542195, 11.62701831, 11.97608787,\n",
       "       11.83822769, 11.76413972, 12.48811706, 11.76081542, 11.59261682,\n",
       "       12.01389516, 12.21073968, 12.45677273, 11.8576499 , 11.75758334,\n",
       "       11.9983118 , 11.62529161, 12.15107113, 12.12953471, 11.53537848,\n",
       "       12.96666064, 12.20954968, 11.91728445, 12.41202067, 12.08875512,\n",
       "       11.50272608, 12.2124837 , 11.5942897 , 11.6717575 , 12.53936577,\n",
       "       12.67567805, 12.63861492, 10.57886664, 11.99679796, 11.58376958,\n",
       "       12.65181009, 12.16557405, 12.10217867, 11.6749422 , 12.03897777,\n",
       "       11.76289315, 11.75836715, 11.94380702, 12.21699669, 11.83735643,\n",
       "       12.53957799, 12.51255327, 11.0427825 , 11.1414464 , 11.83987814,\n",
       "       11.45459617, 11.85372222, 11.94998969, 11.32350839, 12.26862234,\n",
       "       12.64552429, 11.74817536, 11.81551981, 12.25357865, 12.06752423,\n",
       "       11.92806129, 11.88671119, 12.87496908, 12.49757726, 11.95001708,\n",
       "       11.24232382, 12.08578831, 11.5446395 , 12.38178622, 12.19313401,\n",
       "       12.06758184, 11.75159775, 11.99850656, 11.83056968, 12.18449711,\n",
       "       12.56555515, 12.29987083, 11.8500445 , 11.53264505, 12.0329021 ,\n",
       "       12.03776455, 12.1668265 , 11.74409935, 12.60614448, 12.51989471,\n",
       "       12.04094334, 11.86028253, 12.23965342, 12.52343251, 11.39580223,\n",
       "       12.93247159, 12.26702761, 11.94548191, 12.07820513, 11.96924686,\n",
       "       11.98354541, 11.98090646, 11.85991849, 12.0076961 , 12.47719064,\n",
       "       11.60508033, 11.87583451, 11.61072518, 11.87591813, 11.89893126,\n",
       "       12.41506629, 11.69493544, 11.98006032, 11.85228761, 11.77433583,\n",
       "       12.01859686, 12.26622178, 11.82840225, 11.9696976 , 12.84150229,\n",
       "       12.2762736 , 11.92196018, 11.9636657 , 12.2775958 , 12.30497665,\n",
       "       11.83553162, 12.63176339, 11.84612819, 11.99093916, 11.90206572,\n",
       "       11.99196606, 11.72698121, 11.83255924, 12.02323964, 11.50780802,\n",
       "       11.7192619 , 11.28979446, 11.66212948, 11.84409343, 11.63366788,\n",
       "       12.27224536, 12.15072766, 12.37918398, 12.555285  , 11.90364305,\n",
       "       11.29153023, 12.2935767 , 11.77924454, 12.41586451, 12.76815065,\n",
       "       11.89517632, 12.53345413, 11.76183928, 11.78464686, 11.87950889,\n",
       "       12.39072188, 11.90624485, 11.87885753, 11.7222932 , 12.60594016,\n",
       "       12.12686045, 12.48243772, 12.08577868, 11.96839335, 11.63359729,\n",
       "       12.42259585, 13.26569153, 11.85524702, 11.937164  , 12.22439158,\n",
       "       12.10957092, 11.98806002, 12.40459088, 11.07583086, 11.71361875,\n",
       "       11.83847032, 11.64559825, 11.69668571, 11.78674056, 11.6564223 ,\n",
       "       12.38873521, 11.63836381, 11.8422101 , 12.10406311, 11.90652967,\n",
       "       12.44534864, 12.08216619, 11.9020861 , 12.28054694, 11.6089668 ,\n",
       "       12.04463975, 12.52143863, 12.06060295, 11.89526774, 11.50386877,\n",
       "       12.46803936, 11.54757298, 11.50997006, 11.85605762, 11.66186041,\n",
       "       11.51384055, 11.41712449, 11.7916513 , 11.76008636, 11.84673458,\n",
       "       12.24344154, 12.56709833, 11.78071777, 12.05441305, 11.86436203,\n",
       "       12.52613502, 12.32330303, 12.47489994, 12.68516524, 12.24013711,\n",
       "       12.17236767, 12.36587751, 12.34291789, 12.14176634, 12.72258101,\n",
       "       11.97376957, 11.43224161, 12.82810182, 12.02107106, 11.28064043,\n",
       "       11.76040414, 12.01929518, 11.92148039, 12.1971018 , 11.65021127,\n",
       "       11.60342784, 11.70814815, 11.93537427, 12.03386228, 12.04021146,\n",
       "       12.43862722, 12.47672371, 12.15946829, 12.37493732, 11.43043453,\n",
       "       11.67336865, 11.9242233 , 11.63339027, 12.63032823, 12.16915962,\n",
       "       11.77402306, 11.63824637, 12.18096508, 11.74709596, 12.45816742,\n",
       "       11.45767157, 12.2637636 , 11.69899728, 11.78196207, 11.951283  ,\n",
       "       11.8807224 , 11.59917608, 12.13824162, 11.64036451, 11.52286539,\n",
       "       12.57934296, 12.04430644, 12.5940095 , 11.81239401, 12.31762309,\n",
       "       12.487477  , 12.18720481, 11.67286737, 11.79230574, 12.02642239,\n",
       "       12.70142609, 12.55645019, 12.73190472, 12.39405802, 11.81842655,\n",
       "       11.93086777, 12.46663947, 12.34126748, 12.0518026 , 12.28288823,\n",
       "       11.90868834, 12.72874819, 12.58046883, 11.7408912 , 12.7459342 ,\n",
       "       11.41872904, 12.53684837, 11.74300313, 12.37901663, 11.82836848,\n",
       "       11.8613752 , 12.39242244, 12.41937383, 11.91709161, 11.72056915,\n",
       "       11.79928577, 11.68636179, 11.87977687, 11.93096652, 12.16319409,\n",
       "       12.13916768, 12.2658743 , 11.99337585, 11.94145065, 11.69960271,\n",
       "       11.73585399, 11.8687199 , 12.18041605, 12.23954684, 12.59028987,\n",
       "       12.11198724, 12.15670204, 12.59917201, 12.23518034, 13.0108996 ,\n",
       "       11.58413863, 11.85893536, 11.80208369, 12.83078828, 11.63589436,\n",
       "       12.43691174, 11.8111217 , 12.30982115, 12.50710208, 11.95147296,\n",
       "       11.44273267, 11.80226448, 11.62670635, 10.96821071, 12.20462279,\n",
       "       12.27309722, 11.73156622, 12.20890514, 11.95161986, 11.71726797,\n",
       "       11.59462373, 12.49020855, 11.78289829, 11.88603896, 12.05094614,\n",
       "       12.67335463, 12.09262336, 11.15972298, 12.30551894, 12.0774646 ,\n",
       "       11.51985452, 12.14838228, 12.1290116 , 12.14635192, 11.4573633 ,\n",
       "       11.72526144, 12.03870025, 12.95898098, 12.64479034, 11.75012326,\n",
       "       12.17639786, 12.93381428, 12.52604173, 12.45498988, 11.68460822,\n",
       "       11.66193331, 11.92087731, 11.94787034, 12.46362112, 12.34462533,\n",
       "       11.84667133, 12.66327817, 12.25611702, 12.37506381, 11.64632399,\n",
       "       12.09668849, 12.41458295, 12.06294226, 11.53927896, 12.78125844,\n",
       "       11.71665154, 12.61472268, 11.75152302, 12.45470658, 11.75232661,\n",
       "       12.16664601, 12.37224425, 12.20920543, 11.9496051 , 11.71121136,\n",
       "       12.28867229, 12.13803581, 11.47441219, 12.03294255, 12.27742975,\n",
       "       11.96192328, 11.53851076, 11.41650084, 12.25690369, 11.96366403,\n",
       "       11.86526121, 12.04492251, 11.34689084, 12.55059405, 12.16181681,\n",
       "       12.17022171, 12.14117554, 12.28024808, 12.25859648, 12.1802987 ,\n",
       "       12.36957402, 11.92401347, 11.80961262, 11.90232365, 12.18437791,\n",
       "       12.20296925, 12.09695209, 12.1306562 , 11.60474429, 11.66808436,\n",
       "       12.2902906 , 11.6761415 , 11.68531006, 11.95079855, 12.05544098,\n",
       "       12.05707997, 11.68148488, 12.18972347, 12.52649137, 12.02753165,\n",
       "       12.67758851, 11.79564847, 12.51086084, 11.75431552, 12.13721019,\n",
       "       12.10688019, 11.58813542, 11.59586197, 11.88625166, 12.34960905,\n",
       "       12.16262417, 11.78040392, 12.15774818, 11.842296  , 11.90231634,\n",
       "       11.81244826, 12.63072735, 12.46369553, 12.29248445, 11.88551544,\n",
       "       12.19411308, 12.10671103, 11.70812605, 12.61719257, 11.97334604,\n",
       "       11.84271896, 12.26165638, 11.98816466, 11.77689827, 12.03771002,\n",
       "       12.16991734, 12.17920712, 11.83831385, 12.32624544, 11.82704626,\n",
       "       12.17946795, 11.91983858, 12.37850893, 12.08355847, 12.04114477,\n",
       "       12.00942505, 11.96159423, 11.64839254, 12.06944342, 12.16608908,\n",
       "       12.3191616 , 11.86544964, 12.23601501, 11.60828956, 12.31527639,\n",
       "       11.68043811, 12.13179368, 11.77470999, 12.12170859, 11.87255481,\n",
       "       11.4171357 , 12.66058719, 12.30609685, 12.74595301, 11.62652126,\n",
       "       11.94524043, 11.84771847, 11.53705626, 12.27932787, 12.48198524,\n",
       "       11.99133006, 11.69531881, 11.44200001, 12.44493522, 12.04599108,\n",
       "       12.73959823, 11.842103  , 12.09821747, 11.78184331, 12.08679136,\n",
       "       11.87932797, 11.81449475, 11.67881945, 11.79639945, 12.08200962,\n",
       "       12.05316263, 12.43667453, 11.8345304 , 12.04713477, 11.96676582,\n",
       "       11.7695049 , 12.10246592, 11.79563236, 12.37013342, 11.52663525,\n",
       "       12.01601142, 11.96859064, 11.88339027, 11.73468554, 11.67047607,\n",
       "       11.84000516, 12.50490914, 11.8640759 , 11.89617469, 11.77244028,\n",
       "       12.18090176, 11.73319449, 12.65901685, 12.01499668, 12.29518031,\n",
       "       11.84262785, 11.53692866, 12.4256403 , 12.86149877, 12.11771963,\n",
       "       11.76196206, 12.75906943, 11.57755951, 12.59126072, 12.19376202,\n",
       "       11.92622212, 11.56025125, 11.78735581, 12.29089463, 12.42936478,\n",
       "       11.56361439, 11.31373965, 12.42297263, 11.65896677, 11.68988641,\n",
       "       12.19482074, 12.11896475, 11.4779181 , 12.31154617, 11.93555767,\n",
       "        9.66044862, 11.8468023 , 12.07298315, 11.42700057, 11.24823757,\n",
       "       12.67697092, 12.14590246, 12.26644476, 11.35569659, 11.88674268,\n",
       "       12.35642338, 11.91371701, 11.54732223, 11.22170075, 12.44159246,\n",
       "       12.43837894, 11.93135139, 11.91090318, 11.86808185, 12.23005056,\n",
       "       12.08171976, 11.73845846, 12.59572439, 12.79197193, 11.78488419,\n",
       "       11.64339233, 11.83592906, 12.15364804, 11.31371452, 12.00976927,\n",
       "       12.28497685, 13.11029942, 12.54846247, 11.91781347, 11.94367137,\n",
       "       11.76516521, 12.19568187, 12.15063422, 12.06615221, 12.04596235,\n",
       "       12.02448262, 12.08974729, 11.29942006, 11.97207497, 11.80746961,\n",
       "       11.62059709, 11.35342931, 11.56269531, 12.28718817, 12.45000607,\n",
       "       12.34847734, 11.69908235, 12.44195794, 12.09418893, 12.62494026,\n",
       "       12.77448594, 12.66147294, 12.68195586, 11.59857263, 11.45620156,\n",
       "       12.2889374 , 11.4773549 , 11.90204698, 12.38156837, 12.79830759,\n",
       "       11.66764893, 12.10716562, 11.82488511, 11.77300598, 12.36745326,\n",
       "       12.11854684, 11.91500943, 12.07899867, 11.95398581, 12.37899975,\n",
       "       12.05908255, 11.48896811, 11.6929776 , 12.03302113, 11.58168439,\n",
       "       11.50770029, 11.87532639, 12.46184783, 11.81922277, 12.52940377,\n",
       "       11.44463788, 12.05525482, 12.19280884, 11.9298228 , 11.99885131,\n",
       "       11.94879456, 11.80279093, 12.46828685, 12.24238886, 12.35982202,\n",
       "       12.06300598, 11.96636178, 12.17129041, 12.56323301, 12.47719682,\n",
       "       12.16196219, 13.05986521, 12.53171019, 11.873614  , 12.44011429,\n",
       "       11.51470795, 11.85797921, 12.55702189, 12.01948141, 11.69529592,\n",
       "       11.93237638, 11.70488778, 12.35231638, 12.27916799, 12.08495304,\n",
       "       12.31351689, 12.20026344, 12.13317862, 12.53772371, 11.68430651,\n",
       "       12.41187393, 12.00837963, 11.85388491, 12.13492715, 11.81810385,\n",
       "       11.74722591, 12.15590451, 11.71705734, 13.03924498, 11.82311536,\n",
       "       12.15583149, 12.2062091 , 11.99677328, 11.84132921, 11.77063396,\n",
       "       12.02650585, 12.97467287, 12.09692875, 12.05652147, 11.95997256,\n",
       "       12.32719192, 12.07148908, 12.11659177, 11.85062459, 11.74132515,\n",
       "       11.8065734 , 11.7507209 , 11.89741757, 11.72954194, 12.63340698,\n",
       "       11.78104171, 11.52767136, 11.82798101, 12.11846173, 12.20840643,\n",
       "       11.90396617, 12.15873159, 12.34773251, 11.96655724, 12.15531442,\n",
       "       11.47981453, 11.73265391, 12.49097829, 12.35891045, 11.37532465,\n",
       "       12.01587748, 12.13219395, 11.87645047, 11.88970969, 12.23663759,\n",
       "       11.69937251, 11.81140105, 11.60315142, 11.9075485 , 12.12622226,\n",
       "       12.016513  , 12.10746503, 11.56021504, 12.47523016, 11.66472498,\n",
       "       11.19851727, 12.10598256, 12.76253412, 11.770077  , 12.1231399 ,\n",
       "       11.63530131, 11.66466308, 11.75517373, 11.13082993, 11.98537068,\n",
       "       12.17285853, 12.13397325, 12.04661267, 12.0709841 , 12.06423236,\n",
       "       12.51736575, 12.00869896, 11.77965826, 12.82289541, 11.95886226,\n",
       "       11.91944061, 11.7633087 , 12.15034501, 11.75103299, 12.10272584,\n",
       "       11.11570204, 12.10735796, 11.77475387, 12.09375894, 12.07988247,\n",
       "       12.12492475, 12.21876078, 11.61700849, 12.48160691, 12.07070344,\n",
       "       11.38791062, 12.38915119, 12.50092036, 12.00190763, 12.03314786,\n",
       "       12.60113628, 12.2727876 , 12.43197692, 12.19754732, 12.42688748,\n",
       "       11.44216194, 12.20074894, 12.1066864 , 11.13787755, 12.72991683,\n",
       "       12.30076325, 12.12747908, 12.46510211, 12.66433424, 12.05864213,\n",
       "       11.84690293, 12.20180344, 11.73383487, 11.10250662, 12.2967179 ,\n",
       "       11.86703035, 12.29984885, 12.09242574, 11.9732648 , 12.24143973,\n",
       "       12.31760044, 11.75834909, 11.54844371, 12.46917636, 12.24508508,\n",
       "       12.00199184, 12.1120729 , 11.25260407, 13.10637495, 11.63739096,\n",
       "       12.21592501, 12.03044202, 12.18441705, 12.13988695, 12.16949523,\n",
       "       12.74065242, 12.32074917, 11.68678429, 11.97507301, 11.89296839,\n",
       "       11.92347245, 11.98163829, 11.84214525, 11.80746471, 11.73929146,\n",
       "       11.72693362, 12.11449508, 11.8727927 , 12.84651377, 12.16519251,\n",
       "       11.30092227, 12.29723246, 11.82615307, 11.71763899, 12.33887657,\n",
       "       12.00257552, 12.36481671, 12.49491555, 12.45313671, 11.9327692 ,\n",
       "       12.95877037, 12.04472823, 11.96558155, 11.56344675, 11.89171692,\n",
       "       11.53570617, 11.72871501, 12.23601356, 12.06790694, 12.40638014,\n",
       "       11.28307159, 12.04301141, 11.57760567, 11.89458653, 11.62817577,\n",
       "       11.81987207, 12.23333023, 12.16700257, 12.53402055, 11.87629079,\n",
       "       12.79259362, 11.72855944, 11.81075713, 12.0675788 , 11.64210542])"
      ]
     },
     "execution_count": 74,
     "metadata": {},
     "output_type": "execute_result"
    }
   ],
   "source": [
    "pred_test_ridge"
   ]
  },
  {
   "cell_type": "code",
   "execution_count": 75,
   "id": "plastic-parallel",
   "metadata": {},
   "outputs": [],
   "source": [
    "MAE_ridge = mean_absolute_error(y_test,pred_test_ridge)\n",
    "MSE_ridge = mean_squared_error(y_test,pred_test_ridge)\n",
    "RMSE_ridge = np.sqrt(MSE_ridge)"
   ]
  },
  {
   "cell_type": "code",
   "execution_count": 76,
   "id": "fitting-fault",
   "metadata": {},
   "outputs": [
    {
     "data": {
      "text/plain": [
       "0.081384286010876"
      ]
     },
     "execution_count": 76,
     "metadata": {},
     "output_type": "execute_result"
    }
   ],
   "source": [
    "MAE_ridge"
   ]
  },
  {
   "cell_type": "code",
   "execution_count": 77,
   "id": "loaded-first",
   "metadata": {},
   "outputs": [
    {
     "data": {
      "text/plain": [
       "0.01575965706293103"
      ]
     },
     "execution_count": 77,
     "metadata": {},
     "output_type": "execute_result"
    }
   ],
   "source": [
    "MSE_ridge"
   ]
  },
  {
   "cell_type": "code",
   "execution_count": 78,
   "id": "orange-divide",
   "metadata": {},
   "outputs": [
    {
     "data": {
      "text/plain": [
       "0.12553747274392227"
      ]
     },
     "execution_count": 78,
     "metadata": {},
     "output_type": "execute_result"
    }
   ],
   "source": [
    "RMSE_ridge"
   ]
  },
  {
   "cell_type": "code",
   "execution_count": 79,
   "id": "false-brush",
   "metadata": {},
   "outputs": [],
   "source": [
    "def MAPE(y_test,pred_test_ridge):\n",
    "    mape = np.mean(np.abs((y_test - pred_test_ridge)/y_test))*100\n",
    "    return mape"
   ]
  },
  {
   "cell_type": "code",
   "execution_count": 80,
   "id": "occasional-match",
   "metadata": {},
   "outputs": [],
   "source": [
    "LR_MAPEridge= MAPE(y_test,pred_test_ridge)"
   ]
  },
  {
   "cell_type": "code",
   "execution_count": 81,
   "id": "following-gentleman",
   "metadata": {},
   "outputs": [
    {
     "name": "stdout",
     "output_type": "stream",
     "text": [
      "MAPE:  0.6824495266378408\n"
     ]
    }
   ],
   "source": [
    "print(\"MAPE: \",LR_MAPEridge)"
   ]
  },
  {
   "cell_type": "code",
   "execution_count": 82,
   "id": "mature-ready",
   "metadata": {},
   "outputs": [
    {
     "data": {
      "text/plain": [
       "<matplotlib.lines.Line2D at 0x18d44494188>"
      ]
     },
     "execution_count": 82,
     "metadata": {},
     "output_type": "execute_result"
    },
    {
     "data": {
      "image/png": "[encoded data removed]",
      "text/plain": [
       "<Figure size 432x288 with 1 Axes>"
      ]
     },
     "metadata": {
      "needs_background": "light"
     },
     "output_type": "display_data"
    }
   ],
   "source": [
    "sns.scatterplot(x=y_test,y=pred_test_ridge)\n",
    "plt.axhline(y=0,color='magenta',linestyle='--')"
   ]
  },
  {
   "cell_type": "code",
   "execution_count": 83,
   "id": "vocal-recovery",
   "metadata": {},
   "outputs": [
    {
     "data": {
      "image/png": "[encoded data removed]",
      "text/plain": [
       "<Figure size 1000x1200 with 1 Axes>"
      ]
     },
     "metadata": {
      "needs_background": "light"
     },
     "output_type": "display_data"
    }
   ],
   "source": [
    "fig,ax = plt.subplots(figsize=(10,12),dpi=100)\n",
    "\n",
    "_=sp.stats.probplot(pred_test_ridge,plot=ax)"
   ]
  },
  {
   "cell_type": "code",
   "execution_count": 84,
   "id": "concerned-toronto",
   "metadata": {},
   "outputs": [
    {
     "data": {
      "text/plain": [
       "89.0"
      ]
     },
     "execution_count": 84,
     "metadata": {},
     "output_type": "execute_result"
    }
   ],
   "source": [
    "accuracy5= round(r2_score(y_test, pred_test_ridge), 2)\n",
    "accuracy5= accuracy5 * 100\n",
    "accuracy5"
   ]
  },
  {
   "cell_type": "markdown",
   "id": "unexpected-danish",
   "metadata": {},
   "source": [
    "# elastic model"
   ]
  },
  {
   "cell_type": "code",
   "execution_count": 85,
   "id": "third-cartoon",
   "metadata": {},
   "outputs": [],
   "source": [
    "#Create  and y \n",
    "X = df.drop('saleprice',axis=1)\n",
    "y = df['saleprice']\n",
    "\n",
    "from sklearn.model_selection import train_test_split\n",
    "X_train,X_test, y_train, y_test = train_test_split(X,y, test_size = 0.3)\n",
    "\n",
    "from sklearn.preprocessing import StandardScaler\n",
    "scaler = StandardScaler()\n",
    "scaler.fit(X_train)\n",
    "X_train = scaler.transform(X_train)\n",
    "X_test = scaler.transform(X_test)"
   ]
  },
  {
   "cell_type": "code",
   "execution_count": 86,
   "id": "forty-david",
   "metadata": {},
   "outputs": [],
   "source": [
    "elastic_model = ElasticNet()"
   ]
  },
  {
   "cell_type": "code",
   "execution_count": 87,
   "id": "corresponding-screen",
   "metadata": {},
   "outputs": [
    {
     "data": {
      "text/plain": [
       "ElasticNet()"
      ]
     },
     "execution_count": 87,
     "metadata": {},
     "output_type": "execute_result"
    }
   ],
   "source": [
    "elastic_model.fit(X_train,y_train)"
   ]
  },
  {
   "cell_type": "code",
   "execution_count": 88,
   "id": "downtown-cooper",
   "metadata": {},
   "outputs": [],
   "source": [
    "pred_test_elastic = elastic_model.predict(X_test)"
   ]
  },
  {
   "cell_type": "code",
   "execution_count": 89,
   "id": "lesser-marketplace",
   "metadata": {},
   "outputs": [
    {
     "data": {
      "text/plain": [
       "array([12.0134526, 12.0134526, 12.0134526, 12.0134526, 12.0134526,\n",
       "       12.0134526, 12.0134526, 12.0134526, 12.0134526, 12.0134526,\n",
       "       12.0134526, 12.0134526, 12.0134526, 12.0134526, 12.0134526,\n",
       "       12.0134526, 12.0134526, 12.0134526, 12.0134526, 12.0134526,\n",
       "       12.0134526, 12.0134526, 12.0134526, 12.0134526, 12.0134526,\n",
       "       12.0134526, 12.0134526, 12.0134526, 12.0134526, 12.0134526,\n",
       "       12.0134526, 12.0134526, 12.0134526, 12.0134526, 12.0134526,\n",
       "       12.0134526, 12.0134526, 12.0134526, 12.0134526, 12.0134526,\n",
       "       12.0134526, 12.0134526, 12.0134526, 12.0134526, 12.0134526,\n",
       "       12.0134526, 12.0134526, 12.0134526, 12.0134526, 12.0134526,\n",
       "       12.0134526, 12.0134526, 12.0134526, 12.0134526, 12.0134526,\n",
       "       12.0134526, 12.0134526, 12.0134526, 12.0134526, 12.0134526,\n",
       "       12.0134526, 12.0134526, 12.0134526, 12.0134526, 12.0134526,\n",
       "       12.0134526, 12.0134526, 12.0134526, 12.0134526, 12.0134526,\n",
       "       12.0134526, 12.0134526, 12.0134526, 12.0134526, 12.0134526,\n",
       "       12.0134526, 12.0134526, 12.0134526, 12.0134526, 12.0134526,\n",
       "       12.0134526, 12.0134526, 12.0134526, 12.0134526, 12.0134526,\n",
       "       12.0134526, 12.0134526, 12.0134526, 12.0134526, 12.0134526,\n",
       "       12.0134526, 12.0134526, 12.0134526, 12.0134526, 12.0134526,\n",
       "       12.0134526, 12.0134526, 12.0134526, 12.0134526, 12.0134526,\n",
       "       12.0134526, 12.0134526, 12.0134526, 12.0134526, 12.0134526,\n",
       "       12.0134526, 12.0134526, 12.0134526, 12.0134526, 12.0134526,\n",
       "       12.0134526, 12.0134526, 12.0134526, 12.0134526, 12.0134526,\n",
       "       12.0134526, 12.0134526, 12.0134526, 12.0134526, 12.0134526,\n",
       "       12.0134526, 12.0134526, 12.0134526, 12.0134526, 12.0134526,\n",
       "       12.0134526, 12.0134526, 12.0134526, 12.0134526, 12.0134526,\n",
       "       12.0134526, 12.0134526, 12.0134526, 12.0134526, 12.0134526,\n",
       "       12.0134526, 12.0134526, 12.0134526, 12.0134526, 12.0134526,\n",
       "       12.0134526, 12.0134526, 12.0134526, 12.0134526, 12.0134526,\n",
       "       12.0134526, 12.0134526, 12.0134526, 12.0134526, 12.0134526,\n",
       "       12.0134526, 12.0134526, 12.0134526, 12.0134526, 12.0134526,\n",
       "       12.0134526, 12.0134526, 12.0134526, 12.0134526, 12.0134526,\n",
       "       12.0134526, 12.0134526, 12.0134526, 12.0134526, 12.0134526,\n",
       "       12.0134526, 12.0134526, 12.0134526, 12.0134526, 12.0134526,\n",
       "       12.0134526, 12.0134526, 12.0134526, 12.0134526, 12.0134526,\n",
       "       12.0134526, 12.0134526, 12.0134526, 12.0134526, 12.0134526,\n",
       "       12.0134526, 12.0134526, 12.0134526, 12.0134526, 12.0134526,\n",
       "       12.0134526, 12.0134526, 12.0134526, 12.0134526, 12.0134526,\n",
       "       12.0134526, 12.0134526, 12.0134526, 12.0134526, 12.0134526,\n",
       "       12.0134526, 12.0134526, 12.0134526, 12.0134526, 12.0134526,\n",
       "       12.0134526, 12.0134526, 12.0134526, 12.0134526, 12.0134526,\n",
       "       12.0134526, 12.0134526, 12.0134526, 12.0134526, 12.0134526,\n",
       "       12.0134526, 12.0134526, 12.0134526, 12.0134526, 12.0134526,\n",
       "       12.0134526, 12.0134526, 12.0134526, 12.0134526, 12.0134526,\n",
       "       12.0134526, 12.0134526, 12.0134526, 12.0134526, 12.0134526,\n",
       "       12.0134526, 12.0134526, 12.0134526, 12.0134526, 12.0134526,\n",
       "       12.0134526, 12.0134526, 12.0134526, 12.0134526, 12.0134526,\n",
       "       12.0134526, 12.0134526, 12.0134526, 12.0134526, 12.0134526,\n",
       "       12.0134526, 12.0134526, 12.0134526, 12.0134526, 12.0134526,\n",
       "       12.0134526, 12.0134526, 12.0134526, 12.0134526, 12.0134526,\n",
       "       12.0134526, 12.0134526, 12.0134526, 12.0134526, 12.0134526,\n",
       "       12.0134526, 12.0134526, 12.0134526, 12.0134526, 12.0134526,\n",
       "       12.0134526, 12.0134526, 12.0134526, 12.0134526, 12.0134526,\n",
       "       12.0134526, 12.0134526, 12.0134526, 12.0134526, 12.0134526,\n",
       "       12.0134526, 12.0134526, 12.0134526, 12.0134526, 12.0134526,\n",
       "       12.0134526, 12.0134526, 12.0134526, 12.0134526, 12.0134526,\n",
       "       12.0134526, 12.0134526, 12.0134526, 12.0134526, 12.0134526,\n",
       "       12.0134526, 12.0134526, 12.0134526, 12.0134526, 12.0134526,\n",
       "       12.0134526, 12.0134526, 12.0134526, 12.0134526, 12.0134526,\n",
       "       12.0134526, 12.0134526, 12.0134526, 12.0134526, 12.0134526,\n",
       "       12.0134526, 12.0134526, 12.0134526, 12.0134526, 12.0134526,\n",
       "       12.0134526, 12.0134526, 12.0134526, 12.0134526, 12.0134526,\n",
       "       12.0134526, 12.0134526, 12.0134526, 12.0134526, 12.0134526,\n",
       "       12.0134526, 12.0134526, 12.0134526, 12.0134526, 12.0134526,\n",
       "       12.0134526, 12.0134526, 12.0134526, 12.0134526, 12.0134526,\n",
       "       12.0134526, 12.0134526, 12.0134526, 12.0134526, 12.0134526,\n",
       "       12.0134526, 12.0134526, 12.0134526, 12.0134526, 12.0134526,\n",
       "       12.0134526, 12.0134526, 12.0134526, 12.0134526, 12.0134526,\n",
       "       12.0134526, 12.0134526, 12.0134526, 12.0134526, 12.0134526,\n",
       "       12.0134526, 12.0134526, 12.0134526, 12.0134526, 12.0134526,\n",
       "       12.0134526, 12.0134526, 12.0134526, 12.0134526, 12.0134526,\n",
       "       12.0134526, 12.0134526, 12.0134526, 12.0134526, 12.0134526,\n",
       "       12.0134526, 12.0134526, 12.0134526, 12.0134526, 12.0134526,\n",
       "       12.0134526, 12.0134526, 12.0134526, 12.0134526, 12.0134526,\n",
       "       12.0134526, 12.0134526, 12.0134526, 12.0134526, 12.0134526,\n",
       "       12.0134526, 12.0134526, 12.0134526, 12.0134526, 12.0134526,\n",
       "       12.0134526, 12.0134526, 12.0134526, 12.0134526, 12.0134526,\n",
       "       12.0134526, 12.0134526, 12.0134526, 12.0134526, 12.0134526,\n",
       "       12.0134526, 12.0134526, 12.0134526, 12.0134526, 12.0134526,\n",
       "       12.0134526, 12.0134526, 12.0134526, 12.0134526, 12.0134526,\n",
       "       12.0134526, 12.0134526, 12.0134526, 12.0134526, 12.0134526,\n",
       "       12.0134526, 12.0134526, 12.0134526, 12.0134526, 12.0134526,\n",
       "       12.0134526, 12.0134526, 12.0134526, 12.0134526, 12.0134526,\n",
       "       12.0134526, 12.0134526, 12.0134526, 12.0134526, 12.0134526,\n",
       "       12.0134526, 12.0134526, 12.0134526, 12.0134526, 12.0134526,\n",
       "       12.0134526, 12.0134526, 12.0134526, 12.0134526, 12.0134526,\n",
       "       12.0134526, 12.0134526, 12.0134526, 12.0134526, 12.0134526,\n",
       "       12.0134526, 12.0134526, 12.0134526, 12.0134526, 12.0134526,\n",
       "       12.0134526, 12.0134526, 12.0134526, 12.0134526, 12.0134526,\n",
       "       12.0134526, 12.0134526, 12.0134526, 12.0134526, 12.0134526,\n",
       "       12.0134526, 12.0134526, 12.0134526, 12.0134526, 12.0134526,\n",
       "       12.0134526, 12.0134526, 12.0134526, 12.0134526, 12.0134526,\n",
       "       12.0134526, 12.0134526, 12.0134526, 12.0134526, 12.0134526,\n",
       "       12.0134526, 12.0134526, 12.0134526, 12.0134526, 12.0134526,\n",
       "       12.0134526, 12.0134526, 12.0134526, 12.0134526, 12.0134526,\n",
       "       12.0134526, 12.0134526, 12.0134526, 12.0134526, 12.0134526,\n",
       "       12.0134526, 12.0134526, 12.0134526, 12.0134526, 12.0134526,\n",
       "       12.0134526, 12.0134526, 12.0134526, 12.0134526, 12.0134526,\n",
       "       12.0134526, 12.0134526, 12.0134526, 12.0134526, 12.0134526,\n",
       "       12.0134526, 12.0134526, 12.0134526, 12.0134526, 12.0134526,\n",
       "       12.0134526, 12.0134526, 12.0134526, 12.0134526, 12.0134526,\n",
       "       12.0134526, 12.0134526, 12.0134526, 12.0134526, 12.0134526,\n",
       "       12.0134526, 12.0134526, 12.0134526, 12.0134526, 12.0134526,\n",
       "       12.0134526, 12.0134526, 12.0134526, 12.0134526, 12.0134526,\n",
       "       12.0134526, 12.0134526, 12.0134526, 12.0134526, 12.0134526,\n",
       "       12.0134526, 12.0134526, 12.0134526, 12.0134526, 12.0134526,\n",
       "       12.0134526, 12.0134526, 12.0134526, 12.0134526, 12.0134526,\n",
       "       12.0134526, 12.0134526, 12.0134526, 12.0134526, 12.0134526,\n",
       "       12.0134526, 12.0134526, 12.0134526, 12.0134526, 12.0134526,\n",
       "       12.0134526, 12.0134526, 12.0134526, 12.0134526, 12.0134526,\n",
       "       12.0134526, 12.0134526, 12.0134526, 12.0134526, 12.0134526,\n",
       "       12.0134526, 12.0134526, 12.0134526, 12.0134526, 12.0134526,\n",
       "       12.0134526, 12.0134526, 12.0134526, 12.0134526, 12.0134526,\n",
       "       12.0134526, 12.0134526, 12.0134526, 12.0134526, 12.0134526,\n",
       "       12.0134526, 12.0134526, 12.0134526, 12.0134526, 12.0134526,\n",
       "       12.0134526, 12.0134526, 12.0134526, 12.0134526, 12.0134526,\n",
       "       12.0134526, 12.0134526, 12.0134526, 12.0134526, 12.0134526,\n",
       "       12.0134526, 12.0134526, 12.0134526, 12.0134526, 12.0134526,\n",
       "       12.0134526, 12.0134526, 12.0134526, 12.0134526, 12.0134526,\n",
       "       12.0134526, 12.0134526, 12.0134526, 12.0134526, 12.0134526,\n",
       "       12.0134526, 12.0134526, 12.0134526, 12.0134526, 12.0134526,\n",
       "       12.0134526, 12.0134526, 12.0134526, 12.0134526, 12.0134526,\n",
       "       12.0134526, 12.0134526, 12.0134526, 12.0134526, 12.0134526,\n",
       "       12.0134526, 12.0134526, 12.0134526, 12.0134526, 12.0134526,\n",
       "       12.0134526, 12.0134526, 12.0134526, 12.0134526, 12.0134526,\n",
       "       12.0134526, 12.0134526, 12.0134526, 12.0134526, 12.0134526,\n",
       "       12.0134526, 12.0134526, 12.0134526, 12.0134526, 12.0134526,\n",
       "       12.0134526, 12.0134526, 12.0134526, 12.0134526, 12.0134526,\n",
       "       12.0134526, 12.0134526, 12.0134526, 12.0134526, 12.0134526,\n",
       "       12.0134526, 12.0134526, 12.0134526, 12.0134526, 12.0134526,\n",
       "       12.0134526, 12.0134526, 12.0134526, 12.0134526, 12.0134526,\n",
       "       12.0134526, 12.0134526, 12.0134526, 12.0134526, 12.0134526,\n",
       "       12.0134526, 12.0134526, 12.0134526, 12.0134526, 12.0134526,\n",
       "       12.0134526, 12.0134526, 12.0134526, 12.0134526, 12.0134526,\n",
       "       12.0134526, 12.0134526, 12.0134526, 12.0134526, 12.0134526,\n",
       "       12.0134526, 12.0134526, 12.0134526, 12.0134526, 12.0134526,\n",
       "       12.0134526, 12.0134526, 12.0134526, 12.0134526, 12.0134526,\n",
       "       12.0134526, 12.0134526, 12.0134526, 12.0134526, 12.0134526,\n",
       "       12.0134526, 12.0134526, 12.0134526, 12.0134526, 12.0134526,\n",
       "       12.0134526, 12.0134526, 12.0134526, 12.0134526, 12.0134526,\n",
       "       12.0134526, 12.0134526, 12.0134526, 12.0134526, 12.0134526,\n",
       "       12.0134526, 12.0134526, 12.0134526, 12.0134526, 12.0134526,\n",
       "       12.0134526, 12.0134526, 12.0134526, 12.0134526, 12.0134526,\n",
       "       12.0134526, 12.0134526, 12.0134526, 12.0134526, 12.0134526,\n",
       "       12.0134526, 12.0134526, 12.0134526, 12.0134526, 12.0134526,\n",
       "       12.0134526, 12.0134526, 12.0134526, 12.0134526, 12.0134526,\n",
       "       12.0134526, 12.0134526, 12.0134526, 12.0134526, 12.0134526,\n",
       "       12.0134526, 12.0134526, 12.0134526, 12.0134526, 12.0134526,\n",
       "       12.0134526, 12.0134526, 12.0134526, 12.0134526, 12.0134526,\n",
       "       12.0134526, 12.0134526, 12.0134526, 12.0134526, 12.0134526,\n",
       "       12.0134526, 12.0134526, 12.0134526, 12.0134526, 12.0134526,\n",
       "       12.0134526, 12.0134526, 12.0134526, 12.0134526, 12.0134526,\n",
       "       12.0134526, 12.0134526, 12.0134526, 12.0134526, 12.0134526,\n",
       "       12.0134526, 12.0134526, 12.0134526, 12.0134526, 12.0134526,\n",
       "       12.0134526, 12.0134526, 12.0134526, 12.0134526, 12.0134526,\n",
       "       12.0134526, 12.0134526, 12.0134526, 12.0134526, 12.0134526,\n",
       "       12.0134526, 12.0134526, 12.0134526, 12.0134526, 12.0134526,\n",
       "       12.0134526, 12.0134526, 12.0134526, 12.0134526, 12.0134526,\n",
       "       12.0134526, 12.0134526, 12.0134526, 12.0134526, 12.0134526,\n",
       "       12.0134526, 12.0134526, 12.0134526, 12.0134526, 12.0134526,\n",
       "       12.0134526, 12.0134526, 12.0134526, 12.0134526, 12.0134526,\n",
       "       12.0134526, 12.0134526, 12.0134526, 12.0134526, 12.0134526,\n",
       "       12.0134526, 12.0134526, 12.0134526, 12.0134526, 12.0134526,\n",
       "       12.0134526, 12.0134526, 12.0134526, 12.0134526, 12.0134526,\n",
       "       12.0134526, 12.0134526, 12.0134526, 12.0134526, 12.0134526,\n",
       "       12.0134526, 12.0134526, 12.0134526, 12.0134526, 12.0134526,\n",
       "       12.0134526, 12.0134526, 12.0134526, 12.0134526, 12.0134526,\n",
       "       12.0134526, 12.0134526, 12.0134526, 12.0134526, 12.0134526,\n",
       "       12.0134526, 12.0134526, 12.0134526, 12.0134526, 12.0134526,\n",
       "       12.0134526, 12.0134526, 12.0134526, 12.0134526, 12.0134526,\n",
       "       12.0134526, 12.0134526, 12.0134526, 12.0134526, 12.0134526,\n",
       "       12.0134526, 12.0134526, 12.0134526, 12.0134526, 12.0134526,\n",
       "       12.0134526, 12.0134526, 12.0134526, 12.0134526, 12.0134526,\n",
       "       12.0134526, 12.0134526, 12.0134526, 12.0134526, 12.0134526,\n",
       "       12.0134526, 12.0134526, 12.0134526, 12.0134526, 12.0134526])"
      ]
     },
     "execution_count": 89,
     "metadata": {},
     "output_type": "execute_result"
    }
   ],
   "source": [
    "pred_test_elastic"
   ]
  },
  {
   "cell_type": "code",
   "execution_count": 90,
   "id": "fallen-banks",
   "metadata": {},
   "outputs": [],
   "source": [
    "MAE_elastic = mean_absolute_error(y_test,pred_test_elastic)\n",
    "MSE_elastic = mean_squared_error(y_test,pred_test_elastic)\n",
    "RMSE_elastic = np.sqrt(MSE_ridge)"
   ]
  },
  {
   "cell_type": "code",
   "execution_count": 91,
   "id": "coastal-fence",
   "metadata": {},
   "outputs": [
    {
     "data": {
      "text/plain": [
       "0.3272573538682835"
      ]
     },
     "execution_count": 91,
     "metadata": {},
     "output_type": "execute_result"
    }
   ],
   "source": [
    "MAE_elastic"
   ]
  },
  {
   "cell_type": "code",
   "execution_count": 92,
   "id": "generic-absorption",
   "metadata": {},
   "outputs": [
    {
     "data": {
      "text/plain": [
       "0.1810016868694368"
      ]
     },
     "execution_count": 92,
     "metadata": {},
     "output_type": "execute_result"
    }
   ],
   "source": [
    "MSE_elastic"
   ]
  },
  {
   "cell_type": "code",
   "execution_count": 93,
   "id": "legislative-contractor",
   "metadata": {},
   "outputs": [
    {
     "data": {
      "text/plain": [
       "0.12553747274392227"
      ]
     },
     "execution_count": 93,
     "metadata": {},
     "output_type": "execute_result"
    }
   ],
   "source": [
    "RMSE_elastic"
   ]
  },
  {
   "cell_type": "code",
   "execution_count": 94,
   "id": "cleared-developer",
   "metadata": {},
   "outputs": [],
   "source": [
    "def MAPE(y_test,pred_test_elastic):\n",
    "    mape = np.mean(np.abs((y_test - pred_test_elastic)/y_test))*100\n",
    "    return mape"
   ]
  },
  {
   "cell_type": "code",
   "execution_count": 95,
   "id": "pleasant-alarm",
   "metadata": {},
   "outputs": [],
   "source": [
    "LR_MAPEelastic= MAPE(y_test,pred_test_elastic)"
   ]
  },
  {
   "cell_type": "code",
   "execution_count": 96,
   "id": "practical-cardiff",
   "metadata": {},
   "outputs": [
    {
     "name": "stdout",
     "output_type": "stream",
     "text": [
      "MAPE:  2.721873496477578\n"
     ]
    }
   ],
   "source": [
    "print(\"MAPE: \",LR_MAPEelastic)"
   ]
  },
  {
   "cell_type": "code",
   "execution_count": 97,
   "id": "assisted-combining",
   "metadata": {},
   "outputs": [
    {
     "data": {
      "text/plain": [
       "<matplotlib.lines.Line2D at 0x18d444948c8>"
      ]
     },
     "execution_count": 97,
     "metadata": {},
     "output_type": "execute_result"
    },
    {
     "data": {
      "image/png": "[encoded data removed]",
      "text/plain": [
       "<Figure size 432x288 with 1 Axes>"
      ]
     },
     "metadata": {
      "needs_background": "light"
     },
     "output_type": "display_data"
    }
   ],
   "source": [
    "sns.scatterplot(x=y_test,y=pred_test_elastic)\n",
    "plt.axhline(y=0,color='magenta',linestyle='--')"
   ]
  },
  {
   "cell_type": "code",
   "execution_count": 98,
   "id": "assisted-crash",
   "metadata": {
    "scrolled": true
   },
   "outputs": [
    {
     "data": {
      "image/png": "[encoded data removed]",
      "text/plain": [
       "<Figure size 1000x1200 with 1 Axes>"
      ]
     },
     "metadata": {
      "needs_background": "light"
     },
     "output_type": "display_data"
    }
   ],
   "source": [
    "fig,ax = plt.subplots(figsize=(10,12),dpi=100)\n",
    "\n",
    "_=sp.stats.probplot(pred_test_elastic,plot=ax)"
   ]
  },
  {
   "cell_type": "code",
   "execution_count": 99,
   "id": "latin-exhibit",
   "metadata": {},
   "outputs": [
    {
     "data": {
      "text/plain": [
       "-0.0"
      ]
     },
     "execution_count": 99,
     "metadata": {},
     "output_type": "execute_result"
    }
   ],
   "source": [
    "accuracy6= round(r2_score(y_test, pred_test_elastic), 2)\n",
    "accuracy6= accuracy6 * 100\n",
    "accuracy6"
   ]
  },
  {
   "cell_type": "markdown",
   "id": "general-magic",
   "metadata": {},
   "source": [
    "# ridge cv"
   ]
  },
  {
   "cell_type": "code",
   "execution_count": 100,
   "id": "smaller-manchester",
   "metadata": {},
   "outputs": [],
   "source": [
    "#Create  and y \n",
    "X = df.drop('saleprice',axis=1)\n",
    "y = df['saleprice']\n",
    "\n",
    "from sklearn.model_selection import train_test_split\n",
    "X_train,X_test, y_train, y_test = train_test_split(X,y, test_size = 0.3)\n",
    "\n",
    "from sklearn.preprocessing import StandardScaler\n",
    "scaler = StandardScaler()\n",
    "scaler.fit(X_train)\n",
    "X_train = scaler.transform(X_train)\n",
    "X_test = scaler.transform(X_test)"
   ]
  },
  {
   "cell_type": "code",
   "execution_count": 101,
   "id": "permanent-tracker",
   "metadata": {},
   "outputs": [],
   "source": [
    "ridgecv_model = RidgeCV()"
   ]
  },
  {
   "cell_type": "code",
   "execution_count": 102,
   "id": "remarkable-intention",
   "metadata": {},
   "outputs": [
    {
     "data": {
      "text/plain": [
       "RidgeCV(alphas=array([ 0.1,  1. , 10. ]))"
      ]
     },
     "execution_count": 102,
     "metadata": {},
     "output_type": "execute_result"
    }
   ],
   "source": [
    "ridgecv_model.fit(X_train,y_train)"
   ]
  },
  {
   "cell_type": "code",
   "execution_count": 103,
   "id": "middle-danger",
   "metadata": {},
   "outputs": [],
   "source": [
    "pred_test_ridgecv = ridgecv_model.predict(X_test)"
   ]
  },
  {
   "cell_type": "code",
   "execution_count": 104,
   "id": "tribal-politics",
   "metadata": {},
   "outputs": [
    {
     "data": {
      "text/plain": [
       "array([11.92269815, 11.64546708, 11.73057099, 12.41816971, 10.93698792,\n",
       "       11.57618003, 11.94562497, 12.14243751, 11.81834963, 12.14163478,\n",
       "       12.29934816, 11.76083277, 12.758253  , 12.47137806, 11.93459842,\n",
       "       12.71466316, 11.68735107, 12.59027171, 12.28886212, 11.92519662,\n",
       "       12.51866665, 11.49433263, 12.25842971, 11.97148579, 11.72396165,\n",
       "       12.54354157, 12.02895336, 12.46347227, 12.30409876, 12.06783163,\n",
       "       11.48251058, 11.87488343, 11.83389066, 12.7910641 , 11.67275297,\n",
       "       12.37197718, 12.01481245, 11.34325668, 11.77317391, 12.06875285,\n",
       "       11.85203649, 12.28938246, 10.87242855, 13.0510938 , 12.11252138,\n",
       "       11.79190944, 11.91283887, 11.73565181, 12.2753994 , 12.8299113 ,\n",
       "       12.91789175, 12.59400263, 11.89555311, 11.72876357, 12.46694157,\n",
       "       11.8444038 , 11.55697933, 11.84620749, 12.10868335, 12.07522642,\n",
       "       12.45458455, 12.22839357, 12.606535  , 11.9862066 , 12.58548502,\n",
       "       12.29214521, 12.26132975, 11.96793157, 11.56689738, 11.52303294,\n",
       "       11.68881883, 11.79647128, 11.69298984, 13.0146969 , 12.32559168,\n",
       "       12.0369744 , 11.8866685 , 11.19503519, 12.22844055, 12.4817394 ,\n",
       "       12.35363369, 12.59993845, 11.9748915 , 11.84920054, 12.01228404,\n",
       "       11.85455777, 11.86223913, 13.30605146, 11.94055062, 12.7742727 ,\n",
       "       11.71018528, 13.22804097, 12.52952496, 11.65303554, 11.9645183 ,\n",
       "       11.7012362 , 12.31157909, 12.78843759, 12.16071049, 12.17043618,\n",
       "       12.51688517, 12.26732388, 11.78528053, 11.65404562, 12.03117952,\n",
       "       11.93001819, 11.23390365, 12.81808031, 11.74314642, 12.0058777 ,\n",
       "       12.25634772, 11.65839637, 11.59260669, 12.20349115, 12.48739232,\n",
       "       12.25825136, 12.33240945, 12.37005191, 11.76433717, 12.55926045,\n",
       "       12.69779525, 12.01666442, 12.56058937, 11.92626884, 12.76137999,\n",
       "       12.03056428, 12.26756786, 11.85337164, 11.71102667, 11.49036647,\n",
       "       12.11893576, 11.58745066, 11.70676356, 11.56064905, 12.26069632,\n",
       "       11.90573841, 11.7499195 , 11.82865197, 11.79119683, 11.82091443,\n",
       "       12.44164755, 12.00629768, 11.75073104, 11.77032687, 12.11277304,\n",
       "       11.44576768, 12.13172557, 11.91230291, 12.24107581, 11.62259981,\n",
       "       12.33715106, 11.38532592, 11.60197553, 11.82752832, 11.83342253,\n",
       "       12.06318241, 11.83902845, 12.10309289, 12.20190596, 11.22925142,\n",
       "       12.65432079, 11.94954779, 11.83807101, 12.04383549, 11.93195333,\n",
       "       11.943123  , 11.87293396, 11.37022017, 12.75311138, 12.37154192,\n",
       "       11.56961015, 11.9052023 , 11.79808244, 12.05280312, 12.09632644,\n",
       "       12.12750491, 12.1280024 , 11.314851  , 12.52158606, 12.15743594,\n",
       "       11.79899466, 11.8538054 , 12.17451449, 12.14769454, 11.65216468,\n",
       "       12.35666335, 12.58634773, 11.6944666 , 11.55272352, 11.75351377,\n",
       "       12.21658085, 12.19347304, 11.73258078, 11.65862254, 12.16709714,\n",
       "       12.12934328, 12.55355989, 11.86800232, 11.71907489, 11.39577208,\n",
       "       11.43919738, 11.83990903, 11.77712412, 11.8979016 , 12.06783185,\n",
       "       11.36178224, 11.56821831, 11.9288505 , 12.64232736, 12.33800176,\n",
       "       12.74584068, 11.47850045, 11.90285046, 11.90137306, 12.00994102,\n",
       "       12.64246047, 12.27665651, 11.63973519, 12.34305364, 12.75070462,\n",
       "       11.80147532, 11.64282795, 11.10878286, 11.67324714, 12.16690424,\n",
       "       11.45410727, 12.2674874 , 11.89126816, 11.42522769, 11.94357051,\n",
       "       12.13988638, 11.83651267, 12.47290202, 12.00426445, 12.18604144,\n",
       "       12.01308273, 11.83435713, 11.20761272, 11.930772  , 12.33230136,\n",
       "       11.32390207, 11.86116829, 12.3248962 , 12.47127315, 12.12076994,\n",
       "       10.98595704, 11.70584906, 13.21235435, 12.15508234, 12.75482706,\n",
       "       11.81494456, 12.31616517, 11.82303868, 12.66232458, 12.55608938,\n",
       "       12.37288396, 11.84711618, 11.71134651, 12.333945  , 12.24244559,\n",
       "       11.85967158, 11.8216491 , 12.20221132, 12.09573001, 11.8011452 ,\n",
       "       12.05570132, 11.44965085, 11.85559953, 12.14216495, 12.24139267,\n",
       "       11.74066348, 11.25748254, 10.8202161 , 11.84284427, 12.14567103,\n",
       "       11.62317922, 11.40795749, 12.10173995, 11.86698044, 12.30297792,\n",
       "       11.30365065, 12.15722692, 12.28648077, 11.71411684, 12.4687114 ,\n",
       "       12.22691451, 11.69749942, 12.62576836, 12.17764972, 11.51809782,\n",
       "       11.71728653, 11.68957467, 12.18073575, 12.73361799, 11.72815236,\n",
       "       12.80041115, 11.55050647, 12.36735784, 11.80891803, 11.91569507,\n",
       "       12.15914908, 11.07256933, 12.0859375 , 12.35927784, 12.09378488,\n",
       "       11.71849301, 11.74720213, 12.18322052, 11.65654179, 12.29936775,\n",
       "       11.85772935, 12.19485573, 11.89657862, 12.06005503, 11.52570921,\n",
       "       12.25726545, 11.65010167, 12.20550093, 12.51734546, 11.47263134,\n",
       "       12.06647526, 11.87568479, 12.69760911, 12.8260176 , 11.90822512,\n",
       "       11.74417443, 11.69330284, 12.27574182, 12.66741039, 12.1405875 ,\n",
       "       12.22969754, 11.97207992, 11.92398827, 11.8026982 , 11.76204679,\n",
       "       13.18576822, 11.70247748, 12.11140421, 12.00099977, 12.51543165,\n",
       "       11.48261962, 11.76941757, 12.53446016, 12.47058855, 12.23261177,\n",
       "       11.98274122, 12.34936466, 12.35794709, 11.61297645, 12.02073323,\n",
       "       12.22907859, 12.10742857, 12.65574209, 12.97271815, 11.98853074,\n",
       "       12.90692984, 12.70651698, 11.97452345, 11.85111218, 11.9896308 ,\n",
       "       12.59813892, 12.69032591, 11.51196412, 11.58590678, 12.13220508,\n",
       "       11.65872653, 12.40090299, 12.2726438 , 11.70031627, 12.04903112,\n",
       "       11.6644035 , 12.14964127, 12.13224486, 12.14776637, 12.28499048,\n",
       "       12.29085805, 11.70891313, 11.88350107, 11.82123433, 11.9167455 ,\n",
       "       12.51279458, 11.82649763, 11.56706794, 11.96718458, 11.57371542,\n",
       "       12.41819085, 11.31672264, 12.50187122, 12.2992055 , 12.08218814,\n",
       "       12.08090795, 11.1562103 , 12.49252068, 12.25637903, 11.70034344,\n",
       "       12.2645662 , 11.58548463, 12.22864336, 12.26770323, 11.97079076,\n",
       "       11.99129807, 12.17365623, 11.58336808, 12.30644367, 12.05241997,\n",
       "       11.60073022, 12.13368414, 11.42429761, 11.57368962, 12.43245697,\n",
       "       11.96723642, 11.5881668 , 11.43260659, 12.63776179, 12.24811279,\n",
       "       11.91505213, 12.91791597, 11.78827317, 11.9831536 , 12.05828947,\n",
       "       11.70976085, 11.73641195, 11.85620458, 11.87019405, 12.49246269,\n",
       "       11.42607938, 11.74525737, 12.76434962, 12.21237979, 12.00650101,\n",
       "       12.20398804, 12.06954157, 11.83428134, 11.67516998, 12.43545391,\n",
       "       12.39175459, 12.64969538, 12.03242514, 12.38592987, 11.74553255,\n",
       "       12.50253357, 12.57142635, 11.92823805, 11.99444053, 12.31176378,\n",
       "       12.42584142, 12.09586605, 11.66949336, 12.47287132, 12.31172886,\n",
       "       12.23858431, 11.86743133, 11.7652135 , 11.85734263, 11.94181723,\n",
       "       11.45982455, 11.90241014, 11.92658365, 11.9262068 , 12.07200911,\n",
       "       12.41168753, 11.91837369, 12.64114847, 11.22772638, 11.90807113,\n",
       "       11.89138116, 11.64038546, 11.68472037, 12.13032058, 12.3304846 ,\n",
       "       12.18955607, 12.10513878, 11.88982603, 12.11878376, 12.36389516,\n",
       "       12.23152212, 11.50648275, 11.80001172, 12.17598233, 11.8950921 ,\n",
       "       12.14636544, 12.10296546, 11.61925288, 11.12845936, 11.53839701,\n",
       "       11.9512544 , 12.17640822, 12.26328362, 11.84204681, 11.83751045,\n",
       "       11.84070532, 11.75500623, 11.64869292, 12.72488076, 11.81912198,\n",
       "       13.08023309, 12.76308402, 12.47268554, 11.80630494, 11.72582051,\n",
       "       11.34550363, 12.18883078, 12.22601702, 11.67898755, 12.45329824,\n",
       "       12.04490869, 12.23042293, 12.22024908, 11.84334835, 12.05814755,\n",
       "       11.73100584, 12.32375736, 12.07161069, 12.69850099, 11.84584719,\n",
       "       11.86579805, 11.68823254, 11.93833399, 11.99970995, 13.13305188,\n",
       "       12.09520855, 12.37861267, 12.12731885, 12.281232  , 12.27579896,\n",
       "       12.90974781, 12.03845178, 11.78753024, 12.11144703, 12.05729352,\n",
       "       11.612393  , 12.16122643, 11.78469914, 11.44670803, 11.61544453,\n",
       "       12.37503407, 11.66317491, 11.87534397, 11.89553279, 11.82911631,\n",
       "       12.17921885, 11.74965766, 11.96755458, 12.09663305, 12.60747322,\n",
       "       12.68513471, 12.52373327, 12.06726211, 12.04470913, 11.75277499,\n",
       "       11.74882416, 11.90655519, 11.67678493, 12.06008479, 11.69990441,\n",
       "       12.19704445, 11.81917696, 11.81711585, 11.87501707, 11.57082469,\n",
       "       11.60409581, 11.73013101, 12.34018041, 12.39215067, 12.42629436,\n",
       "       11.88725566, 11.70515555, 11.31805213, 11.48477249, 11.54520348,\n",
       "       11.24313008, 11.74967636, 12.3724405 , 11.95869624, 12.81338698,\n",
       "       11.86087165, 11.83380841, 12.55574226, 11.84859877, 11.87229454,\n",
       "       12.37747938, 12.34975221, 12.33116218, 12.52994796, 12.00027172,\n",
       "       11.72981296, 11.73350667, 11.75172711, 11.8271879 , 12.1981863 ,\n",
       "       12.15280816, 11.4272623 , 11.73321901, 11.5296681 , 11.60121667,\n",
       "       12.17838249, 11.760234  , 12.19484962, 11.70666251, 13.07540019,\n",
       "       11.80882286, 12.48528417, 12.04070313, 12.25704532, 11.71973253,\n",
       "       12.25180124, 11.03494483, 12.21496497, 12.14945977, 11.52702899,\n",
       "       11.94208354, 12.03249251, 11.62384749, 11.82591219, 12.66630031,\n",
       "       11.12486564, 11.83602926, 12.01270856, 11.30271839, 11.79753438,\n",
       "       11.71669654, 12.2885474 , 12.34652858, 12.91348289, 12.41308956,\n",
       "       11.51050416, 12.30991739, 11.77237856, 11.68774571, 12.43698341,\n",
       "       12.02773805, 11.81549123, 12.51777346, 11.8612735 , 12.84187558,\n",
       "       12.762869  , 11.92298362, 11.65561244, 11.04543358, 12.26387593,\n",
       "       11.80187394, 12.18147159, 11.96540291, 11.6409648 , 11.92074997,\n",
       "       12.77152382, 12.22183188, 12.06889951, 11.74466794, 11.81288464,\n",
       "       12.46293693, 11.52657084, 11.66207113, 11.86018337, 12.73461646,\n",
       "       12.04673119, 11.90927532, 11.88641003, 11.52086023, 12.54316108,\n",
       "       12.09021687, 12.26075953, 12.5184182 , 11.54915881, 11.55750687,\n",
       "       11.93112326, 11.40653415, 11.50813357, 12.25382026, 12.68233555,\n",
       "       12.34652396, 12.01752951, 12.84146781, 12.01233629, 12.07430237,\n",
       "       12.20996529, 11.900844  , 11.63169323, 12.33875999, 12.02950728,\n",
       "       12.14749077, 11.89936687, 11.6404808 , 12.54537739, 12.62475515,\n",
       "       11.43502672, 11.61673654, 11.88567404, 11.46068345, 11.84672019,\n",
       "       11.57007741, 12.09312304, 12.63385131, 11.87207949, 12.45883451,\n",
       "       11.81361454, 11.78116213, 11.81445883, 11.9364814 , 11.7193311 ,\n",
       "       12.09802277, 12.52326172, 12.26759422, 11.7171882 , 11.45137731,\n",
       "       11.87030193, 11.51496441, 11.90683449, 12.01760103, 12.09707271,\n",
       "       13.07394077, 12.33727685, 11.83295643, 12.37696262, 12.44541749,\n",
       "       11.83592929, 12.05238961, 11.80060332, 11.6449639 , 11.59278742,\n",
       "       11.47944833, 12.28405255, 12.05827155, 11.84188326, 12.31847568,\n",
       "       12.02679791, 12.08950019, 11.88698155, 11.40511249, 11.89862653,\n",
       "       11.76465853, 11.94686569, 13.14414415, 12.03541616, 12.17086318,\n",
       "       12.37790213, 12.17427169, 12.35356663, 12.15742623, 12.43223242,\n",
       "       12.15038207, 11.79007183, 12.1392886 , 11.64199041, 12.09748123,\n",
       "       11.96072362, 12.2234666 , 12.10749911, 11.96151118, 11.7261763 ,\n",
       "       11.50674156, 12.278687  , 11.88173883, 11.52739192, 12.38258998,\n",
       "       12.17397248, 12.75803914, 12.47538178, 11.45215787, 11.8720016 ,\n",
       "       11.87445189, 11.91334649, 12.17533166, 11.62588216, 12.18166265,\n",
       "       12.17729711, 12.51876366, 11.83243493, 12.05963659, 12.21615487,\n",
       "       12.32568784, 12.09907706, 12.08138627, 11.73387127, 11.90973464,\n",
       "       12.63877217, 11.74416327, 12.23847286, 12.49210882, 11.81517418,\n",
       "       11.85762934, 11.51496976, 12.24215248, 12.06859801, 12.19913556,\n",
       "       12.04081938, 11.65158303, 10.75052536, 12.6980552 , 12.55384347,\n",
       "       11.59433025, 11.80703747, 11.75842516, 11.99241104, 12.08269426,\n",
       "       11.7337762 , 11.24241157, 12.02423943, 11.86248123, 12.08336939,\n",
       "       11.68752242, 11.9731965 , 11.85518189, 13.01844346, 11.46755002,\n",
       "       12.74072447, 12.96207916, 12.16290106, 11.62516106, 11.96522577,\n",
       "       12.05999609, 11.83043745, 11.61802   , 12.18019262, 12.35753838,\n",
       "       12.28043285, 11.64719679, 12.34335586, 11.78493862, 12.2954237 ,\n",
       "       12.07100543, 12.18889356, 11.49874644, 12.07949559, 12.15064605,\n",
       "       12.19470814, 11.73544106, 11.79987137, 11.81884416, 11.93483327,\n",
       "       11.99249621, 11.70289847, 12.14560187, 11.41975748, 11.6583761 ,\n",
       "       12.18644197, 13.04523339, 12.66376493, 11.41404676, 11.58115646,\n",
       "       12.25433798, 12.46088092, 11.31082741, 12.27112748, 11.21068475,\n",
       "       12.87038541, 12.11979409, 12.14170886, 11.2879042 , 11.29314773,\n",
       "       11.92943139, 12.15170164, 12.3334009 , 11.85366162, 12.52760783,\n",
       "       11.72353932, 11.68189442, 11.77937723, 12.15419862, 12.10924751,\n",
       "       11.29892261, 11.42250035, 11.90456931, 12.13630623, 12.43495378,\n",
       "       11.88617709, 12.06129194, 11.77846759, 11.87719068, 12.57172651,\n",
       "       11.60520902, 11.98415964, 12.23217286, 11.90720185, 11.89547352])"
      ]
     },
     "execution_count": 104,
     "metadata": {},
     "output_type": "execute_result"
    }
   ],
   "source": [
    "pred_test_ridgecv"
   ]
  },
  {
   "cell_type": "code",
   "execution_count": 105,
   "id": "double-passion",
   "metadata": {},
   "outputs": [],
   "source": [
    "MAE_ridgecv = mean_absolute_error(y_test,pred_test_ridgecv)\n",
    "MSE_ridgecv = mean_squared_error(y_test,pred_test_ridgecv)\n",
    "RMSE_ridgecv = np.sqrt(MSE_ridge)"
   ]
  },
  {
   "cell_type": "code",
   "execution_count": 106,
   "id": "associate-highland",
   "metadata": {},
   "outputs": [
    {
     "data": {
      "text/plain": [
       "0.07945716714455307"
      ]
     },
     "execution_count": 106,
     "metadata": {},
     "output_type": "execute_result"
    }
   ],
   "source": [
    "MAE_ridgecv"
   ]
  },
  {
   "cell_type": "code",
   "execution_count": 107,
   "id": "specialized-migration",
   "metadata": {},
   "outputs": [
    {
     "data": {
      "text/plain": [
       "0.012876194021264468"
      ]
     },
     "execution_count": 107,
     "metadata": {},
     "output_type": "execute_result"
    }
   ],
   "source": [
    "MSE_ridgecv "
   ]
  },
  {
   "cell_type": "code",
   "execution_count": 108,
   "id": "primary-location",
   "metadata": {},
   "outputs": [
    {
     "data": {
      "text/plain": [
       "0.12553747274392227"
      ]
     },
     "execution_count": 108,
     "metadata": {},
     "output_type": "execute_result"
    }
   ],
   "source": [
    "RMSE_ridgecv "
   ]
  },
  {
   "cell_type": "code",
   "execution_count": 109,
   "id": "headed-defense",
   "metadata": {},
   "outputs": [],
   "source": [
    "def MAPE(y_test,pred_test_ridgecv):\n",
    "    mape = np.mean(np.abs((y_test - pred_test_elastic)/y_test))*100\n",
    "    return mape"
   ]
  },
  {
   "cell_type": "code",
   "execution_count": 110,
   "id": "cutting-definition",
   "metadata": {},
   "outputs": [],
   "source": [
    "LR_MAPEridgecv= MAPE(y_test,pred_test_ridgecv)"
   ]
  },
  {
   "cell_type": "code",
   "execution_count": 111,
   "id": "angry-mixture",
   "metadata": {},
   "outputs": [
    {
     "name": "stdout",
     "output_type": "stream",
     "text": [
      "MAPE:  2.5605779815934495\n"
     ]
    }
   ],
   "source": [
    "print(\"MAPE: \",LR_MAPEridgecv)"
   ]
  },
  {
   "cell_type": "code",
   "execution_count": 112,
   "id": "reflected-argument",
   "metadata": {},
   "outputs": [
    {
     "data": {
      "text/plain": [
       "<matplotlib.lines.Line2D at 0x18d42139a88>"
      ]
     },
     "execution_count": 112,
     "metadata": {},
     "output_type": "execute_result"
    },
    {
     "data": {
      "image/png": "[encoded data removed]",
      "text/plain": [
       "<Figure size 432x288 with 1 Axes>"
      ]
     },
     "metadata": {
      "needs_background": "light"
     },
     "output_type": "display_data"
    }
   ],
   "source": [
    "sns.scatterplot(x=y_test,y=pred_test_ridgecv)\n",
    "plt.axhline(y=0,color='magenta',linestyle='--')"
   ]
  },
  {
   "cell_type": "code",
   "execution_count": 113,
   "id": "lasting-chile",
   "metadata": {},
   "outputs": [
    {
     "data": {
      "image/png": "[encoded data removed]",
      "text/plain": [
       "<Figure size 1000x1200 with 1 Axes>"
      ]
     },
     "metadata": {
      "needs_background": "light"
     },
     "output_type": "display_data"
    }
   ],
   "source": [
    "fig,ax = plt.subplots(figsize=(10,12),dpi=100)\n",
    "\n",
    "_=sp.stats.probplot(pred_test_ridgecv,plot=ax)"
   ]
  },
  {
   "cell_type": "code",
   "execution_count": 114,
   "id": "ultimate-perth",
   "metadata": {},
   "outputs": [
    {
     "data": {
      "text/plain": [
       "92.0"
      ]
     },
     "execution_count": 114,
     "metadata": {},
     "output_type": "execute_result"
    }
   ],
   "source": [
    "accuracy7= round(r2_score(y_test, pred_test_ridgecv), 2)\n",
    "accuracy7= accuracy7 * 100\n",
    "accuracy7"
   ]
  },
  {
   "cell_type": "code",
   "execution_count": 115,
   "id": "delayed-dispatch",
   "metadata": {},
   "outputs": [
    {
     "name": "stdout",
     "output_type": "stream",
     "text": [
      "lasso:  2.6684416799011013 accuracy:  -0.0\n"
     ]
    }
   ],
   "source": [
    "print(\"lasso: \",LR_MAPElasso, \"accuracy: \",accuracy1)"
   ]
  },
  {
   "cell_type": "code",
   "execution_count": 116,
   "id": "finished-basin",
   "metadata": {},
   "outputs": [
    {
     "name": "stdout",
     "output_type": "stream",
     "text": [
      "lasso cv: \t 0.6487279177309184 accuracy:  93.0\n"
     ]
    }
   ],
   "source": [
    "print(\"lasso cv: \\t\",LR_MAPElassocv, \"accuracy: \",accuracy2)"
   ]
  },
  {
   "cell_type": "code",
   "execution_count": 117,
   "id": "filled-textbook",
   "metadata": {},
   "outputs": [
    {
     "name": "stdout",
     "output_type": "stream",
     "text": [
      "Linear regression\t 28497768113.488354 accuracy:  -5.405452287554689e+23\n"
     ]
    }
   ],
   "source": [
    "print(\"Linear regression\\t\",LR_MAPE, \"accuracy: \",accuracy3)\n"
   ]
  },
  {
   "cell_type": "code",
   "execution_count": 118,
   "id": "sought-smoke",
   "metadata": {},
   "outputs": [
    {
     "name": "stdout",
     "output_type": "stream",
     "text": [
      "Gridcv with elastic :\t 0.7074879503548946 accuracy:  91.0\n"
     ]
    }
   ],
   "source": [
    "print(\"Gridcv with elastic :\\t\",LR_MAPEgrid, \"accuracy: \",accuracy4)\n"
   ]
  },
  {
   "cell_type": "code",
   "execution_count": 119,
   "id": "initial-aging",
   "metadata": {},
   "outputs": [
    {
     "name": "stdout",
     "output_type": "stream",
     "text": [
      "ridge :\t 0.6824495266378408 accuracy:  89.0\n"
     ]
    }
   ],
   "source": [
    "print(\"ridge :\\t\",LR_MAPEridge, \"accuracy: \",accuracy5)\n"
   ]
  },
  {
   "cell_type": "code",
   "execution_count": 120,
   "id": "recognized-complement",
   "metadata": {},
   "outputs": [
    {
     "name": "stdout",
     "output_type": "stream",
     "text": [
      "elastic :\t 2.721873496477578 accuracy:  -0.0\n"
     ]
    }
   ],
   "source": [
    "print(\"elastic :\\t\",LR_MAPEelastic, \"accuracy: \",accuracy6)\n"
   ]
  },
  {
   "cell_type": "code",
   "execution_count": 121,
   "id": "grateful-algebra",
   "metadata": {},
   "outputs": [
    {
     "name": "stdout",
     "output_type": "stream",
     "text": [
      "ridge cv: \t 2.5605779815934495 accuracy:  92.0\n"
     ]
    }
   ],
   "source": [
    "print(\"ridge cv: \\t\",LR_MAPEridgecv, \"accuracy: \",accuracy7)"
   ]
  }
 ],
 "metadata": {
  "kernelspec": {
   "display_name": "Python 3",
   "language": "python",
   "name": "python3"
  },
  "language_info": {
   "codemirror_mode": {
    "name": "ipython",
    "version": 3
   },
   "file_extension": ".py",
   "mimetype": "text/x-python",
   "name": "python",
   "nbconvert_exporter": "python",
   "pygments_lexer": "ipython3",
   "version": "3.7.10"
  }
 },
 "nbformat": 4,
 "nbformat_minor": 5
}
